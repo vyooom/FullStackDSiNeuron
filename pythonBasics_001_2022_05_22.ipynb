{
 "cells": [
  {
   "cell_type": "raw",
   "id": "37eef345",
   "metadata": {},
   "source": [
    "1. In the below elements which of them are values or an expression? eg:- values can be integer or string and expressions will be mathematical operators.\n",
    "*\n",
    "'hello'\n",
    "-87.8\n",
    "-\n",
    "/\n",
    "+\n",
    "6\n",
    "\n",
    "2. What is the difference between string and variable?\n",
    "\n",
    "3. Describe three different data types.\n",
    "\n",
    "4. What is an expression made up of? What do all expressions do?\n",
    "5. This assignment statements, like spam = 10. What is the difference between an\n",
    "expression and a statement?\n",
    "6. After running the following code, what does the variable bacon contain?\n",
    "bacon = 22\n",
    "bacon + 1\n",
    "\n",
    "7. What should the values of the following two terms be?\n",
    "'spam'+'spamspam'\n",
    "&#39;spam&#39; * 3\n",
    "\n",
    "8. Why is eggs a valid variable name while 100 is invalid?\n",
    "\n",
    "9. What three functions can be used to get the integer, floating-point number, or string\n",
    "version of a value?\n",
    "10. Why does this expression cause an error? How can you fix it?\n",
    "&#39;I have eaten &#39; + 99 + &#39; burritos.&#39;"
   ]
  },
  {
   "cell_type": "raw",
   "id": "86f21138",
   "metadata": {},
   "source": [
    "Question 1:\n",
    "1. In the below elements which of them are values or an expression? eg:- values can be integer or string and expressions will be mathematical operators.\n",
    "*\n",
    "'hello'\n",
    "-87.8\n",
    "-\n",
    "/\n",
    "+\n",
    "6\n",
    "\n",
    "\n",
    "Answer:\n",
    "Values: 'hello', -87.8, 6\n",
    "expressions: *, -,/,+"
   ]
  },
  {
   "cell_type": "raw",
   "id": "ab07a05e",
   "metadata": {},
   "source": [
    "Question 2: What is the difference between string and variable?\n",
    "\n",
    "Variable is anything which stores a value in a programming language. String is a special kind of variable which is denoted inside quotation marks. "
   ]
  },
  {
   "cell_type": "raw",
   "id": "9b785a2c",
   "metadata": {},
   "source": [
    "Question 3: Describe three different data types.\n",
    "They are:\n",
    "1. Numeric: These are the numbers/numericals on which we could perform mathematical operations. e.g. 1, 3.25. 2+6j\n",
    "2. strings: These are the lplain textual data representtated by putting quotation marks. It may contain letters, number, blanks etc. But because of quotation marks they will always be treated as plain text. e.g. 'abhi', 'rush12', '82'. etc\n",
    "3. Boolean: These data contain only True or False (1 or 0) value. They are use to denote the boolean state of a variable."
   ]
  },
  {
   "cell_type": "raw",
   "id": "07fa2821",
   "metadata": {},
   "source": [
    "Question 4: What is an expression made up of? What do all expressions do?\n",
    "\n",
    "Expressions are the way to evaluate the data. They return a value from the data provided. They could be strings or matematical operators as below.\n",
    "\n",
    "+   Addition\n",
    "-   Subtraction\n",
    "*   Multiplication\n",
    "/   Division\n",
    "**  Exponentiation\n",
    "//  Quotient \n",
    "%   Reminder "
   ]
  },
  {
   "cell_type": "raw",
   "id": "2b90065c",
   "metadata": {},
   "source": [
    "Question 5: This assignment statements, like spam = 10. What is the difference between an expression and a statement?\n",
    "\n",
    "Expression is a way to evaluate data, whereas statements are the way to take some action by the computer. \n",
    "Here spam = 10, assins value of 10 to the variable spam, this is an action hence its a statement.\n",
    "Whereas doing spam*2 will return 20, which is a way to evaluate spam hence its an expression."
   ]
  },
  {
   "cell_type": "raw",
   "id": "ed897aed",
   "metadata": {},
   "source": [
    "Question 6:\n",
    "After running the following code, what does the variable bacon contain?\n",
    "bacon = 22\n",
    "bacon + 1\n",
    "Answer: 22 (code below)"
   ]
  },
  {
   "cell_type": "code",
   "execution_count": 2,
   "id": "0e8ed32d",
   "metadata": {},
   "outputs": [
    {
     "data": {
      "text/plain": [
       "23"
      ]
     },
     "execution_count": 2,
     "metadata": {},
     "output_type": "execute_result"
    }
   ],
   "source": [
    "bacon = 22\n",
    "bacon + 1"
   ]
  },
  {
   "cell_type": "code",
   "execution_count": 3,
   "id": "29394667",
   "metadata": {},
   "outputs": [
    {
     "data": {
      "text/plain": [
       "22"
      ]
     },
     "execution_count": 3,
     "metadata": {},
     "output_type": "execute_result"
    }
   ],
   "source": [
    "bacon"
   ]
  },
  {
   "cell_type": "raw",
   "id": "e1908f96",
   "metadata": {},
   "source": [
    "Question 7: \n",
    "7. What should the values of the following two terms be?\n",
    "'spam'+'spamspam'\n",
    "'spam' * 3"
   ]
  },
  {
   "cell_type": "code",
   "execution_count": 4,
   "id": "5679dbd9",
   "metadata": {},
   "outputs": [
    {
     "data": {
      "text/plain": [
       "'spamspamspam'"
      ]
     },
     "execution_count": 4,
     "metadata": {},
     "output_type": "execute_result"
    }
   ],
   "source": [
    "'spam'+'spamspam'"
   ]
  },
  {
   "cell_type": "code",
   "execution_count": 5,
   "id": "e8974cd5",
   "metadata": {},
   "outputs": [
    {
     "data": {
      "text/plain": [
       "'spamspamspam'"
      ]
     },
     "execution_count": 5,
     "metadata": {},
     "output_type": "execute_result"
    }
   ],
   "source": [
    "'spam'*3"
   ]
  },
  {
   "cell_type": "raw",
   "id": "3ace4b20",
   "metadata": {},
   "source": [
    "Question 8:Why is eggs a valid variable name while 100 is invalid?\n",
    "\n",
    "Answer: Variable names cannot start with numbers or special characters."
   ]
  },
  {
   "cell_type": "raw",
   "id": "ef50efc8",
   "metadata": {},
   "source": [
    "Question 9: \n",
    "9. What three functions can be used to get the integer, floating-point number, or string version of a value?\n",
    "Answer: int(), float(), str()"
   ]
  },
  {
   "cell_type": "code",
   "execution_count": 8,
   "id": "4eb07410",
   "metadata": {},
   "outputs": [
    {
     "data": {
      "text/plain": [
       "3"
      ]
     },
     "execution_count": 8,
     "metadata": {},
     "output_type": "execute_result"
    }
   ],
   "source": [
    "int('3')"
   ]
  },
  {
   "cell_type": "code",
   "execution_count": 9,
   "id": "de09ebcc",
   "metadata": {},
   "outputs": [
    {
     "data": {
      "text/plain": [
       "3.25"
      ]
     },
     "execution_count": 9,
     "metadata": {},
     "output_type": "execute_result"
    }
   ],
   "source": [
    "float('3.25')"
   ]
  },
  {
   "cell_type": "code",
   "execution_count": 10,
   "id": "874a8837",
   "metadata": {},
   "outputs": [
    {
     "data": {
      "text/plain": [
       "'45'"
      ]
     },
     "execution_count": 10,
     "metadata": {},
     "output_type": "execute_result"
    }
   ],
   "source": [
    "str(45)"
   ]
  },
  {
   "cell_type": "raw",
   "id": "3f442ba9",
   "metadata": {},
   "source": [
    "10. Why does this expression cause an error? How can you fix it?\n",
    "'I have eaten' + 99 ' burritos.'\n",
    "Answer\n",
    "The extra + sign and string and integer addition is causing errors. \n",
    "1. We can add double quotation  marks in the whole string after dropping + sign.\n",
    "2. we can convert 99 to string and adding an extra space after eaten and adding another + sign before buriots."
   ]
  },
  {
   "cell_type": "code",
   "execution_count": 11,
   "id": "10aff018",
   "metadata": {},
   "outputs": [
    {
     "ename": "SyntaxError",
     "evalue": "invalid syntax (189480822.py, line 1)",
     "output_type": "error",
     "traceback": [
      "\u001b[1;36m  Input \u001b[1;32mIn [11]\u001b[1;36m\u001b[0m\n\u001b[1;33m    'I have eaten' + 99 ' burritos.'\u001b[0m\n\u001b[1;37m                        ^\u001b[0m\n\u001b[1;31mSyntaxError\u001b[0m\u001b[1;31m:\u001b[0m invalid syntax\n"
     ]
    }
   ],
   "source": [
    "'I have eaten' + 99 ' burritos.'"
   ]
  },
  {
   "cell_type": "code",
   "execution_count": 17,
   "id": "de5c158b",
   "metadata": {},
   "outputs": [
    {
     "data": {
      "text/plain": [
       "'I have eaten  99  burritos.'"
      ]
     },
     "execution_count": 17,
     "metadata": {},
     "output_type": "execute_result"
    }
   ],
   "source": [
    "\"I have eaten  99  burritos.\""
   ]
  },
  {
   "cell_type": "code",
   "execution_count": 16,
   "id": "fdce87b2",
   "metadata": {},
   "outputs": [
    {
     "data": {
      "text/plain": [
       "'I have eaten 99 burritos.'"
      ]
     },
     "execution_count": 16,
     "metadata": {},
     "output_type": "execute_result"
    }
   ],
   "source": [
    "'I have eaten ' + str(99) + ' burritos.'"
   ]
  },
  {
   "cell_type": "code",
   "execution_count": 18,
   "id": "23db8cdb",
   "metadata": {},
   "outputs": [
    {
     "data": {
      "text/plain": [
       "('I have eaten', '99', 'burritos.')"
      ]
     },
     "execution_count": 18,
     "metadata": {},
     "output_type": "execute_result"
    }
   ],
   "source": [
    "'I have eaten', str(99), 'burritos.'"
   ]
  },
  {
   "cell_type": "code",
   "execution_count": null,
   "id": "06d1d356",
   "metadata": {},
   "outputs": [],
   "source": []
  }
 ],
 "metadata": {
  "kernelspec": {
   "display_name": "Python 3 (ipykernel)",
   "language": "python",
   "name": "python3"
  },
  "language_info": {
   "codemirror_mode": {
    "name": "ipython",
    "version": 3
   },
   "file_extension": ".py",
   "mimetype": "text/x-python",
   "name": "python",
   "nbconvert_exporter": "python",
   "pygments_lexer": "ipython3",
   "version": "3.8.13"
  }
 },
 "nbformat": 4,
 "nbformat_minor": 5
}
