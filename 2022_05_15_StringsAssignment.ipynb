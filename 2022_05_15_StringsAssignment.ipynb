{
 "cells": [
  {
   "cell_type": "markdown",
   "id": "fa96fc70",
   "metadata": {},
   "source": [
    "### String Assignment of lecture dated 15th May 2022\n",
    "\n",
    "Name: Abhishek K. Mishra   \n",
    "email: mishra894@yahoo.com"
   ]
  },
  {
   "cell_type": "markdown",
   "id": "347d6fc0",
   "metadata": {},
   "source": [
    "### Assignment\n",
    "s = \"this is My First Python programming class and i am learNING python string and its function\"\n",
    "\n",
    "1 . Try to extract data from index one to index 300 with a jump of 3\n",
    "\n",
    "2. Try to reverse a string without using reverse function\n",
    "\n",
    "3. Try to split a string after conversion of entire string in uppercase\n",
    "\n",
    "4. try to convert the whole string into lower case\n",
    "\n",
    "5 . Try to capitalize the whole string\n",
    "\n",
    "6 . Write a diference between isalnum() and isalpha()\n",
    "\n",
    "7. Try to give an example of expand tab  \n",
    "\n",
    "8 . Give an example of strip , lstrip and rstrip  \n",
    "\n",
    "9. Replace a string charecter by another charector by taking your own example  \n",
    "\n",
    "10 . Try to give a defination of string center function with and exmple\n",
    "\n",
    "11 . Write your own definition of compiler and interpretor without copy paste form internet in your own language  \n",
    "\n",
    "12 . Python is a interpreted of compiled language give a clear ans with your understanding  \n",
    "\n",
    "13 . Try to write a usecase of python with your understanding  \n"
   ]
  },
  {
   "cell_type": "code",
   "execution_count": 1,
   "id": "3d2f6952",
   "metadata": {},
   "outputs": [],
   "source": [
    "s = \"this is My First Python programming class and i am learNING python string and its function\""
   ]
  },
  {
   "cell_type": "markdown",
   "id": "bd3558d4",
   "metadata": {},
   "source": [
    "###### Q1: Try to extract data from index 1 to index 300 with a jump of 3."
   ]
  },
  {
   "cell_type": "code",
   "execution_count": 2,
   "id": "4dfe2859",
   "metadata": {},
   "outputs": [
    {
     "data": {
      "text/plain": [
       "'h   r tnrrmglsnimeNGyosi dtfco'"
      ]
     },
     "execution_count": 2,
     "metadata": {},
     "output_type": "execute_result"
    }
   ],
   "source": [
    "s[1:300:3]"
   ]
  },
  {
   "cell_type": "markdown",
   "id": "2acc2629",
   "metadata": {},
   "source": [
    "###### Q2: Try to reverse a string without using reverse function"
   ]
  },
  {
   "cell_type": "code",
   "execution_count": 3,
   "id": "755f298f",
   "metadata": {},
   "outputs": [
    {
     "data": {
      "text/plain": [
       "'noitcnuf sti dna gnirts nohtyp GNINrael ma i dna ssalc gnimmargorp nohtyP tsriF yM si siht'"
      ]
     },
     "execution_count": 3,
     "metadata": {},
     "output_type": "execute_result"
    }
   ],
   "source": [
    "s[-1::-1]"
   ]
  },
  {
   "cell_type": "markdown",
   "id": "485450d2",
   "metadata": {},
   "source": [
    "###### Q3: Try to split a string after conversion of entire string in uppercase"
   ]
  },
  {
   "cell_type": "code",
   "execution_count": 5,
   "id": "69e83511",
   "metadata": {},
   "outputs": [
    {
     "data": {
      "text/plain": [
       "['THIS',\n",
       " 'IS',\n",
       " 'MY',\n",
       " 'FIRST',\n",
       " 'PYTHON',\n",
       " 'PROGRAMMING',\n",
       " 'CLASS',\n",
       " 'AND',\n",
       " 'I',\n",
       " 'AM',\n",
       " 'LEARNING',\n",
       " 'PYTHON',\n",
       " 'STRING',\n",
       " 'AND',\n",
       " 'ITS',\n",
       " 'FUNCTION']"
      ]
     },
     "execution_count": 5,
     "metadata": {},
     "output_type": "execute_result"
    }
   ],
   "source": [
    "s.upper().split(' ')"
   ]
  },
  {
   "cell_type": "markdown",
   "id": "ae09f2a6",
   "metadata": {},
   "source": [
    "###### Q4: try to convert the whole string into lower case"
   ]
  },
  {
   "cell_type": "code",
   "execution_count": 6,
   "id": "45856bc9",
   "metadata": {},
   "outputs": [
    {
     "data": {
      "text/plain": [
       "'this is my first python programming class and i am learning python string and its function'"
      ]
     },
     "execution_count": 6,
     "metadata": {},
     "output_type": "execute_result"
    }
   ],
   "source": [
    "s.lower()"
   ]
  },
  {
   "cell_type": "markdown",
   "id": "b4e7385d",
   "metadata": {},
   "source": [
    "###### Q5: try to convert the whole string into lower case.     \n",
    "\n",
    "\n",
    "If capitalize means only using first letter as capital than capitalize function will be used or if it means to capitalize the each word than title function will be used."
   ]
  },
  {
   "cell_type": "code",
   "execution_count": 7,
   "id": "ddf8f0e7",
   "metadata": {},
   "outputs": [
    {
     "data": {
      "text/plain": [
       "'This is my first python programming class and i am learning python string and its function'"
      ]
     },
     "execution_count": 7,
     "metadata": {},
     "output_type": "execute_result"
    }
   ],
   "source": [
    "s.capitalize()"
   ]
  },
  {
   "cell_type": "code",
   "execution_count": 8,
   "id": "18f88865",
   "metadata": {},
   "outputs": [
    {
     "data": {
      "text/plain": [
       "'This Is My First Python Programming Class And I Am Learning Python String And Its Function'"
      ]
     },
     "execution_count": 8,
     "metadata": {},
     "output_type": "execute_result"
    }
   ],
   "source": [
    "s.title()"
   ]
  },
  {
   "cell_type": "markdown",
   "id": "64f6c70b",
   "metadata": {},
   "source": [
    "###### Q7: Write a diference between isalnum() and isalpha()."
   ]
  },
  {
   "cell_type": "markdown",
   "id": "353abdfe",
   "metadata": {},
   "source": [
    "##### isalnum()   \n",
    "This functions checks if the string contains an integer value or an alphabet or both and returns True if correct. It return False if special characters are present.\n",
    "\n",
    "##### isalpha()      \n",
    "This function checks if the string contains an alphabet only and return True if correct. It return False if special characters are present."
   ]
  },
  {
   "cell_type": "code",
   "execution_count": 9,
   "id": "e14f4d07",
   "metadata": {},
   "outputs": [
    {
     "data": {
      "text/plain": [
       "False"
      ]
     },
     "execution_count": 9,
     "metadata": {},
     "output_type": "execute_result"
    }
   ],
   "source": [
    "s.isalpha()"
   ]
  },
  {
   "cell_type": "code",
   "execution_count": 10,
   "id": "f3c484f0",
   "metadata": {},
   "outputs": [],
   "source": [
    "a = 'abhi'"
   ]
  },
  {
   "cell_type": "code",
   "execution_count": 11,
   "id": "61ada6ac",
   "metadata": {},
   "outputs": [
    {
     "data": {
      "text/plain": [
       "True"
      ]
     },
     "execution_count": 11,
     "metadata": {},
     "output_type": "execute_result"
    }
   ],
   "source": [
    "a.isalpha()"
   ]
  },
  {
   "cell_type": "code",
   "execution_count": 12,
   "id": "002fd100",
   "metadata": {},
   "outputs": [
    {
     "data": {
      "text/plain": [
       "True"
      ]
     },
     "execution_count": 12,
     "metadata": {},
     "output_type": "execute_result"
    }
   ],
   "source": [
    "a.isalnum()"
   ]
  },
  {
   "cell_type": "code",
   "execution_count": 13,
   "id": "800ad9a5",
   "metadata": {},
   "outputs": [
    {
     "data": {
      "text/plain": [
       "False"
      ]
     },
     "execution_count": 13,
     "metadata": {},
     "output_type": "execute_result"
    }
   ],
   "source": [
    "b = 'abhi mishra'\n",
    "b.isalpha()"
   ]
  },
  {
   "cell_type": "markdown",
   "id": "b669de00",
   "metadata": {},
   "source": [
    "###### Q8: Try to give an example of expand tab."
   ]
  },
  {
   "cell_type": "code",
   "execution_count": 14,
   "id": "4db8a6e6",
   "metadata": {},
   "outputs": [
    {
     "data": {
      "text/plain": [
       "'abhi    mishra'"
      ]
     },
     "execution_count": 14,
     "metadata": {},
     "output_type": "execute_result"
    }
   ],
   "source": [
    "a= 'abhi\\tmishra'\n",
    "a.expandtabs()"
   ]
  },
  {
   "cell_type": "markdown",
   "id": "b3dc1fb8",
   "metadata": {},
   "source": [
    "If it encounters a tab notation '\\t' within a string it expands the tab using spaces."
   ]
  },
  {
   "cell_type": "markdown",
   "id": "48da2401",
   "metadata": {},
   "source": [
    "###### Q9: Give an example of strip , lstrip and rstrip."
   ]
  },
  {
   "cell_type": "code",
   "execution_count": 15,
   "id": "a1ce9c7a",
   "metadata": {},
   "outputs": [],
   "source": [
    "a = '   abhishek mishra   '"
   ]
  },
  {
   "cell_type": "code",
   "execution_count": 16,
   "id": "c4dda71d",
   "metadata": {},
   "outputs": [
    {
     "data": {
      "text/plain": [
       "'abhishek mishra'"
      ]
     },
     "execution_count": 16,
     "metadata": {},
     "output_type": "execute_result"
    }
   ],
   "source": [
    "# strip() strips both the left & right white spaces, doesn't touch the in between whitespace\n",
    "a.strip()"
   ]
  },
  {
   "cell_type": "code",
   "execution_count": 17,
   "id": "1a9eacd4",
   "metadata": {},
   "outputs": [
    {
     "data": {
      "text/plain": [
       "'abhishek mishra   '"
      ]
     },
     "execution_count": 17,
     "metadata": {},
     "output_type": "execute_result"
    }
   ],
   "source": [
    "# lstrip() strips only left side whitespaces\n",
    "a.lstrip()"
   ]
  },
  {
   "cell_type": "code",
   "execution_count": 18,
   "id": "0a3c1b3d",
   "metadata": {},
   "outputs": [
    {
     "data": {
      "text/plain": [
       "'   abhishek mishra'"
      ]
     },
     "execution_count": 18,
     "metadata": {},
     "output_type": "execute_result"
    }
   ],
   "source": [
    "# rstrip() strips only right side whitespaces\n",
    "a.rstrip()"
   ]
  },
  {
   "cell_type": "markdown",
   "id": "48599539",
   "metadata": {},
   "source": [
    "###### Q10: Try to give a defination of string center function with and exmple"
   ]
  },
  {
   "cell_type": "markdown",
   "id": "e4430d64",
   "metadata": {},
   "source": [
    "The center() function first allocates the space for a string. It then, fixes the string in the center and pads/fills the supplied character in the remainning space out of the allocated space. "
   ]
  },
  {
   "cell_type": "code",
   "execution_count": 21,
   "id": "0e79d886",
   "metadata": {},
   "outputs": [
    {
     "data": {
      "text/plain": [
       "'$$$$$$ abhishek mishra $$$$$$$'"
      ]
     },
     "execution_count": 21,
     "metadata": {},
     "output_type": "execute_result"
    }
   ],
   "source": [
    "a = ' abhishek mishra '\n",
    "a.center(30,'$')"
   ]
  },
  {
   "cell_type": "markdown",
   "id": "153b0529",
   "metadata": {},
   "source": [
    "###### Q11: Write your own definition of compiler and interpretor without copy paste form internet in your own language."
   ]
  },
  {
   "cell_type": "markdown",
   "id": "93e03128",
   "metadata": {},
   "source": [
    "Compiler scans the whole program/code and diretly translates it into the machine code for execution. Its like providing a translated copy of a Spanish novel in english.  \n",
    "\n",
    "Interpreter is a directly executes the program line by line without converting it into a machine code. Its like translating a novel line by line from Spanish to English.  "
   ]
  },
  {
   "cell_type": "markdown",
   "id": "e12a28f9",
   "metadata": {},
   "source": [
    "###### Q12: Python is a interpreted or compiled language give a clear ans with your understanding?"
   ]
  },
  {
   "cell_type": "markdown",
   "id": "c26ce8c1",
   "metadata": {},
   "source": [
    "Python is an interpreted language as the code is executed line by line. As we have seen till today's class that, even with the error in second line code can be executed till the first line in Python."
   ]
  },
  {
   "cell_type": "markdown",
   "id": "c890466f",
   "metadata": {},
   "source": [
    "###### Q13: Try to write a usecase of python with your understanding."
   ]
  },
  {
   "cell_type": "markdown",
   "id": "ba993c98",
   "metadata": {},
   "source": [
    "Python is used for:\n",
    "- Data Science\n",
    "- AI & Machine Learning\n",
    "- Web development\n",
    "- Web Scrapping\n",
    "- Computations\n",
    "- Data Management"
   ]
  },
  {
   "cell_type": "code",
   "execution_count": null,
   "id": "d97d3d0c",
   "metadata": {},
   "outputs": [],
   "source": []
  }
 ],
 "metadata": {
  "kernelspec": {
   "display_name": "Python 3 (ipykernel)",
   "language": "python",
   "name": "python3"
  },
  "language_info": {
   "codemirror_mode": {
    "name": "ipython",
    "version": 3
   },
   "file_extension": ".py",
   "mimetype": "text/x-python",
   "name": "python",
   "nbconvert_exporter": "python",
   "pygments_lexer": "ipython3",
   "version": "3.8.13"
  }
 },
 "nbformat": 4,
 "nbformat_minor": 5
}
