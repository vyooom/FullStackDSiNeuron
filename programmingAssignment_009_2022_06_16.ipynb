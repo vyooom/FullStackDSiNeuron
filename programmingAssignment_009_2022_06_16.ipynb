{
 "cells": [
  {
   "cell_type": "markdown",
   "id": "b7d89003",
   "metadata": {},
   "source": [
    "1. Write a Python program to check if the given number is a Disarium Number?\n",
    "2. Write a Python program to print all disarium numbers between 1 to 100?\n",
    "3. Write a Python program to check if the given number is Happy Number?\n",
    "4. Write a Python program to print all happy numbers between 1 and 100?\n",
    "5. Write a Python program to determine whether the given number is a Harshad Number?\n",
    "6. Write a Python program to print all pronic numbers between 1 and 100?"
   ]
  },
  {
   "cell_type": "code",
   "execution_count": 1,
   "id": "fb4f7f70",
   "metadata": {},
   "outputs": [],
   "source": [
    "#Q1. Write a Python program to check if the given number is a Disarium Number?\n",
    "\n",
    "def disarium(n):\n",
    "    '''A number is disarium if its sum is equal to the \n",
    "    sum of the digits raised to powers of its position'''\n",
    "    \n",
    "    s = str(n)\n",
    "    agg = 0\n",
    "    for i in range(len(s)):\n",
    "        agg = agg +int(s[i])**(i+1)\n",
    "    return bool(agg == n)"
   ]
  },
  {
   "cell_type": "code",
   "execution_count": 2,
   "id": "fe4a6731",
   "metadata": {},
   "outputs": [
    {
     "data": {
      "text/plain": [
       "False"
      ]
     },
     "execution_count": 2,
     "metadata": {},
     "output_type": "execute_result"
    }
   ],
   "source": [
    "disarium(14)"
   ]
  },
  {
   "cell_type": "code",
   "execution_count": 3,
   "id": "601cc65c",
   "metadata": {},
   "outputs": [
    {
     "data": {
      "text/plain": [
       "True"
      ]
     },
     "execution_count": 3,
     "metadata": {},
     "output_type": "execute_result"
    }
   ],
   "source": [
    "disarium(135)"
   ]
  },
  {
   "cell_type": "code",
   "execution_count": 4,
   "id": "3db24c29",
   "metadata": {},
   "outputs": [],
   "source": [
    "#Q2.Write a Python program to print all disarium numbers between 1 to 100?\n",
    "\n",
    "def all_desarium(a, b):\n",
    "    '''Prints all the desarium numbers between a and b, with b>a'''\n",
    "    for i in range(a, b+1):\n",
    "        s = str(i)\n",
    "        agg = 0\n",
    "        for j in range(len(s)):\n",
    "            agg += int(s[j])**(j+1)\n",
    "        if agg == i:\n",
    "            print(i, end = ',')"
   ]
  },
  {
   "cell_type": "code",
   "execution_count": 5,
   "id": "e5f135a4",
   "metadata": {},
   "outputs": [
    {
     "name": "stdout",
     "output_type": "stream",
     "text": [
      "1,2,3,4,5,6,7,8,9,89,"
     ]
    }
   ],
   "source": [
    "all_desarium(1,100)"
   ]
  },
  {
   "cell_type": "code",
   "execution_count": 6,
   "id": "bc8bb08b",
   "metadata": {},
   "outputs": [],
   "source": [
    "#Q3. Write a Python program to check if the given number is Happy Number?\n",
    "\n",
    "def happy(n):\n",
    "    '''A number is happy if the recurring sum of squares of the digits \n",
    "        converges to 1.'''\n",
    "    # function to calculate the sum of squares of a digit\n",
    "    \n",
    "    def sumSquare(p):\n",
    "        a = str(p)\n",
    "        s = 0\n",
    "        for i in range(len(a)):\n",
    "            s += int(a[i])**2\n",
    "        return s\n",
    "    while (n):\n",
    "        b = str(n)\n",
    "        if len(b) == 1:\n",
    "            if int(b) == 1:\n",
    "                return print('The number is a happy number.')\n",
    "            else:\n",
    "                return print('The number is not a happy number.')\n",
    "        else:\n",
    "            n = sumSquare(n)\n",
    "            "
   ]
  },
  {
   "cell_type": "code",
   "execution_count": 7,
   "id": "2bbea08b",
   "metadata": {},
   "outputs": [
    {
     "name": "stdout",
     "output_type": "stream",
     "text": [
      "The number is a happy number.\n"
     ]
    }
   ],
   "source": [
    "happy(19)"
   ]
  },
  {
   "cell_type": "code",
   "execution_count": 8,
   "id": "ae8dec78",
   "metadata": {},
   "outputs": [
    {
     "name": "stdout",
     "output_type": "stream",
     "text": [
      "The number is not a happy number.\n"
     ]
    }
   ],
   "source": [
    "happy(12)"
   ]
  },
  {
   "cell_type": "code",
   "execution_count": 9,
   "id": "cd9cc15e",
   "metadata": {},
   "outputs": [],
   "source": [
    "#Q4. Write a Python program to print all happy numbers between 1 and 100?\n",
    "\n",
    "def all_happy(a,b):\n",
    "    '''A number is happy if the recurring sum of squares of the digits \n",
    "        converges to 1.'''\n",
    "    \n",
    "    # function to calculate the sum of squares of a digit\n",
    "    \n",
    "    def sumSquare(p):\n",
    "        a = str(p)\n",
    "        s = 0\n",
    "        for i in range(len(a)):\n",
    "            s += int(a[i])**2\n",
    "        return s\n",
    "    import copy\n",
    "    \n",
    "    for i in range(a, b+1):\n",
    "        # iteration for the numbers \n",
    "        # c is a check indicator for i is happy\n",
    "        c = 0\n",
    "        \n",
    "        # making a deep copy of i so that it could be used in while loop without affecting the i\n",
    "        n = copy.deepcopy(i)\n",
    "        \n",
    "        while (n):\n",
    "            b = str(n)\n",
    "            if len(b) == 1:\n",
    "                if int(b) == 1:\n",
    "                    c = 1\n",
    "                    break\n",
    "                else:\n",
    "                    c = 0\n",
    "                    break\n",
    "            else:\n",
    "                n = sumSquare(n)\n",
    "        if c:\n",
    "            print(i, end = ', ')"
   ]
  },
  {
   "cell_type": "code",
   "execution_count": 10,
   "id": "795f6a1f",
   "metadata": {},
   "outputs": [
    {
     "name": "stdout",
     "output_type": "stream",
     "text": [
      "1, 10, 13, 19, 23, 28, 31, 32, 44, 49, 68, 70, 79, 82, 86, 91, 94, 97, 100, "
     ]
    }
   ],
   "source": [
    "all_happy(1,100)"
   ]
  },
  {
   "cell_type": "code",
   "execution_count": 11,
   "id": "c2d768d1",
   "metadata": {},
   "outputs": [],
   "source": [
    "#Q5. Write a Python program to determine whether the given number is a Harshad Number?\n",
    "\n",
    "def harshad(n):\n",
    "    '''If a number is divisble by sum of its digits its a harshad number.'''\n",
    "    s = 0\n",
    "    a = str(n)\n",
    "    for i in range(len(a)):\n",
    "        s += int(a[i])\n",
    "    if n%s == 0:\n",
    "        print('The number', n, 'is a Harshad Number!')\n",
    "    else:\n",
    "        print('Not a harshad number.')"
   ]
  },
  {
   "cell_type": "code",
   "execution_count": 12,
   "id": "78e95f04",
   "metadata": {},
   "outputs": [
    {
     "name": "stdout",
     "output_type": "stream",
     "text": [
      "The number 21 is a Harshad Number!\n"
     ]
    }
   ],
   "source": [
    "harshad(21)"
   ]
  },
  {
   "cell_type": "code",
   "execution_count": 13,
   "id": "01344160",
   "metadata": {},
   "outputs": [],
   "source": [
    "#Q6. Write a Python program to print all pronic numbers between 1 and 100?\n",
    "\n",
    "'''Pronics numbers are multiple of 2 consequtive numbers.\n",
    "    As one of the numbers will always be even, pronic numbers are only even.'''\n",
    "\n",
    "def all_pronics(a, b):\n",
    "    '''Prints all pronic numbers between a and b with a<b.'''\n",
    "    print('The Pronic numbers between', a, '&', b, 'are:')\n",
    "    for i in range(a, b+1):\n",
    "        if i%2 != 0:\n",
    "            pass\n",
    "        else:\n",
    "            if i == 0:\n",
    "                print(i, end = ', ')\n",
    "            else:\n",
    "                j = 0\n",
    "                while (j)*(j+1) <= i:\n",
    "                    if j*(j+1) == i:\n",
    "                        print(i, end= ', ')\n",
    "                        \n",
    "                    j += 1"
   ]
  },
  {
   "cell_type": "code",
   "execution_count": 14,
   "id": "7611a2af",
   "metadata": {},
   "outputs": [
    {
     "name": "stdout",
     "output_type": "stream",
     "text": [
      "The Pronic numbers between 1 & 100 are:\n",
      "2, 6, 12, 20, 30, 42, 56, 72, 90, "
     ]
    }
   ],
   "source": [
    "all_pronics(1,100)"
   ]
  },
  {
   "cell_type": "code",
   "execution_count": null,
   "id": "d9d1a4c8",
   "metadata": {},
   "outputs": [],
   "source": []
  }
 ],
 "metadata": {
  "kernelspec": {
   "display_name": "Python 3 (ipykernel)",
   "language": "python",
   "name": "python3"
  },
  "language_info": {
   "codemirror_mode": {
    "name": "ipython",
    "version": 3
   },
   "file_extension": ".py",
   "mimetype": "text/x-python",
   "name": "python",
   "nbconvert_exporter": "python",
   "pygments_lexer": "ipython3",
   "version": "3.8.13"
  }
 },
 "nbformat": 4,
 "nbformat_minor": 5
}
