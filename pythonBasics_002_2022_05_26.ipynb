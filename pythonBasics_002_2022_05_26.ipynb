{
 "cells": [
  {
   "cell_type": "markdown",
   "id": "83920564",
   "metadata": {},
   "source": [
    "Q1.What are the two values of the Boolean data type? How do you write them?\n",
    "Answer:\n",
    "The two boolean values are True and False"
   ]
  },
  {
   "cell_type": "code",
   "execution_count": 1,
   "id": "efa4fb76",
   "metadata": {},
   "outputs": [
    {
     "data": {
      "text/plain": [
       "True"
      ]
     },
     "execution_count": 1,
     "metadata": {},
     "output_type": "execute_result"
    }
   ],
   "source": [
    "True"
   ]
  },
  {
   "cell_type": "code",
   "execution_count": 2,
   "id": "54be3d81",
   "metadata": {},
   "outputs": [
    {
     "data": {
      "text/plain": [
       "False"
      ]
     },
     "execution_count": 2,
     "metadata": {},
     "output_type": "execute_result"
    }
   ],
   "source": [
    "False"
   ]
  },
  {
   "cell_type": "code",
   "execution_count": 3,
   "id": "8b6fdc0e",
   "metadata": {},
   "outputs": [
    {
     "data": {
      "text/plain": [
       "bool"
      ]
     },
     "execution_count": 3,
     "metadata": {},
     "output_type": "execute_result"
    }
   ],
   "source": [
    "type(True)"
   ]
  },
  {
   "cell_type": "markdown",
   "id": "e2023f22",
   "metadata": {},
   "source": [
    "Q2. What are the three different types of Boolean operators?\n",
    "Answer:\n",
    "They are:\n",
    "1. and\n",
    "2. or\n",
    "3. not"
   ]
  },
  {
   "cell_type": "markdown",
   "id": "e3abef77",
   "metadata": {},
   "source": [
    "Q3. Make a list of each Boolean operator&#39;s truth tables (i.e. every possible combination of Boolean values for the operator and what it evaluate ).\n",
    "\n",
    "Answer:\n",
    "and A(F,F,T,T) and B(F,T,F,T) Result (F,F,F,T)\n",
    "        \n",
    "    \n",
    "or A(F,F,T,T) or B(F,T,F,T) Result (F,T,T,T)\n",
    "        \n",
    "     \n",
    "not A(F,T) not(A) = (T, F) \n"
   ]
  },
  {
   "cell_type": "code",
   "execution_count": 4,
   "id": "bddb325b",
   "metadata": {},
   "outputs": [
    {
     "data": {
      "text/plain": [
       "False"
      ]
     },
     "execution_count": 4,
     "metadata": {},
     "output_type": "execute_result"
    }
   ],
   "source": [
    "a = True\n",
    "not(a)"
   ]
  },
  {
   "cell_type": "markdown",
   "id": "a7205fae",
   "metadata": {},
   "source": [
    "Q4. What are the values of the following expressions?"
   ]
  },
  {
   "cell_type": "code",
   "execution_count": 5,
   "id": "92d9a199",
   "metadata": {},
   "outputs": [
    {
     "data": {
      "text/plain": [
       "False"
      ]
     },
     "execution_count": 5,
     "metadata": {},
     "output_type": "execute_result"
    }
   ],
   "source": [
    "(5>4) and (3==5)"
   ]
  },
  {
   "cell_type": "code",
   "execution_count": 6,
   "id": "11245b84",
   "metadata": {},
   "outputs": [
    {
     "data": {
      "text/plain": [
       "False"
      ]
     },
     "execution_count": 6,
     "metadata": {},
     "output_type": "execute_result"
    }
   ],
   "source": [
    "not(5>4)"
   ]
  },
  {
   "cell_type": "code",
   "execution_count": 7,
   "id": "05991484",
   "metadata": {},
   "outputs": [
    {
     "data": {
      "text/plain": [
       "True"
      ]
     },
     "execution_count": 7,
     "metadata": {},
     "output_type": "execute_result"
    }
   ],
   "source": [
    "(5>4) or (3==5) "
   ]
  },
  {
   "cell_type": "code",
   "execution_count": 9,
   "id": "c00f42a1",
   "metadata": {},
   "outputs": [
    {
     "data": {
      "text/plain": [
       "False"
      ]
     },
     "execution_count": 9,
     "metadata": {},
     "output_type": "execute_result"
    }
   ],
   "source": [
    "not ((5 > 4) or (3 == 5))"
   ]
  },
  {
   "cell_type": "code",
   "execution_count": 10,
   "id": "df1acbef",
   "metadata": {},
   "outputs": [
    {
     "data": {
      "text/plain": [
       "False"
      ]
     },
     "execution_count": 10,
     "metadata": {},
     "output_type": "execute_result"
    }
   ],
   "source": [
    "(True and True) and (True == False)"
   ]
  },
  {
   "cell_type": "code",
   "execution_count": 11,
   "id": "ce05868d",
   "metadata": {},
   "outputs": [
    {
     "data": {
      "text/plain": [
       "True"
      ]
     },
     "execution_count": 11,
     "metadata": {},
     "output_type": "execute_result"
    }
   ],
   "source": [
    "(not False) or (not True)"
   ]
  },
  {
   "cell_type": "markdown",
   "id": "348c7be8",
   "metadata": {},
   "source": [
    "Q5. What are the six comparison operators?\n",
    "Answer   \n",
    "'>'     \n",
    "'<'     \n",
    "'>='     \n",
    "'<='      \n",
    "'=='      \n",
    "'!='       "
   ]
  },
  {
   "cell_type": "markdown",
   "id": "e52b292f",
   "metadata": {},
   "source": [
    "Q6. How do you tell the difference between the equal to and assignment operators?Describe a condition and when you would use one.   \n",
    "Answer:  \n",
    "equal to operator ==    \n",
    "assignment operator =    \n",
    "\n",
    "Assignment operator when comparing two values     \n",
    "\n",
    "and equal to when assigning a value to a variable   "
   ]
  },
  {
   "cell_type": "markdown",
   "id": "bf4ce6b5",
   "metadata": {},
   "source": [
    "Q7. Identify the three blocks in this code:\n",
    "Answer: The blocks of code or "
   ]
  },
  {
   "cell_type": "code",
   "execution_count": 12,
   "id": "356f0346",
   "metadata": {},
   "outputs": [
    {
     "name": "stdout",
     "output_type": "stream",
     "text": [
      "ham\n",
      "spam\n",
      "spam\n"
     ]
    }
   ],
   "source": [
    "spam = 0\n",
    "# block 1\n",
    "if spam == 10:\n",
    "    print(\"eggs\")\n",
    "# block 2    \n",
    "if spam > 5:\n",
    "    print(\"bacon\")\n",
    "# block 3    \n",
    "else:\n",
    "    print(\"ham\")\n",
    "    print(\"spam\")\n",
    "    print(\"spam\")"
   ]
  },
  {
   "cell_type": "markdown",
   "id": "7903640a",
   "metadata": {},
   "source": [
    "Q8. Write code that prints Hello if 1 is stored in spam, prints Howdy if 2 is stored in spam, and prints Greetings! if anything else is stored in spam.\n",
    "\n",
    "Answer:"
   ]
  },
  {
   "cell_type": "code",
   "execution_count": 13,
   "id": "c247f129",
   "metadata": {},
   "outputs": [
    {
     "name": "stdout",
     "output_type": "stream",
     "text": [
      "Greetings!\n"
     ]
    }
   ],
   "source": [
    "spam = 3\n",
    "if spam == 1:\n",
    "    print(\"Hello\")\n",
    "elif spam == 2:\n",
    "    print(\"Howdy\")\n",
    "else:\n",
    "    print(\"Greetings!\")"
   ]
  },
  {
   "cell_type": "code",
   "execution_count": 14,
   "id": "ce394a46",
   "metadata": {},
   "outputs": [
    {
     "name": "stdout",
     "output_type": "stream",
     "text": [
      "Howdy\n"
     ]
    }
   ],
   "source": [
    "spam = 2\n",
    "if spam == 1:\n",
    "    print(\"Hello\")\n",
    "elif spam == 2:\n",
    "    print(\"Howdy\")\n",
    "else:\n",
    "    print(\"Greetings!\")"
   ]
  },
  {
   "cell_type": "markdown",
   "id": "3aed372b",
   "metadata": {},
   "source": [
    "Q9.If your programme is stuck in an endless loop, what keys you’ll press?   \n",
    "Answer:    \n",
    "Pressing i twice will interrupt the kernel in jupyter notebook.\n"
   ]
  },
  {
   "cell_type": "markdown",
   "id": "a2e9c880",
   "metadata": {},
   "source": [
    "Q10. How can you tell the difference between break and continue?     \n",
    "Answer:     \n",
    "break: interrupts the loop at the instance of event and come out of the loop     \n",
    "continue: interrupts the loop at the instanceo of the event and contimue with the loop    "
   ]
  },
  {
   "cell_type": "code",
   "execution_count": 4,
   "id": "9ac10e8f",
   "metadata": {},
   "outputs": [
    {
     "name": "stdout",
     "output_type": "stream",
     "text": [
      "0\n",
      "1\n",
      "2\n",
      "20\n"
     ]
    }
   ],
   "source": [
    "# break at the event\n",
    "# prints 20 & comes out of loop\n",
    "for i in range(0,5):\n",
    "    print(i)\n",
    "    if i==2:\n",
    "        print(i*10)\n",
    "        break"
   ]
  },
  {
   "cell_type": "code",
   "execution_count": 5,
   "id": "d863d9ad",
   "metadata": {},
   "outputs": [
    {
     "name": "stdout",
     "output_type": "stream",
     "text": [
      "0\n",
      "1\n",
      "2\n",
      "20\n",
      "3\n",
      "4\n"
     ]
    }
   ],
   "source": [
    "# continue at the event\n",
    "# prints 20 and continue with loop\n",
    "for i in range(0,5):\n",
    "    print(i)\n",
    "    if i==2:\n",
    "        print(i*10)\n",
    "        continue"
   ]
  },
  {
   "cell_type": "markdown",
   "id": "91aef62b",
   "metadata": {},
   "source": [
    "Q11. In a for loop, what is the difference between range(10), range(0, 10), and range(0, 10, 1)?     \n",
    "Answer:     \n",
    "No difference     "
   ]
  },
  {
   "cell_type": "code",
   "execution_count": 6,
   "id": "c5670493",
   "metadata": {},
   "outputs": [
    {
     "data": {
      "text/plain": [
       "range(0, 10)"
      ]
     },
     "execution_count": 6,
     "metadata": {},
     "output_type": "execute_result"
    }
   ],
   "source": [
    "range(10)"
   ]
  },
  {
   "cell_type": "code",
   "execution_count": 7,
   "id": "b696c910",
   "metadata": {},
   "outputs": [
    {
     "data": {
      "text/plain": [
       "range(0, 10)"
      ]
     },
     "execution_count": 7,
     "metadata": {},
     "output_type": "execute_result"
    }
   ],
   "source": [
    "range(0,10)"
   ]
  },
  {
   "cell_type": "code",
   "execution_count": 8,
   "id": "2cbf833d",
   "metadata": {},
   "outputs": [
    {
     "data": {
      "text/plain": [
       "range(0, 10)"
      ]
     },
     "execution_count": 8,
     "metadata": {},
     "output_type": "execute_result"
    }
   ],
   "source": [
    "range(0,10,1)"
   ]
  },
  {
   "cell_type": "markdown",
   "id": "61e7342a",
   "metadata": {},
   "source": [
    "Q12. Write a short program that prints the numbers 1 to 10 using a for loop. Then write an equivalent program that prints the numbers 1 to 10 using a while loop.   "
   ]
  },
  {
   "cell_type": "code",
   "execution_count": 9,
   "id": "5973d250",
   "metadata": {},
   "outputs": [
    {
     "name": "stdout",
     "output_type": "stream",
     "text": [
      "1\n",
      "2\n",
      "3\n",
      "4\n",
      "5\n",
      "6\n",
      "7\n",
      "8\n",
      "9\n",
      "10\n"
     ]
    }
   ],
   "source": [
    "# for loop\n",
    "for i in range(1,11):\n",
    "    print(i)"
   ]
  },
  {
   "cell_type": "code",
   "execution_count": 12,
   "id": "efd4740c",
   "metadata": {},
   "outputs": [
    {
     "name": "stdout",
     "output_type": "stream",
     "text": [
      "1\n",
      "2\n",
      "3\n",
      "4\n",
      "5\n",
      "6\n",
      "7\n",
      "8\n",
      "9\n",
      "10\n"
     ]
    }
   ],
   "source": [
    "# while loop\n",
    "a = 1\n",
    "while a <11:\n",
    "    print(a)\n",
    "    a += 1"
   ]
  },
  {
   "cell_type": "markdown",
   "id": "0af7e87e",
   "metadata": {},
   "source": [
    "Q13. If you had a function named bacon() inside a module named spam, how would you call it after importing spam?    \n",
    "Answer:    \n",
    "from spam import bacon     \n",
    "bacon()     "
   ]
  },
  {
   "cell_type": "code",
   "execution_count": null,
   "id": "1e2eca8f",
   "metadata": {},
   "outputs": [],
   "source": []
  }
 ],
 "metadata": {
  "kernelspec": {
   "display_name": "Python 3 (ipykernel)",
   "language": "python",
   "name": "python3"
  },
  "language_info": {
   "codemirror_mode": {
    "name": "ipython",
    "version": 3
   },
   "file_extension": ".py",
   "mimetype": "text/x-python",
   "name": "python",
   "nbconvert_exporter": "python",
   "pygments_lexer": "ipython3",
   "version": "3.8.13"
  }
 },
 "nbformat": 4,
 "nbformat_minor": 5
}
