{
 "cells": [
  {
   "cell_type": "markdown",
   "id": "c1980e2e",
   "metadata": {},
   "source": [
    "Python Basics: Assignment 6 "
   ]
  },
  {
   "cell_type": "markdown",
   "id": "735893eb",
   "metadata": {},
   "source": [
    "Q1. What are escape characters, and how do you use them?\n",
    "\n",
    "Answer:\n",
    "The escape characters are special caraters to convey a different meaning then the literal character. For e.g. \\n conveys starting a new line. "
   ]
  },
  {
   "cell_type": "markdown",
   "id": "31571a30",
   "metadata": {},
   "source": [
    "Q2. What do the escape characters n and t stand for?   \n",
    "Answer:    \n",
    "n = new line    \n",
    "t = tab   "
   ]
  },
  {
   "cell_type": "markdown",
   "id": "0879e7a8",
   "metadata": {},
   "source": [
    "Q3. What is the way to include backslash characters in a string?   \n",
    "Answer:   \n",
    "If we want to print a single backslash \\ we have to use two backslashes \\\\\\ in conjugation\n"
   ]
  },
  {
   "cell_type": "code",
   "execution_count": 15,
   "id": "a57433a2",
   "metadata": {},
   "outputs": [
    {
     "name": "stdout",
     "output_type": "stream",
     "text": [
      "niw\\mmy\n"
     ]
    }
   ],
   "source": [
    "a = 'niw\\\\mmy'\n",
    "print(a)"
   ]
  },
  {
   "cell_type": "code",
   "execution_count": 16,
   "id": "a306c1a9",
   "metadata": {},
   "outputs": [
    {
     "data": {
      "text/plain": [
       "'niw\\\\mmy'"
      ]
     },
     "execution_count": 16,
     "metadata": {},
     "output_type": "execute_result"
    }
   ],
   "source": [
    "a"
   ]
  },
  {
   "cell_type": "markdown",
   "id": "7a77719d",
   "metadata": {},
   "source": [
    "Q4. The string \"Howl's Moving Castle\" is a correct value. Why isn't the single quote character in the word Howl's not escaped a problem?   \n",
    "Answer:   \n",
    "Because the whole character string is put between double quotes."
   ]
  },
  {
   "cell_type": "code",
   "execution_count": 17,
   "id": "d7ccfd20",
   "metadata": {},
   "outputs": [
    {
     "data": {
      "text/plain": [
       "\"Howl's Moving Castle\""
      ]
     },
     "execution_count": 17,
     "metadata": {},
     "output_type": "execute_result"
    }
   ],
   "source": [
    "a = \"Howl's Moving Castle\"\n",
    "a"
   ]
  },
  {
   "cell_type": "markdown",
   "id": "7c7bd047",
   "metadata": {},
   "source": [
    "Q5. How do you write a string of newlines if you don't want to use the n character?    \n",
    "Answer:     \n",
    "We can use \"\"\" triple quote."
   ]
  },
  {
   "cell_type": "code",
   "execution_count": 19,
   "id": "4d878ae0",
   "metadata": {},
   "outputs": [
    {
     "data": {
      "text/plain": [
       "'This is a triple quote.\\nTo demonstrate a newline.\\nWithout using n character'"
      ]
     },
     "execution_count": 19,
     "metadata": {},
     "output_type": "execute_result"
    }
   ],
   "source": [
    "a = \"\"\"This is a triple quote.\n",
    "To demonstrate a newline.\n",
    "Without using n character\"\"\"\n",
    "\n",
    "a"
   ]
  },
  {
   "cell_type": "code",
   "execution_count": 20,
   "id": "1f84bdfc",
   "metadata": {},
   "outputs": [
    {
     "name": "stdout",
     "output_type": "stream",
     "text": [
      "This is a triple quote.\n",
      "To demonstrate a newline.\n",
      "Without using n character\n"
     ]
    }
   ],
   "source": [
    "print(a)"
   ]
  },
  {
   "cell_type": "markdown",
   "id": "f4079fc6",
   "metadata": {},
   "source": [
    "Q6. What are the values of the given expressions?  \n",
    "Answer:"
   ]
  },
  {
   "cell_type": "code",
   "execution_count": 21,
   "id": "6258274f",
   "metadata": {},
   "outputs": [
    {
     "data": {
      "text/plain": [
       "'e'"
      ]
     },
     "execution_count": 21,
     "metadata": {},
     "output_type": "execute_result"
    }
   ],
   "source": [
    "'Hello, world'[1]"
   ]
  },
  {
   "cell_type": "code",
   "execution_count": 22,
   "id": "351d920a",
   "metadata": {},
   "outputs": [
    {
     "data": {
      "text/plain": [
       "'Hello'"
      ]
     },
     "execution_count": 22,
     "metadata": {},
     "output_type": "execute_result"
    }
   ],
   "source": [
    "'Hello, world'[0:5]"
   ]
  },
  {
   "cell_type": "code",
   "execution_count": 23,
   "id": "f228ac97",
   "metadata": {},
   "outputs": [
    {
     "data": {
      "text/plain": [
       "'Hello'"
      ]
     },
     "execution_count": 23,
     "metadata": {},
     "output_type": "execute_result"
    }
   ],
   "source": [
    "'Hello, world'[:5]"
   ]
  },
  {
   "cell_type": "code",
   "execution_count": 24,
   "id": "599c3a92",
   "metadata": {},
   "outputs": [
    {
     "data": {
      "text/plain": [
       "'lo, world'"
      ]
     },
     "execution_count": 24,
     "metadata": {},
     "output_type": "execute_result"
    }
   ],
   "source": [
    "'Hello, world'[3:]"
   ]
  },
  {
   "cell_type": "markdown",
   "id": "5cdf1a17",
   "metadata": {},
   "source": [
    "Q7. What are the values of the following expressions?  \n",
    "Answer:\n"
   ]
  },
  {
   "cell_type": "code",
   "execution_count": 25,
   "id": "6497c650",
   "metadata": {},
   "outputs": [
    {
     "data": {
      "text/plain": [
       "'HELLO'"
      ]
     },
     "execution_count": 25,
     "metadata": {},
     "output_type": "execute_result"
    }
   ],
   "source": [
    "'Hello'.upper()"
   ]
  },
  {
   "cell_type": "code",
   "execution_count": 26,
   "id": "6491a2f7",
   "metadata": {},
   "outputs": [
    {
     "data": {
      "text/plain": [
       "True"
      ]
     },
     "execution_count": 26,
     "metadata": {},
     "output_type": "execute_result"
    }
   ],
   "source": [
    "'Hello'.upper().isupper()"
   ]
  },
  {
   "cell_type": "code",
   "execution_count": 27,
   "id": "02022c85",
   "metadata": {},
   "outputs": [
    {
     "data": {
      "text/plain": [
       "'hello'"
      ]
     },
     "execution_count": 27,
     "metadata": {},
     "output_type": "execute_result"
    }
   ],
   "source": [
    "'Hello'.upper().lower()"
   ]
  },
  {
   "cell_type": "markdown",
   "id": "f4f7ee6a",
   "metadata": {},
   "source": [
    "Q8. What are the values of the following expressions?  \n",
    "Answer:  \n"
   ]
  },
  {
   "cell_type": "code",
   "execution_count": 28,
   "id": "335cbe82",
   "metadata": {},
   "outputs": [
    {
     "data": {
      "text/plain": [
       "['Remember,', 'remember,', 'the', 'fifth', 'of', 'July']"
      ]
     },
     "execution_count": 28,
     "metadata": {},
     "output_type": "execute_result"
    }
   ],
   "source": [
    "'Remember, remember, the fifth of July'.split()"
   ]
  },
  {
   "cell_type": "code",
   "execution_count": 29,
   "id": "3bfaf5bd",
   "metadata": {},
   "outputs": [
    {
     "data": {
      "text/plain": [
       "'There-can-only-one.'"
      ]
     },
     "execution_count": 29,
     "metadata": {},
     "output_type": "execute_result"
    }
   ],
   "source": [
    "'-'.join('There can only one.'.split())"
   ]
  },
  {
   "cell_type": "markdown",
   "id": "3e4a2b28",
   "metadata": {},
   "source": [
    "Q9. What are the methods for right-justifying, left-justifying, and centering a string?  \n",
    "Answer:\n",
    "Using ljust, rjust & center methods"
   ]
  },
  {
   "cell_type": "code",
   "execution_count": 30,
   "id": "c76110da",
   "metadata": {},
   "outputs": [],
   "source": [
    "a = 'abhishek'"
   ]
  },
  {
   "cell_type": "code",
   "execution_count": 38,
   "id": "2b68c94f",
   "metadata": {},
   "outputs": [
    {
     "data": {
      "text/plain": [
       "'abhishek$$'"
      ]
     },
     "execution_count": 38,
     "metadata": {},
     "output_type": "execute_result"
    }
   ],
   "source": [
    "a.ljust(10, '$')"
   ]
  },
  {
   "cell_type": "code",
   "execution_count": 39,
   "id": "f746541f",
   "metadata": {},
   "outputs": [
    {
     "data": {
      "text/plain": [
       "'####abhishek###'"
      ]
     },
     "execution_count": 39,
     "metadata": {},
     "output_type": "execute_result"
    }
   ],
   "source": [
    "a.center(15, '#')"
   ]
  },
  {
   "cell_type": "code",
   "execution_count": 40,
   "id": "e54c53db",
   "metadata": {},
   "outputs": [
    {
     "data": {
      "text/plain": [
       "'*******abhishek'"
      ]
     },
     "execution_count": 40,
     "metadata": {},
     "output_type": "execute_result"
    }
   ],
   "source": [
    "a.rjust(15, '*')"
   ]
  },
  {
   "cell_type": "markdown",
   "id": "43612ad0",
   "metadata": {},
   "source": [
    "Q10. What is the best way to remove whitespace characters from the start or end?  \n",
    "Answer:  \n",
    "By using strip methods."
   ]
  },
  {
   "cell_type": "code",
   "execution_count": 41,
   "id": "48cab883",
   "metadata": {},
   "outputs": [],
   "source": [
    "a = '      abhi  mishra     '"
   ]
  },
  {
   "cell_type": "code",
   "execution_count": 42,
   "id": "c780035e",
   "metadata": {},
   "outputs": [
    {
     "data": {
      "text/plain": [
       "'abhi  mishra     '"
      ]
     },
     "execution_count": 42,
     "metadata": {},
     "output_type": "execute_result"
    }
   ],
   "source": [
    "a.lstrip()"
   ]
  },
  {
   "cell_type": "code",
   "execution_count": 43,
   "id": "4bae8296",
   "metadata": {},
   "outputs": [
    {
     "data": {
      "text/plain": [
       "'      abhi  mishra'"
      ]
     },
     "execution_count": 43,
     "metadata": {},
     "output_type": "execute_result"
    }
   ],
   "source": [
    "a.rstrip()"
   ]
  },
  {
   "cell_type": "code",
   "execution_count": 44,
   "id": "7a44bba1",
   "metadata": {},
   "outputs": [
    {
     "data": {
      "text/plain": [
       "'abhi  mishra'"
      ]
     },
     "execution_count": 44,
     "metadata": {},
     "output_type": "execute_result"
    }
   ],
   "source": [
    "a.strip()"
   ]
  },
  {
   "cell_type": "code",
   "execution_count": null,
   "id": "41cc4a3b",
   "metadata": {},
   "outputs": [],
   "source": []
  }
 ],
 "metadata": {
  "kernelspec": {
   "display_name": "Python 3 (ipykernel)",
   "language": "python",
   "name": "python3"
  },
  "language_info": {
   "codemirror_mode": {
    "name": "ipython",
    "version": 3
   },
   "file_extension": ".py",
   "mimetype": "text/x-python",
   "name": "python",
   "nbconvert_exporter": "python",
   "pygments_lexer": "ipython3",
   "version": "3.8.13"
  }
 },
 "nbformat": 4,
 "nbformat_minor": 5
}
