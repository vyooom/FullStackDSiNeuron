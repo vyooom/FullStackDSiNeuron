{
 "cells": [
  {
   "cell_type": "markdown",
   "id": "693a82b2",
   "metadata": {},
   "source": [
    "1. Why are functions advantageous to have in your programs?    \n",
    "Ans: They make the steps automatic and help in reducing repitition of same code.\n",
    "\n",
    "2. When does the code in a function run: when it's specified or when it's called?     \n",
    "Ans: When it's called.\n",
    "\n",
    "3. What statement creates a function?     \n",
    "Ans: def\n",
    "\n",
    "4. What is the difference between a function and a function call?     \n",
    "Ans: Function means a way to write short programs it starts with def. Whereas when we actually have to use the function we call the function using a function call.\n",
    "\n",
    "5. How many global scopes are there in a Python program? How many local scopes?    \n",
    "Ans: As many as we want. \n"
   ]
  },
  {
   "cell_type": "markdown",
   "id": "5e9935a7",
   "metadata": {},
   "source": [
    "6. What happens to variables in a local scope when the function call returns?   \n",
    "    Ans: It is deleted."
   ]
  },
  {
   "cell_type": "code",
   "execution_count": 12,
   "id": "73c19449",
   "metadata": {},
   "outputs": [
    {
     "name": "stdout",
     "output_type": "stream",
     "text": [
      "Local x is: 10\n",
      "x =  100\n"
     ]
    }
   ],
   "source": [
    "x = 100\n",
    "\n",
    "def a():\n",
    "    x = 10\n",
    "    print('Local x is:', x)\n",
    "\n",
    "a()\n",
    "print('x = ',x)"
   ]
  },
  {
   "cell_type": "markdown",
   "id": "633596e9",
   "metadata": {},
   "source": [
    "7. What is the concept of a return value? Is it possible to have a return value in an expression?   \n",
    "Ans: When we want a function to provide results, which needs to be used further we use the return value. Yes."
   ]
  },
  {
   "cell_type": "code",
   "execution_count": 7,
   "id": "efbfd786",
   "metadata": {},
   "outputs": [
    {
     "name": "stdout",
     "output_type": "stream",
     "text": [
      "6\n"
     ]
    }
   ],
   "source": [
    "def Ab(a,b):\n",
    "    return a*b\n",
    "\n",
    "n = Ab(2,3)\n",
    "print(n)"
   ]
  },
  {
   "cell_type": "markdown",
   "id": "20c4abf1",
   "metadata": {},
   "source": [
    "8. If a function does not have a return statement, what is the return value of a call to that function?     \n",
    "Ans: None"
   ]
  },
  {
   "cell_type": "code",
   "execution_count": 6,
   "id": "91cdf97d",
   "metadata": {},
   "outputs": [
    {
     "data": {
      "text/plain": [
       "NoneType"
      ]
     },
     "execution_count": 6,
     "metadata": {},
     "output_type": "execute_result"
    }
   ],
   "source": [
    "def Ex(a,b):\n",
    "    pass\n",
    "    \n",
    "a = Ex(2,3)\n",
    "type(a)"
   ]
  },
  {
   "cell_type": "markdown",
   "id": "46b726d7",
   "metadata": {},
   "source": [
    "9. How do you make a function variable refer to the global variable?    \n",
    "    Ans:  By using keyword global"
   ]
  },
  {
   "cell_type": "code",
   "execution_count": 14,
   "id": "8681382e",
   "metadata": {},
   "outputs": [
    {
     "name": "stdout",
     "output_type": "stream",
     "text": [
      "Local x is: 100\n",
      "Global x is: 100\n"
     ]
    }
   ],
   "source": [
    "x = 100\n",
    "\n",
    "def a():\n",
    "    global x\n",
    "    print('Local x is:', x)\n",
    "\n",
    "a()\n",
    "print('Global x is:', x)"
   ]
  },
  {
   "cell_type": "markdown",
   "id": "3df71c73",
   "metadata": {},
   "source": [
    "10. What is the data type of None?  \n",
    "Ans: NoneType"
   ]
  },
  {
   "cell_type": "code",
   "execution_count": 8,
   "id": "884b66e1",
   "metadata": {},
   "outputs": [
    {
     "data": {
      "text/plain": [
       "NoneType"
      ]
     },
     "execution_count": 8,
     "metadata": {},
     "output_type": "execute_result"
    }
   ],
   "source": [
    "type(None)"
   ]
  },
  {
   "cell_type": "markdown",
   "id": "7c564107",
   "metadata": {},
   "source": [
    "11. What does the sentence import areallyourpetsnamederic do?   \n",
    "\n",
    "Ans: Error"
   ]
  },
  {
   "cell_type": "code",
   "execution_count": 10,
   "id": "d8934fa2",
   "metadata": {},
   "outputs": [
    {
     "ename": "ModuleNotFoundError",
     "evalue": "No module named 'areallyourpetsnamederic'",
     "output_type": "error",
     "traceback": [
      "\u001b[1;31m---------------------------------------------------------------------------\u001b[0m",
      "\u001b[1;31mModuleNotFoundError\u001b[0m                       Traceback (most recent call last)",
      "Input \u001b[1;32mIn [10]\u001b[0m, in \u001b[0;36m<cell line: 1>\u001b[1;34m()\u001b[0m\n\u001b[1;32m----> 1\u001b[0m \u001b[38;5;28;01mimport\u001b[39;00m \u001b[38;5;21;01mareallyourpetsnamederic\u001b[39;00m\n",
      "\u001b[1;31mModuleNotFoundError\u001b[0m: No module named 'areallyourpetsnamederic'"
     ]
    }
   ],
   "source": [
    "import areallyourpetsnamederic "
   ]
  },
  {
   "cell_type": "markdown",
   "id": "5ebc26b7",
   "metadata": {},
   "source": [
    "12. If you had a bacon() feature in a spam module, what would you call it after importing spam?  \n",
    "Ans: spam.bacon()"
   ]
  },
  {
   "cell_type": "markdown",
   "id": "c48b85e8",
   "metadata": {},
   "source": [
    "13. What can you do to save a programme from crashing if it encounters an error?  \n",
    "\n",
    "Ans: Use Exception handling\n"
   ]
  },
  {
   "cell_type": "markdown",
   "id": "9df67cb2",
   "metadata": {},
   "source": [
    "14. What is the purpose of the try clause? What is the purpose of the except clause?  \n",
    "Ans: try: It is useful when the function is executed normally without any error.  \n",
    "     except: It is use for exception handling. If an error occurs the except clause helps in passing the control from try to except. "
   ]
  },
  {
   "cell_type": "code",
   "execution_count": null,
   "id": "7eed3d66",
   "metadata": {},
   "outputs": [],
   "source": []
  }
 ],
 "metadata": {
  "kernelspec": {
   "display_name": "Python 3 (ipykernel)",
   "language": "python",
   "name": "python3"
  },
  "language_info": {
   "codemirror_mode": {
    "name": "ipython",
    "version": 3
   },
   "file_extension": ".py",
   "mimetype": "text/x-python",
   "name": "python",
   "nbconvert_exporter": "python",
   "pygments_lexer": "ipython3",
   "version": "3.8.13"
  }
 },
 "nbformat": 4,
 "nbformat_minor": 5
}
