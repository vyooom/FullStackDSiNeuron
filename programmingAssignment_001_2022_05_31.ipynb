{
 "cells": [
  {
   "cell_type": "markdown",
   "id": "f62903b3",
   "metadata": {},
   "source": [
    "1. Write a Python program to print \"Hello Python\".\n",
    "2. Write a Python program to do arithmetical operations addition and division.?\n",
    "3. Write a Python program to find the area of a triangle?\n",
    "4. Write a Python program to swap two variables?\n",
    "5. Write a Python program to generate a random number?"
   ]
  },
  {
   "cell_type": "code",
   "execution_count": 1,
   "id": "c05d99a7",
   "metadata": {},
   "outputs": [],
   "source": [
    "#Q1. Write a Python program to print \"Hello Python\".\n",
    "def gretting():\n",
    "    print('Hello Python')"
   ]
  },
  {
   "cell_type": "code",
   "execution_count": 2,
   "id": "46c1ce2e",
   "metadata": {},
   "outputs": [
    {
     "name": "stdout",
     "output_type": "stream",
     "text": [
      "Hello Python\n"
     ]
    }
   ],
   "source": [
    "gretting()"
   ]
  },
  {
   "cell_type": "code",
   "execution_count": 3,
   "id": "d81515b0",
   "metadata": {},
   "outputs": [],
   "source": [
    "#Q2: Write a Python program to do arithmetical operations addition and division?\n",
    "\n",
    "# addition\n",
    "\n",
    "def arithematicOp(x,y):\n",
    "    add = x + y\n",
    "    if y != 0:\n",
    "        div = x/y\n",
    "    else:\n",
    "        div = \"y should be non zero\"\n",
    "    print('The addition:', add, \"& division:\", div)\n",
    "    return add, div"
   ]
  },
  {
   "cell_type": "code",
   "execution_count": 4,
   "id": "92f7f871",
   "metadata": {},
   "outputs": [
    {
     "name": "stdout",
     "output_type": "stream",
     "text": [
      "The addition: 12 & division: 5.0\n"
     ]
    },
    {
     "data": {
      "text/plain": [
       "(12, 5.0)"
      ]
     },
     "execution_count": 4,
     "metadata": {},
     "output_type": "execute_result"
    }
   ],
   "source": [
    "arithematicOp(10,2)"
   ]
  },
  {
   "cell_type": "code",
   "execution_count": 5,
   "id": "77d0fa8f",
   "metadata": {},
   "outputs": [],
   "source": [
    "#Q3: Write a Python program to find the area of a triangle?\n",
    "\n",
    "def triangle(height =1,base =1):\n",
    "    area = 0.5*height*base\n",
    "    print(\"The area of the traingle is:\", area)\n",
    "    return area"
   ]
  },
  {
   "cell_type": "code",
   "execution_count": 6,
   "id": "dc7c2d84",
   "metadata": {},
   "outputs": [
    {
     "name": "stdout",
     "output_type": "stream",
     "text": [
      "The area of the traingle is: 70.0\n"
     ]
    },
    {
     "data": {
      "text/plain": [
       "70.0"
      ]
     },
     "execution_count": 6,
     "metadata": {},
     "output_type": "execute_result"
    }
   ],
   "source": [
    "triangle(height = 10, base = 14)"
   ]
  },
  {
   "cell_type": "code",
   "execution_count": 19,
   "id": "0be64337",
   "metadata": {},
   "outputs": [],
   "source": [
    "#Q4: Write a Python program to swap two variables?\n",
    "\n",
    "def swap(x,y):\n",
    "    x,y = y,x\n",
    "    print(\"x is now:\", x, \"y is now:\", y)\n",
    "    return x, y"
   ]
  },
  {
   "cell_type": "code",
   "execution_count": 20,
   "id": "40e3454a",
   "metadata": {},
   "outputs": [
    {
     "name": "stdout",
     "output_type": "stream",
     "text": [
      "x is now: 8 y is now: 3\n"
     ]
    }
   ],
   "source": [
    "x = 3\n",
    "y = 8\n",
    "x, y = swap(x, y)"
   ]
  },
  {
   "cell_type": "code",
   "execution_count": 21,
   "id": "d984ad49",
   "metadata": {},
   "outputs": [
    {
     "data": {
      "text/plain": [
       "8"
      ]
     },
     "execution_count": 21,
     "metadata": {},
     "output_type": "execute_result"
    }
   ],
   "source": [
    "x"
   ]
  },
  {
   "cell_type": "code",
   "execution_count": 22,
   "id": "fc770253",
   "metadata": {},
   "outputs": [
    {
     "data": {
      "text/plain": [
       "3"
      ]
     },
     "execution_count": 22,
     "metadata": {},
     "output_type": "execute_result"
    }
   ],
   "source": [
    "y"
   ]
  },
  {
   "cell_type": "code",
   "execution_count": 31,
   "id": "8174b2d4",
   "metadata": {},
   "outputs": [],
   "source": [
    "#Q5: Write a Python program to generate a random number?\n",
    "\n",
    "def randomNumber():\n",
    "    import random\n",
    "    return random.random()*1000"
   ]
  },
  {
   "cell_type": "code",
   "execution_count": 32,
   "id": "e387185e",
   "metadata": {},
   "outputs": [
    {
     "data": {
      "text/plain": [
       "402.8919647037185"
      ]
     },
     "execution_count": 32,
     "metadata": {},
     "output_type": "execute_result"
    }
   ],
   "source": [
    "randomNumber()"
   ]
  },
  {
   "cell_type": "code",
   "execution_count": null,
   "id": "77fdb04e",
   "metadata": {},
   "outputs": [],
   "source": []
  }
 ],
 "metadata": {
  "kernelspec": {
   "display_name": "Python 3 (ipykernel)",
   "language": "python",
   "name": "python3"
  },
  "language_info": {
   "codemirror_mode": {
    "name": "ipython",
    "version": 3
   },
   "file_extension": ".py",
   "mimetype": "text/x-python",
   "name": "python",
   "nbconvert_exporter": "python",
   "pygments_lexer": "ipython3",
   "version": "3.8.13"
  }
 },
 "nbformat": 4,
 "nbformat_minor": 5
}
