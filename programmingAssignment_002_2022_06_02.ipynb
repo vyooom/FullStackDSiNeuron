{
 "cells": [
  {
   "cell_type": "markdown",
   "id": "5eaff88e",
   "metadata": {},
   "source": [
    "1. Write a Python program to convert kilometers to miles?\n",
    "2. Write a Python program to convert Celsius to Fahrenheit?\n",
    "3. Write a Python program to display calendar?\n",
    "4. Write a Python program to solve quadratic equation?\n",
    "5. Write a Python program to swap two variables without temp variable?"
   ]
  },
  {
   "cell_type": "code",
   "execution_count": 1,
   "id": "fe1d1084",
   "metadata": {},
   "outputs": [],
   "source": [
    "#Q Write a Python program to convert kilometers to miles?\n",
    "def km2miles(a):\n",
    "    return a/1.6"
   ]
  },
  {
   "cell_type": "code",
   "execution_count": 2,
   "id": "01cc18c3",
   "metadata": {},
   "outputs": [
    {
     "data": {
      "text/plain": [
       "5.0"
      ]
     },
     "execution_count": 2,
     "metadata": {},
     "output_type": "execute_result"
    }
   ],
   "source": [
    "km2miles(8)"
   ]
  },
  {
   "cell_type": "code",
   "execution_count": 3,
   "id": "ef5d48f6",
   "metadata": {},
   "outputs": [],
   "source": [
    "#Q2. Write a Python program to convert Celsius to Fahrenheit?\n",
    "\n",
    "def cel2Fahr(t):\n",
    "    f = t*9/5 + 32\n",
    "    print(\"Degree Celsius\", t, \"is equal to\", f, \"degree Fahrenheit\")\n",
    "    return f"
   ]
  },
  {
   "cell_type": "code",
   "execution_count": 8,
   "id": "f190b332",
   "metadata": {},
   "outputs": [
    {
     "name": "stdout",
     "output_type": "stream",
     "text": [
      "Degree Celsius 37.6 is equal to 99.68 degree Fahrenheit\n"
     ]
    },
    {
     "data": {
      "text/plain": [
       "99.68"
      ]
     },
     "execution_count": 8,
     "metadata": {},
     "output_type": "execute_result"
    }
   ],
   "source": [
    "cel2Fahr(37.6)"
   ]
  },
  {
   "cell_type": "code",
   "execution_count": 26,
   "id": "a8f737fa",
   "metadata": {},
   "outputs": [],
   "source": [
    "#Q3 Write a Python program to display calendar?\n",
    "\n",
    "def prntCalendar(year, month):\n",
    "    import calendar\n",
    "    print(\"The Calendar for the month\", month, \"in the year\", year, \"is\\n\", calendar.month(year,month))\n"
   ]
  },
  {
   "cell_type": "code",
   "execution_count": 27,
   "id": "ab393e8b",
   "metadata": {},
   "outputs": [
    {
     "name": "stdout",
     "output_type": "stream",
     "text": [
      "The Calendar for the month 6 in the year 2022 is\n",
      "      June 2022\n",
      "Mo Tu We Th Fr Sa Su\n",
      "       1  2  3  4  5\n",
      " 6  7  8  9 10 11 12\n",
      "13 14 15 16 17 18 19\n",
      "20 21 22 23 24 25 26\n",
      "27 28 29 30\n",
      "\n"
     ]
    }
   ],
   "source": [
    "prntCalendar(2022, 6)"
   ]
  },
  {
   "cell_type": "code",
   "execution_count": 7,
   "id": "f2e27e05",
   "metadata": {},
   "outputs": [],
   "source": [
    "#Q4: Write a Python program to solve quadratic equation?\n",
    "\n",
    "def quad(a = 1, b = 2, c = 1):\n",
    "    \"\"\"Providing solutions to the quadratic equations of the form ax^2 + bx + c = 0.\n",
    "    The parameters to be provided are a, b and c. Defalt values is a = 1, b = 2 and c = 1\"\"\"\n",
    "    d = ((b**2 - 4*a*c)**0.5)/(2*a)\n",
    "    t = -b/(2*a)\n",
    "    return (t+d), (t-d)"
   ]
  },
  {
   "cell_type": "code",
   "execution_count": 8,
   "id": "a399a66c",
   "metadata": {},
   "outputs": [
    {
     "data": {
      "text/plain": [
       "(-2.0, -2.0)"
      ]
     },
     "execution_count": 8,
     "metadata": {},
     "output_type": "execute_result"
    }
   ],
   "source": [
    "quad(a =1, b = 4, c = 4)"
   ]
  },
  {
   "cell_type": "code",
   "execution_count": 9,
   "id": "cbaa04aa",
   "metadata": {},
   "outputs": [
    {
     "data": {
      "text/plain": [
       "((-0.49999999999999994+0.8660254037844386j), (-0.5-0.8660254037844386j))"
      ]
     },
     "execution_count": 9,
     "metadata": {},
     "output_type": "execute_result"
    }
   ],
   "source": [
    "quad(a=1, b=1, c=1)"
   ]
  },
  {
   "cell_type": "code",
   "execution_count": 14,
   "id": "22d8299d",
   "metadata": {},
   "outputs": [],
   "source": [
    "#Q5: Write a Python program to swap two variables without temp variable?\n",
    "\n",
    "def swap(a,b):\n",
    "    \"\"\"Swapping two variables\"\"\"\n",
    "    print(\"Initially the first variable  =\", a, \"& the second variable =\", b)\n",
    "    a,b = b,a\n",
    "    print(\"finally the first variable  =\", a, \"& the second variable =\", b)\n",
    "    return a,b"
   ]
  },
  {
   "cell_type": "code",
   "execution_count": 15,
   "id": "401d5562",
   "metadata": {},
   "outputs": [
    {
     "name": "stdout",
     "output_type": "stream",
     "text": [
      "Initially the first variable  = 2 & the second variable = 10\n",
      "finally the first variable  = 10 & the second variable = 2\n"
     ]
    }
   ],
   "source": [
    "x = 2\n",
    "y = 10\n",
    "x, y = swap(x,y)"
   ]
  },
  {
   "cell_type": "code",
   "execution_count": 16,
   "id": "a970f868",
   "metadata": {},
   "outputs": [
    {
     "data": {
      "text/plain": [
       "10"
      ]
     },
     "execution_count": 16,
     "metadata": {},
     "output_type": "execute_result"
    }
   ],
   "source": [
    "x"
   ]
  },
  {
   "cell_type": "code",
   "execution_count": 17,
   "id": "95422d67",
   "metadata": {},
   "outputs": [
    {
     "data": {
      "text/plain": [
       "2"
      ]
     },
     "execution_count": 17,
     "metadata": {},
     "output_type": "execute_result"
    }
   ],
   "source": [
    "y"
   ]
  },
  {
   "cell_type": "code",
   "execution_count": null,
   "id": "cbb95a48",
   "metadata": {},
   "outputs": [],
   "source": []
  }
 ],
 "metadata": {
  "kernelspec": {
   "display_name": "Python 3 (ipykernel)",
   "language": "python",
   "name": "python3"
  },
  "language_info": {
   "codemirror_mode": {
    "name": "ipython",
    "version": 3
   },
   "file_extension": ".py",
   "mimetype": "text/x-python",
   "name": "python",
   "nbconvert_exporter": "python",
   "pygments_lexer": "ipython3",
   "version": "3.8.13"
  }
 },
 "nbformat": 4,
 "nbformat_minor": 5
}
