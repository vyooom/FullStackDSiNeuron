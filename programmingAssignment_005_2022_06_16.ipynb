{
 "cells": [
  {
   "cell_type": "markdown",
   "id": "9c24593d",
   "metadata": {},
   "source": [
    "1. Write a Python Program to Find LCM?\n",
    "2. Write a Python Program to Find HCF?\n",
    "3. Write a Python Program to Convert Decimal to Binary, Octal and Hexadecimal?\n",
    "4. Write a Python Program To Find ASCII value of a character?\n",
    "5. Write a Python Program to Make a Simple Calculator with 4 basic mathematical operations?"
   ]
  },
  {
   "cell_type": "code",
   "execution_count": 1,
   "id": "e5f3c232",
   "metadata": {},
   "outputs": [],
   "source": [
    "#Q1. Write a Python Program to Find LCM?\n",
    "\n",
    "def lcm(a,b):\n",
    "    '''The lcm is calculated as product of numbers divided by their hcf. \n",
    "    LCM of a & b = a*b/(hcf(a,b))\n",
    "    '''\n",
    "    def hcf(a,b):\n",
    "        \"\"\"Calculating highest common factor (hcf) as per the Euclied's formula.\n",
    "        HCF(a,b) =  a mod b = c\n",
    "        b mod c = d.... til d = 0\"\"\"\n",
    "        if a%b ==0:\n",
    "            return b\n",
    "        else:\n",
    "            return hcf(b, a%b)\n",
    "    return a*b/hcf(a,b)"
   ]
  },
  {
   "cell_type": "code",
   "execution_count": 2,
   "id": "45844083",
   "metadata": {},
   "outputs": [
    {
     "data": {
      "text/plain": [
       "24.0"
      ]
     },
     "execution_count": 2,
     "metadata": {},
     "output_type": "execute_result"
    }
   ],
   "source": [
    "lcm(12, 8)"
   ]
  },
  {
   "cell_type": "code",
   "execution_count": 3,
   "id": "dbfdcc2b",
   "metadata": {},
   "outputs": [],
   "source": [
    "#Q2 Write a Python Program to Find HCF?\n",
    "\n",
    "# Already solved as a part of previous program\n",
    "\n",
    "def hcf(a,b):\n",
    "        \"\"\"Calculating highest common factor (hcf) as per the Euclied's formula.\n",
    "        HCF(a,b) =  a mod b = c\n",
    "        b mod c = d.... til d = 0\"\"\"\n",
    "        if a%b ==0:\n",
    "            return b\n",
    "        else:\n",
    "            return hcf(b, a%b)"
   ]
  },
  {
   "cell_type": "code",
   "execution_count": 4,
   "id": "f1ef1ae4",
   "metadata": {},
   "outputs": [
    {
     "data": {
      "text/plain": [
       "1"
      ]
     },
     "execution_count": 4,
     "metadata": {},
     "output_type": "execute_result"
    }
   ],
   "source": [
    "hcf(5,2)"
   ]
  },
  {
   "cell_type": "code",
   "execution_count": 5,
   "id": "663e4ab2",
   "metadata": {},
   "outputs": [
    {
     "data": {
      "text/plain": [
       "7"
      ]
     },
     "execution_count": 5,
     "metadata": {},
     "output_type": "execute_result"
    }
   ],
   "source": [
    "hcf(21, 28)"
   ]
  },
  {
   "cell_type": "code",
   "execution_count": 6,
   "id": "2d4f7e7e",
   "metadata": {},
   "outputs": [],
   "source": [
    "#Q3. Write a Python Program to Convert Decimal to Binary, Octal and Hexadecimal?\n",
    "\n"
   ]
  },
  {
   "cell_type": "code",
   "execution_count": 7,
   "id": "aef9e20e",
   "metadata": {},
   "outputs": [],
   "source": [
    "# Normal function for convert into binary:\n",
    "\n",
    "def decimal2binary(a):\n",
    "    '''In normal functions the below 2 functions will be involved:\n",
    "        1. Finding the maximum power available.\n",
    "        2. Finding the subsequent powers and printing the number'''\n",
    "    \n",
    "    def max_power(x):\n",
    "        i = 0\n",
    "        while x//2**i > 1:\n",
    "            i += 1\n",
    "        return i\n",
    "    \n",
    "    def all_power(a):\n",
    "        n = max_power(a)\n",
    "        while n >= 0:\n",
    "            print(a//2**n, end = '')\n",
    "            a = a%2**n\n",
    "            n -=1\n",
    "            \n",
    "    return all_power(a)"
   ]
  },
  {
   "cell_type": "code",
   "execution_count": 8,
   "id": "892ace24",
   "metadata": {},
   "outputs": [
    {
     "name": "stdout",
     "output_type": "stream",
     "text": [
      "1010"
     ]
    }
   ],
   "source": [
    "decimal2binary(10)"
   ]
  },
  {
   "cell_type": "code",
   "execution_count": 9,
   "id": "71db6e11",
   "metadata": {},
   "outputs": [],
   "source": [
    "# Using recursion\n",
    "\n",
    "def Decimal2Binary(a):\n",
    "    if a >=1:\n",
    "        Decimal2Binary(a//2)\n",
    "        print(a%2, end = '')\n",
    "    "
   ]
  },
  {
   "cell_type": "code",
   "execution_count": 10,
   "id": "96881288",
   "metadata": {},
   "outputs": [
    {
     "name": "stdout",
     "output_type": "stream",
     "text": [
      "1010"
     ]
    }
   ],
   "source": [
    "Decimal2Binary(10)"
   ]
  },
  {
   "cell_type": "code",
   "execution_count": 11,
   "id": "744b946e",
   "metadata": {},
   "outputs": [],
   "source": [
    "# similarly for octal:\n",
    "\n",
    "def Decimal2Octal(a):\n",
    "    if a >= 1:\n",
    "        Decimal2Octal(a//8)\n",
    "        print(a%8, end = '')"
   ]
  },
  {
   "cell_type": "code",
   "execution_count": 12,
   "id": "687ec3c9",
   "metadata": {},
   "outputs": [
    {
     "name": "stdout",
     "output_type": "stream",
     "text": [
      "12"
     ]
    }
   ],
   "source": [
    "Decimal2Octal(10)"
   ]
  },
  {
   "cell_type": "code",
   "execution_count": 13,
   "id": "62e0b9e6",
   "metadata": {},
   "outputs": [],
   "source": [
    "# for hexadecimal we have to provide a dictionary:\n",
    "\n",
    "def Decimal2Hexa(a):\n",
    "    hexa = {0:0, 1:1, 2:2, 3:3, 4:4,\n",
    "            5:5, 6:6, 7:7, 8:8, 9:9,\n",
    "            10: 'A', 11:'B', 12: 'C',\n",
    "            13: 'D', 14: 'E', 15:'F'}\n",
    "    if a >= 1:\n",
    "        Decimal2Hexa(a//16)\n",
    "        print(hexa[a%16], end='')"
   ]
  },
  {
   "cell_type": "code",
   "execution_count": 14,
   "id": "ef6c7f55",
   "metadata": {},
   "outputs": [],
   "source": [
    "# Converting all of them in a single function\n",
    "\n",
    "def Decimal_Conversion(a):\n",
    "    '''First we will create the small functions for \n",
    "        Decimal to binary, Octal & Hexadecimal conversions.\n",
    "        Finally the function will print all conversions.'''\n",
    "    \n",
    "       \n",
    "    # Decimal to binary conversion\n",
    "    def Decimal2Binary(a):\n",
    "        if a >=1:\n",
    "            Decimal2Binary(a//2)\n",
    "            print(a%2, end = '')\n",
    "    \n",
    "    # Decimal to Octal Conversion\n",
    "    \n",
    "    def Decimal2Octal(a):\n",
    "        if a >= 1:\n",
    "            Decimal2Octal(a//8)\n",
    "            print(a%8, end = '')\n",
    "            \n",
    "    # Decimal to Hexadecimal Conversion:\n",
    "    \n",
    "    def Decimal2Hexa(a):\n",
    "        # defining the hexadecimal digits in a dictionary\n",
    "        hexa = {0:0, 1:1, 2:2, 3:3, 4:4,\n",
    "                5:5, 6:6, 7:7, 8:8, 9:9,\n",
    "                10: 'A', 11:'B', 12: 'C',\n",
    "                13: 'D', 14: 'E', 15:'F'}\n",
    "        if a >= 1:\n",
    "            Decimal2Hexa(a//16)\n",
    "            print(hexa[a%16], end='')\n",
    "            \n",
    "    print('The decimal number', a, 'is represented:')\n",
    "    print('in Binary as:')\n",
    "    Decimal2Binary(a)\n",
    "    print('\\nin Octal as:')\n",
    "    Decimal2Octal(a)\n",
    "    print('\\nin Hexadecimal as:')\n",
    "    Decimal2Hexa(a)\n",
    "      "
   ]
  },
  {
   "cell_type": "code",
   "execution_count": 15,
   "id": "5ef42f24",
   "metadata": {},
   "outputs": [
    {
     "name": "stdout",
     "output_type": "stream",
     "text": [
      "The decimal number 42 is represented:\n",
      "in Binary as:\n",
      "101010\n",
      "in Octal as:\n",
      "52\n",
      "in Hexadecimal as:\n",
      "2A"
     ]
    }
   ],
   "source": [
    "Decimal_Conversion(42)"
   ]
  },
  {
   "cell_type": "code",
   "execution_count": 16,
   "id": "ad4a3bc6",
   "metadata": {},
   "outputs": [],
   "source": [
    "#Q4. Write a Python Program To Find ASCII value of a character?\n",
    "\n",
    "# \n",
    "\n",
    "\n",
    "def ascii(a):\n",
    "    '''The ASCII value of lowercase alphabets are from 97 to 122. And, \n",
    "the ASCII value of uppercase alphabets are from 65 to 90.\n",
    "There is a build in function ord() to return the ASCII value of a character.\n",
    "If we want to write a program to determine the ASCII value manually then lets try below:'''\n",
    "    \n",
    "    capital = ['A', 'B', 'C', 'D', 'E', 'F',\n",
    "              'G', 'H', 'I', 'J', 'K', 'L',\n",
    "              'M', 'N', 'O','P', 'Q', 'R',\n",
    "              'S', 'T', 'U', 'V', 'W', 'X',\n",
    "              'Y', 'Z']\n",
    "    \n",
    "    small = ['a', 'b', 'c', 'd', 'e', 'f', \n",
    "             'g', 'h', 'i', 'j', 'k', 'l', \n",
    "             'm', 'n', 'o', 'p', 'q', 'r',\n",
    "             's', 't', 'u', 'v', 'w', 'x', \n",
    "             'y', 'z']\n",
    "    \n",
    "    if a in capital:\n",
    "        return 65 + capital.index(a)\n",
    "    elif a in small:\n",
    "        return 97 + small.index(a)\n",
    "    else:\n",
    "        print(\"Use the built in function ord() return the ASCII value.\")"
   ]
  },
  {
   "cell_type": "code",
   "execution_count": 17,
   "id": "526149c1",
   "metadata": {},
   "outputs": [
    {
     "data": {
      "text/plain": [
       "66"
      ]
     },
     "execution_count": 17,
     "metadata": {},
     "output_type": "execute_result"
    }
   ],
   "source": [
    "ascii('B')"
   ]
  },
  {
   "cell_type": "code",
   "execution_count": 18,
   "id": "52507202",
   "metadata": {},
   "outputs": [
    {
     "data": {
      "text/plain": [
       "97"
      ]
     },
     "execution_count": 18,
     "metadata": {},
     "output_type": "execute_result"
    }
   ],
   "source": [
    "ascii('a')"
   ]
  },
  {
   "cell_type": "code",
   "execution_count": 19,
   "id": "48bb2022",
   "metadata": {},
   "outputs": [
    {
     "name": "stdout",
     "output_type": "stream",
     "text": [
      "Use the built in function ord() return the ASCII value.\n"
     ]
    }
   ],
   "source": [
    "ascii('~')"
   ]
  },
  {
   "cell_type": "code",
   "execution_count": 20,
   "id": "9eade50b",
   "metadata": {},
   "outputs": [],
   "source": [
    "#Q5: Write a Python Program to Make a Simple Calculator with 4 basic mathematical operations?\n",
    "\n",
    "def arthematic(a, b, oper):\n",
    "    '''Given two numbers a & b the functions returns the value after \n",
    "    performing the operation provided 'oper'.\n",
    "    add = 'plus'\n",
    "    subtract = 'minus'\n",
    "    multiply = 'multiply'\n",
    "    divide = 'divide'\n",
    "    '''\n",
    "    \n",
    "    if oper == 'plus':\n",
    "        return a+b\n",
    "    elif oper == 'minus':\n",
    "        return a-b\n",
    "    elif oper == 'multiply':\n",
    "        return a*b\n",
    "    elif oper == 'divide':\n",
    "        try:\n",
    "            return a/b\n",
    "        except:\n",
    "            print('The divisor should not be zero.')\n",
    "    else:\n",
    "        print('Please input in  a valid format.')\n",
    "            "
   ]
  },
  {
   "cell_type": "code",
   "execution_count": 21,
   "id": "7b41884b",
   "metadata": {},
   "outputs": [
    {
     "data": {
      "text/plain": [
       "1.5"
      ]
     },
     "execution_count": 21,
     "metadata": {},
     "output_type": "execute_result"
    }
   ],
   "source": [
    "arthematic(12,8, 'divide')"
   ]
  },
  {
   "cell_type": "code",
   "execution_count": 22,
   "id": "ed40303e",
   "metadata": {},
   "outputs": [
    {
     "data": {
      "text/plain": [
       "18"
      ]
     },
     "execution_count": 22,
     "metadata": {},
     "output_type": "execute_result"
    }
   ],
   "source": [
    "arthematic(2,9, 'multiply')"
   ]
  }
 ],
 "metadata": {
  "kernelspec": {
   "display_name": "Python 3 (ipykernel)",
   "language": "python",
   "name": "python3"
  },
  "language_info": {
   "codemirror_mode": {
    "name": "ipython",
    "version": 3
   },
   "file_extension": ".py",
   "mimetype": "text/x-python",
   "name": "python",
   "nbconvert_exporter": "python",
   "pygments_lexer": "ipython3",
   "version": "3.8.13"
  }
 },
 "nbformat": 4,
 "nbformat_minor": 5
}
