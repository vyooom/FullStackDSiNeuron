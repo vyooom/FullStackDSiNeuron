{
 "cells": [
  {
   "cell_type": "markdown",
   "id": "1477cc16",
   "metadata": {},
   "source": [
    "Regression: https://archive.ics.uci.edu/ml/datasets/Individual+household+electric+power+consumption\n",
    "\n",
    "Classification:https://archive.ics.uci.edu/ml/datasets/Census+Income\n",
    "Data ingestion\n",
    "\n",
    "- EDA\n",
    "- Preprocessing\n",
    "- Pickling for the preprocessing object(save the preprocessing model)\n",
    "- After preprocessing you have to store data inside MONGODB  \n",
    "\n",
    "You have to load the data from mongo db\n",
    "Model\n",
    "\n",
    "Regression:linear regression,ridge regression,lasso regression,elastic net, support vector regression\n",
    "\n",
    "Classification: logistic regression,SVM(kernel)\n",
    "\n",
    "Hyperparameter tuning is mandatory(GRID SEARCH CV)\n",
    "\n",
    "Evaluation of the model Regression evaluation matrix: R2 and adjusted R2 Classification confusion matrix, ROC AUC score\n",
    "\n",
    "Submission form link: https://forms.gle/2PJSSCmL9S865nwe8\n"
   ]
  },
  {
   "cell_type": "markdown",
   "id": "4b12256d",
   "metadata": {},
   "source": [
    "### We will do the regression model in this workbook."
   ]
  },
  {
   "cell_type": "code",
   "execution_count": 1,
   "id": "80e440f1",
   "metadata": {},
   "outputs": [],
   "source": [
    "import numpy as np\n",
    "import pandas as pd\n",
    "import matplotlib.pyplot as plt\n",
    "import seaborn as sns\n",
    "%matplotlib inline\n",
    "import warnings\n",
    "warnings.filterwarnings('ignore')\n",
    "import datetime as dt"
   ]
  },
  {
   "cell_type": "code",
   "execution_count": 2,
   "id": "93fecc28",
   "metadata": {},
   "outputs": [],
   "source": [
    "df = pd.read_csv(\"/media/vyoom/HDD/downloads/dataset/household_power_consumption.txt\", sep = \";\")"
   ]
  },
  {
   "cell_type": "code",
   "execution_count": 3,
   "id": "49247b0c",
   "metadata": {},
   "outputs": [
    {
     "data": {
      "text/html": [
       "<div>\n",
       "<style scoped>\n",
       "    .dataframe tbody tr th:only-of-type {\n",
       "        vertical-align: middle;\n",
       "    }\n",
       "\n",
       "    .dataframe tbody tr th {\n",
       "        vertical-align: top;\n",
       "    }\n",
       "\n",
       "    .dataframe thead th {\n",
       "        text-align: right;\n",
       "    }\n",
       "</style>\n",
       "<table border=\"1\" class=\"dataframe\">\n",
       "  <thead>\n",
       "    <tr style=\"text-align: right;\">\n",
       "      <th></th>\n",
       "      <th>Date</th>\n",
       "      <th>Time</th>\n",
       "      <th>Global_active_power</th>\n",
       "      <th>Global_reactive_power</th>\n",
       "      <th>Voltage</th>\n",
       "      <th>Global_intensity</th>\n",
       "      <th>Sub_metering_1</th>\n",
       "      <th>Sub_metering_2</th>\n",
       "      <th>Sub_metering_3</th>\n",
       "    </tr>\n",
       "  </thead>\n",
       "  <tbody>\n",
       "    <tr>\n",
       "      <th>0</th>\n",
       "      <td>16/12/2006</td>\n",
       "      <td>17:24:00</td>\n",
       "      <td>4.216</td>\n",
       "      <td>0.418</td>\n",
       "      <td>234.840</td>\n",
       "      <td>18.400</td>\n",
       "      <td>0.000</td>\n",
       "      <td>1.000</td>\n",
       "      <td>17.0</td>\n",
       "    </tr>\n",
       "    <tr>\n",
       "      <th>1</th>\n",
       "      <td>16/12/2006</td>\n",
       "      <td>17:25:00</td>\n",
       "      <td>5.360</td>\n",
       "      <td>0.436</td>\n",
       "      <td>233.630</td>\n",
       "      <td>23.000</td>\n",
       "      <td>0.000</td>\n",
       "      <td>1.000</td>\n",
       "      <td>16.0</td>\n",
       "    </tr>\n",
       "    <tr>\n",
       "      <th>2</th>\n",
       "      <td>16/12/2006</td>\n",
       "      <td>17:26:00</td>\n",
       "      <td>5.374</td>\n",
       "      <td>0.498</td>\n",
       "      <td>233.290</td>\n",
       "      <td>23.000</td>\n",
       "      <td>0.000</td>\n",
       "      <td>2.000</td>\n",
       "      <td>17.0</td>\n",
       "    </tr>\n",
       "    <tr>\n",
       "      <th>3</th>\n",
       "      <td>16/12/2006</td>\n",
       "      <td>17:27:00</td>\n",
       "      <td>5.388</td>\n",
       "      <td>0.502</td>\n",
       "      <td>233.740</td>\n",
       "      <td>23.000</td>\n",
       "      <td>0.000</td>\n",
       "      <td>1.000</td>\n",
       "      <td>17.0</td>\n",
       "    </tr>\n",
       "    <tr>\n",
       "      <th>4</th>\n",
       "      <td>16/12/2006</td>\n",
       "      <td>17:28:00</td>\n",
       "      <td>3.666</td>\n",
       "      <td>0.528</td>\n",
       "      <td>235.680</td>\n",
       "      <td>15.800</td>\n",
       "      <td>0.000</td>\n",
       "      <td>1.000</td>\n",
       "      <td>17.0</td>\n",
       "    </tr>\n",
       "  </tbody>\n",
       "</table>\n",
       "</div>"
      ],
      "text/plain": [
       "         Date      Time Global_active_power Global_reactive_power  Voltage  \\\n",
       "0  16/12/2006  17:24:00               4.216                 0.418  234.840   \n",
       "1  16/12/2006  17:25:00               5.360                 0.436  233.630   \n",
       "2  16/12/2006  17:26:00               5.374                 0.498  233.290   \n",
       "3  16/12/2006  17:27:00               5.388                 0.502  233.740   \n",
       "4  16/12/2006  17:28:00               3.666                 0.528  235.680   \n",
       "\n",
       "  Global_intensity Sub_metering_1 Sub_metering_2  Sub_metering_3  \n",
       "0           18.400          0.000          1.000            17.0  \n",
       "1           23.000          0.000          1.000            16.0  \n",
       "2           23.000          0.000          2.000            17.0  \n",
       "3           23.000          0.000          1.000            17.0  \n",
       "4           15.800          0.000          1.000            17.0  "
      ]
     },
     "execution_count": 3,
     "metadata": {},
     "output_type": "execute_result"
    }
   ],
   "source": [
    "df.head()"
   ]
  },
  {
   "cell_type": "code",
   "execution_count": 4,
   "id": "2f145724",
   "metadata": {},
   "outputs": [
    {
     "data": {
      "text/html": [
       "<div>\n",
       "<style scoped>\n",
       "    .dataframe tbody tr th:only-of-type {\n",
       "        vertical-align: middle;\n",
       "    }\n",
       "\n",
       "    .dataframe tbody tr th {\n",
       "        vertical-align: top;\n",
       "    }\n",
       "\n",
       "    .dataframe thead th {\n",
       "        text-align: right;\n",
       "    }\n",
       "</style>\n",
       "<table border=\"1\" class=\"dataframe\">\n",
       "  <thead>\n",
       "    <tr style=\"text-align: right;\">\n",
       "      <th></th>\n",
       "      <th>Date</th>\n",
       "      <th>Time</th>\n",
       "      <th>Global_active_power</th>\n",
       "      <th>Global_reactive_power</th>\n",
       "      <th>Voltage</th>\n",
       "      <th>Global_intensity</th>\n",
       "      <th>Sub_metering_1</th>\n",
       "      <th>Sub_metering_2</th>\n",
       "      <th>Sub_metering_3</th>\n",
       "    </tr>\n",
       "  </thead>\n",
       "  <tbody>\n",
       "    <tr>\n",
       "      <th>2075254</th>\n",
       "      <td>26/11/2010</td>\n",
       "      <td>20:58:00</td>\n",
       "      <td>0.946</td>\n",
       "      <td>0.0</td>\n",
       "      <td>240.43</td>\n",
       "      <td>4.0</td>\n",
       "      <td>0.0</td>\n",
       "      <td>0.0</td>\n",
       "      <td>0.0</td>\n",
       "    </tr>\n",
       "    <tr>\n",
       "      <th>2075255</th>\n",
       "      <td>26/11/2010</td>\n",
       "      <td>20:59:00</td>\n",
       "      <td>0.944</td>\n",
       "      <td>0.0</td>\n",
       "      <td>240.0</td>\n",
       "      <td>4.0</td>\n",
       "      <td>0.0</td>\n",
       "      <td>0.0</td>\n",
       "      <td>0.0</td>\n",
       "    </tr>\n",
       "    <tr>\n",
       "      <th>2075256</th>\n",
       "      <td>26/11/2010</td>\n",
       "      <td>21:00:00</td>\n",
       "      <td>0.938</td>\n",
       "      <td>0.0</td>\n",
       "      <td>239.82</td>\n",
       "      <td>3.8</td>\n",
       "      <td>0.0</td>\n",
       "      <td>0.0</td>\n",
       "      <td>0.0</td>\n",
       "    </tr>\n",
       "    <tr>\n",
       "      <th>2075257</th>\n",
       "      <td>26/11/2010</td>\n",
       "      <td>21:01:00</td>\n",
       "      <td>0.934</td>\n",
       "      <td>0.0</td>\n",
       "      <td>239.7</td>\n",
       "      <td>3.8</td>\n",
       "      <td>0.0</td>\n",
       "      <td>0.0</td>\n",
       "      <td>0.0</td>\n",
       "    </tr>\n",
       "    <tr>\n",
       "      <th>2075258</th>\n",
       "      <td>26/11/2010</td>\n",
       "      <td>21:02:00</td>\n",
       "      <td>0.932</td>\n",
       "      <td>0.0</td>\n",
       "      <td>239.55</td>\n",
       "      <td>3.8</td>\n",
       "      <td>0.0</td>\n",
       "      <td>0.0</td>\n",
       "      <td>0.0</td>\n",
       "    </tr>\n",
       "  </tbody>\n",
       "</table>\n",
       "</div>"
      ],
      "text/plain": [
       "               Date      Time Global_active_power Global_reactive_power  \\\n",
       "2075254  26/11/2010  20:58:00               0.946                   0.0   \n",
       "2075255  26/11/2010  20:59:00               0.944                   0.0   \n",
       "2075256  26/11/2010  21:00:00               0.938                   0.0   \n",
       "2075257  26/11/2010  21:01:00               0.934                   0.0   \n",
       "2075258  26/11/2010  21:02:00               0.932                   0.0   \n",
       "\n",
       "        Voltage Global_intensity Sub_metering_1 Sub_metering_2  Sub_metering_3  \n",
       "2075254  240.43              4.0            0.0            0.0             0.0  \n",
       "2075255   240.0              4.0            0.0            0.0             0.0  \n",
       "2075256  239.82              3.8            0.0            0.0             0.0  \n",
       "2075257   239.7              3.8            0.0            0.0             0.0  \n",
       "2075258  239.55              3.8            0.0            0.0             0.0  "
      ]
     },
     "execution_count": 4,
     "metadata": {},
     "output_type": "execute_result"
    }
   ],
   "source": [
    "df.tail()"
   ]
  },
  {
   "cell_type": "markdown",
   "id": "a7b6eeb2",
   "metadata": {},
   "source": [
    "### Taking a random sample of data"
   ]
  },
  {
   "cell_type": "code",
   "execution_count": 5,
   "id": "d0b27ad8",
   "metadata": {},
   "outputs": [],
   "source": [
    "df = df.sample(n = 15000, random_state = 3)"
   ]
  },
  {
   "cell_type": "code",
   "execution_count": 7,
   "id": "2835a38f",
   "metadata": {},
   "outputs": [
    {
     "data": {
      "text/html": [
       "<div>\n",
       "<style scoped>\n",
       "    .dataframe tbody tr th:only-of-type {\n",
       "        vertical-align: middle;\n",
       "    }\n",
       "\n",
       "    .dataframe tbody tr th {\n",
       "        vertical-align: top;\n",
       "    }\n",
       "\n",
       "    .dataframe thead th {\n",
       "        text-align: right;\n",
       "    }\n",
       "</style>\n",
       "<table border=\"1\" class=\"dataframe\">\n",
       "  <thead>\n",
       "    <tr style=\"text-align: right;\">\n",
       "      <th></th>\n",
       "      <th>Date</th>\n",
       "      <th>Time</th>\n",
       "      <th>Global_active_power</th>\n",
       "      <th>Global_reactive_power</th>\n",
       "      <th>Voltage</th>\n",
       "      <th>Global_intensity</th>\n",
       "      <th>Sub_metering_1</th>\n",
       "      <th>Sub_metering_2</th>\n",
       "      <th>Sub_metering_3</th>\n",
       "    </tr>\n",
       "  </thead>\n",
       "  <tbody>\n",
       "    <tr>\n",
       "      <th>1234544</th>\n",
       "      <td>22/4/2009</td>\n",
       "      <td>01:08:00</td>\n",
       "      <td>0.346</td>\n",
       "      <td>0.084</td>\n",
       "      <td>241.380</td>\n",
       "      <td>1.400</td>\n",
       "      <td>0.000</td>\n",
       "      <td>2.000</td>\n",
       "      <td>0.0</td>\n",
       "    </tr>\n",
       "    <tr>\n",
       "      <th>2014090</th>\n",
       "      <td>15/10/2010</td>\n",
       "      <td>09:34:00</td>\n",
       "      <td>1.324</td>\n",
       "      <td>0.080</td>\n",
       "      <td>240.030</td>\n",
       "      <td>5.400</td>\n",
       "      <td>0.000</td>\n",
       "      <td>0.000</td>\n",
       "      <td>18.0</td>\n",
       "    </tr>\n",
       "    <tr>\n",
       "      <th>1236957</th>\n",
       "      <td>23/4/2009</td>\n",
       "      <td>17:21:00</td>\n",
       "      <td>1.468</td>\n",
       "      <td>0.116</td>\n",
       "      <td>241.390</td>\n",
       "      <td>6.000</td>\n",
       "      <td>0.000</td>\n",
       "      <td>2.000</td>\n",
       "      <td>19.0</td>\n",
       "    </tr>\n",
       "    <tr>\n",
       "      <th>1988947</th>\n",
       "      <td>27/9/2010</td>\n",
       "      <td>22:31:00</td>\n",
       "      <td>?</td>\n",
       "      <td>?</td>\n",
       "      <td>?</td>\n",
       "      <td>?</td>\n",
       "      <td>?</td>\n",
       "      <td>?</td>\n",
       "      <td>NaN</td>\n",
       "    </tr>\n",
       "    <tr>\n",
       "      <th>602895</th>\n",
       "      <td>8/2/2008</td>\n",
       "      <td>09:39:00</td>\n",
       "      <td>1.968</td>\n",
       "      <td>0.000</td>\n",
       "      <td>236.210</td>\n",
       "      <td>8.400</td>\n",
       "      <td>0.000</td>\n",
       "      <td>0.000</td>\n",
       "      <td>18.0</td>\n",
       "    </tr>\n",
       "  </tbody>\n",
       "</table>\n",
       "</div>"
      ],
      "text/plain": [
       "               Date      Time Global_active_power Global_reactive_power  \\\n",
       "1234544   22/4/2009  01:08:00               0.346                 0.084   \n",
       "2014090  15/10/2010  09:34:00               1.324                 0.080   \n",
       "1236957   23/4/2009  17:21:00               1.468                 0.116   \n",
       "1988947   27/9/2010  22:31:00                   ?                     ?   \n",
       "602895     8/2/2008  09:39:00               1.968                 0.000   \n",
       "\n",
       "         Voltage Global_intensity Sub_metering_1 Sub_metering_2  \\\n",
       "1234544  241.380            1.400          0.000          2.000   \n",
       "2014090  240.030            5.400          0.000          0.000   \n",
       "1236957  241.390            6.000          0.000          2.000   \n",
       "1988947        ?                ?              ?              ?   \n",
       "602895   236.210            8.400          0.000          0.000   \n",
       "\n",
       "         Sub_metering_3  \n",
       "1234544             0.0  \n",
       "2014090            18.0  \n",
       "1236957            19.0  \n",
       "1988947             NaN  \n",
       "602895             18.0  "
      ]
     },
     "execution_count": 7,
     "metadata": {},
     "output_type": "execute_result"
    }
   ],
   "source": [
    "df.head()"
   ]
  },
  {
   "cell_type": "markdown",
   "id": "63b180d7",
   "metadata": {},
   "source": [
    "There are some of non numeric values in the data. Lets handle those."
   ]
  },
  {
   "cell_type": "markdown",
   "id": "6bd7c3a0",
   "metadata": {},
   "source": [
    "### Handling '?' in the data:"
   ]
  },
  {
   "cell_type": "code",
   "execution_count": 8,
   "id": "be1fc4f2",
   "metadata": {},
   "outputs": [
    {
     "data": {
      "text/html": [
       "<div>\n",
       "<style scoped>\n",
       "    .dataframe tbody tr th:only-of-type {\n",
       "        vertical-align: middle;\n",
       "    }\n",
       "\n",
       "    .dataframe tbody tr th {\n",
       "        vertical-align: top;\n",
       "    }\n",
       "\n",
       "    .dataframe thead th {\n",
       "        text-align: right;\n",
       "    }\n",
       "</style>\n",
       "<table border=\"1\" class=\"dataframe\">\n",
       "  <thead>\n",
       "    <tr style=\"text-align: right;\">\n",
       "      <th></th>\n",
       "      <th>Date</th>\n",
       "      <th>Time</th>\n",
       "      <th>Global_active_power</th>\n",
       "      <th>Global_reactive_power</th>\n",
       "      <th>Voltage</th>\n",
       "      <th>Global_intensity</th>\n",
       "      <th>Sub_metering_1</th>\n",
       "      <th>Sub_metering_2</th>\n",
       "      <th>Sub_metering_3</th>\n",
       "    </tr>\n",
       "  </thead>\n",
       "  <tbody>\n",
       "  </tbody>\n",
       "</table>\n",
       "</div>"
      ],
      "text/plain": [
       "Empty DataFrame\n",
       "Columns: [Date, Time, Global_active_power, Global_reactive_power, Voltage, Global_intensity, Sub_metering_1, Sub_metering_2, Sub_metering_3]\n",
       "Index: []"
      ]
     },
     "execution_count": 8,
     "metadata": {},
     "output_type": "execute_result"
    }
   ],
   "source": [
    "df = df[df['Global_active_power'] != \"?\"]\n",
    "\n",
    "# checking if '?' exists in other remaining rows\n",
    "df[df['Global_reactive_power'] == \"?\"]"
   ]
  },
  {
   "cell_type": "markdown",
   "id": "19c54625",
   "metadata": {},
   "source": [
    "### Changing Object Types:"
   ]
  },
  {
   "cell_type": "code",
   "execution_count": 9,
   "id": "b12284ce",
   "metadata": {},
   "outputs": [
    {
     "data": {
      "text/html": [
       "<div>\n",
       "<style scoped>\n",
       "    .dataframe tbody tr th:only-of-type {\n",
       "        vertical-align: middle;\n",
       "    }\n",
       "\n",
       "    .dataframe tbody tr th {\n",
       "        vertical-align: top;\n",
       "    }\n",
       "\n",
       "    .dataframe thead th {\n",
       "        text-align: right;\n",
       "    }\n",
       "</style>\n",
       "<table border=\"1\" class=\"dataframe\">\n",
       "  <thead>\n",
       "    <tr style=\"text-align: right;\">\n",
       "      <th></th>\n",
       "      <th>Sub_metering_3</th>\n",
       "    </tr>\n",
       "  </thead>\n",
       "  <tbody>\n",
       "    <tr>\n",
       "      <th>count</th>\n",
       "      <td>14808.000000</td>\n",
       "    </tr>\n",
       "    <tr>\n",
       "      <th>mean</th>\n",
       "      <td>6.569489</td>\n",
       "    </tr>\n",
       "    <tr>\n",
       "      <th>std</th>\n",
       "      <td>8.455192</td>\n",
       "    </tr>\n",
       "    <tr>\n",
       "      <th>min</th>\n",
       "      <td>0.000000</td>\n",
       "    </tr>\n",
       "    <tr>\n",
       "      <th>25%</th>\n",
       "      <td>0.000000</td>\n",
       "    </tr>\n",
       "    <tr>\n",
       "      <th>50%</th>\n",
       "      <td>1.000000</td>\n",
       "    </tr>\n",
       "    <tr>\n",
       "      <th>75%</th>\n",
       "      <td>17.000000</td>\n",
       "    </tr>\n",
       "    <tr>\n",
       "      <th>max</th>\n",
       "      <td>31.000000</td>\n",
       "    </tr>\n",
       "  </tbody>\n",
       "</table>\n",
       "</div>"
      ],
      "text/plain": [
       "       Sub_metering_3\n",
       "count    14808.000000\n",
       "mean         6.569489\n",
       "std          8.455192\n",
       "min          0.000000\n",
       "25%          0.000000\n",
       "50%          1.000000\n",
       "75%         17.000000\n",
       "max         31.000000"
      ]
     },
     "execution_count": 9,
     "metadata": {},
     "output_type": "execute_result"
    }
   ],
   "source": [
    "df.describe()"
   ]
  },
  {
   "cell_type": "markdown",
   "id": "b68aa91a",
   "metadata": {},
   "source": [
    "It seems only one of ther columns is of float type. Lets handle it."
   ]
  },
  {
   "cell_type": "code",
   "execution_count": 10,
   "id": "78b2842a",
   "metadata": {},
   "outputs": [],
   "source": [
    "df['Global_active_power'] = df['Global_active_power'].astype(float)\n",
    "df['Global_reactive_power'] = df['Global_reactive_power'].astype(float)\n",
    "df['Voltage'] = df['Voltage'].astype(float)\n",
    "df['Global_intensity'] =  df['Global_intensity'].astype(float)\n",
    "df['Sub_metering_1'] = df['Sub_metering_1'].astype(float)\n",
    "df['Sub_metering_2'] = df['Sub_metering_2'].astype(float)\n",
    "df['Sub_metering_3'] = df['Sub_metering_3'].astype(float)\n",
    "df['Metering'] = df['Sub_metering_1'] + df['Sub_metering_2'] + df['Sub_metering_3']"
   ]
  },
  {
   "cell_type": "markdown",
   "id": "1edc3d7b",
   "metadata": {},
   "source": [
    "We can also drop sub-metering parameters as we are concerned with the overall consumption of the data."
   ]
  },
  {
   "cell_type": "code",
   "execution_count": 11,
   "id": "b08b3be1",
   "metadata": {},
   "outputs": [],
   "source": [
    "df.drop(['Sub_metering_1', 'Sub_metering_2', 'Sub_metering_3'], inplace = True, axis = 1)"
   ]
  },
  {
   "cell_type": "code",
   "execution_count": 12,
   "id": "433d8d1f",
   "metadata": {},
   "outputs": [
    {
     "data": {
      "text/html": [
       "<div>\n",
       "<style scoped>\n",
       "    .dataframe tbody tr th:only-of-type {\n",
       "        vertical-align: middle;\n",
       "    }\n",
       "\n",
       "    .dataframe tbody tr th {\n",
       "        vertical-align: top;\n",
       "    }\n",
       "\n",
       "    .dataframe thead th {\n",
       "        text-align: right;\n",
       "    }\n",
       "</style>\n",
       "<table border=\"1\" class=\"dataframe\">\n",
       "  <thead>\n",
       "    <tr style=\"text-align: right;\">\n",
       "      <th></th>\n",
       "      <th>Date</th>\n",
       "      <th>Time</th>\n",
       "      <th>Global_active_power</th>\n",
       "      <th>Global_reactive_power</th>\n",
       "      <th>Voltage</th>\n",
       "      <th>Global_intensity</th>\n",
       "      <th>Metering</th>\n",
       "    </tr>\n",
       "  </thead>\n",
       "  <tbody>\n",
       "    <tr>\n",
       "      <th>1234544</th>\n",
       "      <td>22/4/2009</td>\n",
       "      <td>01:08:00</td>\n",
       "      <td>0.346</td>\n",
       "      <td>0.084</td>\n",
       "      <td>241.38</td>\n",
       "      <td>1.4</td>\n",
       "      <td>2.0</td>\n",
       "    </tr>\n",
       "    <tr>\n",
       "      <th>2014090</th>\n",
       "      <td>15/10/2010</td>\n",
       "      <td>09:34:00</td>\n",
       "      <td>1.324</td>\n",
       "      <td>0.080</td>\n",
       "      <td>240.03</td>\n",
       "      <td>5.4</td>\n",
       "      <td>18.0</td>\n",
       "    </tr>\n",
       "    <tr>\n",
       "      <th>1236957</th>\n",
       "      <td>23/4/2009</td>\n",
       "      <td>17:21:00</td>\n",
       "      <td>1.468</td>\n",
       "      <td>0.116</td>\n",
       "      <td>241.39</td>\n",
       "      <td>6.0</td>\n",
       "      <td>21.0</td>\n",
       "    </tr>\n",
       "    <tr>\n",
       "      <th>602895</th>\n",
       "      <td>8/2/2008</td>\n",
       "      <td>09:39:00</td>\n",
       "      <td>1.968</td>\n",
       "      <td>0.000</td>\n",
       "      <td>236.21</td>\n",
       "      <td>8.4</td>\n",
       "      <td>18.0</td>\n",
       "    </tr>\n",
       "    <tr>\n",
       "      <th>1464736</th>\n",
       "      <td>28/9/2009</td>\n",
       "      <td>21:40:00</td>\n",
       "      <td>2.594</td>\n",
       "      <td>0.088</td>\n",
       "      <td>240.23</td>\n",
       "      <td>10.8</td>\n",
       "      <td>1.0</td>\n",
       "    </tr>\n",
       "  </tbody>\n",
       "</table>\n",
       "</div>"
      ],
      "text/plain": [
       "               Date      Time  Global_active_power  Global_reactive_power  \\\n",
       "1234544   22/4/2009  01:08:00                0.346                  0.084   \n",
       "2014090  15/10/2010  09:34:00                1.324                  0.080   \n",
       "1236957   23/4/2009  17:21:00                1.468                  0.116   \n",
       "602895     8/2/2008  09:39:00                1.968                  0.000   \n",
       "1464736   28/9/2009  21:40:00                2.594                  0.088   \n",
       "\n",
       "         Voltage  Global_intensity  Metering  \n",
       "1234544   241.38               1.4       2.0  \n",
       "2014090   240.03               5.4      18.0  \n",
       "1236957   241.39               6.0      21.0  \n",
       "602895    236.21               8.4      18.0  \n",
       "1464736   240.23              10.8       1.0  "
      ]
     },
     "execution_count": 12,
     "metadata": {},
     "output_type": "execute_result"
    }
   ],
   "source": [
    "df.head()"
   ]
  },
  {
   "cell_type": "code",
   "execution_count": 13,
   "id": "7791a0be",
   "metadata": {},
   "outputs": [
    {
     "data": {
      "text/html": [
       "<div>\n",
       "<style scoped>\n",
       "    .dataframe tbody tr th:only-of-type {\n",
       "        vertical-align: middle;\n",
       "    }\n",
       "\n",
       "    .dataframe tbody tr th {\n",
       "        vertical-align: top;\n",
       "    }\n",
       "\n",
       "    .dataframe thead th {\n",
       "        text-align: right;\n",
       "    }\n",
       "</style>\n",
       "<table border=\"1\" class=\"dataframe\">\n",
       "  <thead>\n",
       "    <tr style=\"text-align: right;\">\n",
       "      <th></th>\n",
       "      <th>Global_active_power</th>\n",
       "      <th>Global_reactive_power</th>\n",
       "      <th>Voltage</th>\n",
       "      <th>Global_intensity</th>\n",
       "      <th>Metering</th>\n",
       "    </tr>\n",
       "  </thead>\n",
       "  <tbody>\n",
       "    <tr>\n",
       "      <th>count</th>\n",
       "      <td>14808.000000</td>\n",
       "      <td>14808.000000</td>\n",
       "      <td>14808.000000</td>\n",
       "      <td>14808.000000</td>\n",
       "      <td>14808.000000</td>\n",
       "    </tr>\n",
       "    <tr>\n",
       "      <th>mean</th>\n",
       "      <td>1.102437</td>\n",
       "      <td>0.123309</td>\n",
       "      <td>240.808741</td>\n",
       "      <td>4.672083</td>\n",
       "      <td>9.071786</td>\n",
       "    </tr>\n",
       "    <tr>\n",
       "      <th>std</th>\n",
       "      <td>1.068355</td>\n",
       "      <td>0.112599</td>\n",
       "      <td>3.246945</td>\n",
       "      <td>4.492162</td>\n",
       "      <td>13.026602</td>\n",
       "    </tr>\n",
       "    <tr>\n",
       "      <th>min</th>\n",
       "      <td>0.078000</td>\n",
       "      <td>0.000000</td>\n",
       "      <td>223.490000</td>\n",
       "      <td>0.200000</td>\n",
       "      <td>0.000000</td>\n",
       "    </tr>\n",
       "    <tr>\n",
       "      <th>25%</th>\n",
       "      <td>0.310000</td>\n",
       "      <td>0.048000</td>\n",
       "      <td>238.950000</td>\n",
       "      <td>1.400000</td>\n",
       "      <td>0.000000</td>\n",
       "    </tr>\n",
       "    <tr>\n",
       "      <th>50%</th>\n",
       "      <td>0.622000</td>\n",
       "      <td>0.100000</td>\n",
       "      <td>240.980000</td>\n",
       "      <td>2.800000</td>\n",
       "      <td>1.000000</td>\n",
       "    </tr>\n",
       "    <tr>\n",
       "      <th>75%</th>\n",
       "      <td>1.534000</td>\n",
       "      <td>0.194000</td>\n",
       "      <td>242.850000</td>\n",
       "      <td>6.400000</td>\n",
       "      <td>18.000000</td>\n",
       "    </tr>\n",
       "    <tr>\n",
       "      <th>max</th>\n",
       "      <td>9.726000</td>\n",
       "      <td>0.986000</td>\n",
       "      <td>252.870000</td>\n",
       "      <td>42.000000</td>\n",
       "      <td>126.000000</td>\n",
       "    </tr>\n",
       "  </tbody>\n",
       "</table>\n",
       "</div>"
      ],
      "text/plain": [
       "       Global_active_power  Global_reactive_power       Voltage  \\\n",
       "count         14808.000000           14808.000000  14808.000000   \n",
       "mean              1.102437               0.123309    240.808741   \n",
       "std               1.068355               0.112599      3.246945   \n",
       "min               0.078000               0.000000    223.490000   \n",
       "25%               0.310000               0.048000    238.950000   \n",
       "50%               0.622000               0.100000    240.980000   \n",
       "75%               1.534000               0.194000    242.850000   \n",
       "max               9.726000               0.986000    252.870000   \n",
       "\n",
       "       Global_intensity      Metering  \n",
       "count      14808.000000  14808.000000  \n",
       "mean           4.672083      9.071786  \n",
       "std            4.492162     13.026602  \n",
       "min            0.200000      0.000000  \n",
       "25%            1.400000      0.000000  \n",
       "50%            2.800000      1.000000  \n",
       "75%            6.400000     18.000000  \n",
       "max           42.000000    126.000000  "
      ]
     },
     "execution_count": 13,
     "metadata": {},
     "output_type": "execute_result"
    }
   ],
   "source": [
    "df.describe()"
   ]
  },
  {
   "cell_type": "markdown",
   "id": "10b0b86c",
   "metadata": {},
   "source": [
    "## Missing Values:"
   ]
  },
  {
   "cell_type": "code",
   "execution_count": 15,
   "id": "6b57d714",
   "metadata": {},
   "outputs": [
    {
     "data": {
      "text/plain": [
       "Date                     0\n",
       "Time                     0\n",
       "Global_active_power      0\n",
       "Global_reactive_power    0\n",
       "Voltage                  0\n",
       "Global_intensity         0\n",
       "Metering                 0\n",
       "dtype: int64"
      ]
     },
     "execution_count": 15,
     "metadata": {},
     "output_type": "execute_result"
    }
   ],
   "source": [
    "df.isna().sum()"
   ]
  },
  {
   "cell_type": "markdown",
   "id": "90d8412b",
   "metadata": {},
   "source": [
    "So no missing values. We can go ahead."
   ]
  },
  {
   "cell_type": "markdown",
   "id": "546d936f",
   "metadata": {},
   "source": [
    "## Duplicates"
   ]
  },
  {
   "cell_type": "code",
   "execution_count": 16,
   "id": "e477fc03",
   "metadata": {},
   "outputs": [
    {
     "data": {
      "text/plain": [
       "False    14808\n",
       "dtype: int64"
      ]
     },
     "execution_count": 16,
     "metadata": {},
     "output_type": "execute_result"
    }
   ],
   "source": [
    "df.duplicated().value_counts()"
   ]
  },
  {
   "cell_type": "markdown",
   "id": "3eacc94f",
   "metadata": {},
   "source": [
    "There are no duplicates. We can proceed."
   ]
  },
  {
   "cell_type": "markdown",
   "id": "a0201e7c",
   "metadata": {},
   "source": [
    "## Correlation:"
   ]
  },
  {
   "cell_type": "code",
   "execution_count": 17,
   "id": "8f6def43",
   "metadata": {},
   "outputs": [
    {
     "data": {
      "image/png": "[encoded data removed]",
      "text/plain": [
       "<Figure size 1200x800 with 2 Axes>"
      ]
     },
     "metadata": {},
     "output_type": "display_data"
    }
   ],
   "source": [
    "cor = df.corr()\n",
    "plt.figure(figsize = (12,8))\n",
    "sns.heatmap(cor, cmap=\"CMRmap\", annot=True)\n",
    "plt.show()"
   ]
  },
  {
   "cell_type": "markdown",
   "id": "c525a425",
   "metadata": {},
   "source": [
    "Global active power and global intensity are fully correlated. We will see if it affects the model perfomance or not."
   ]
  },
  {
   "cell_type": "markdown",
   "id": "17ef22e8",
   "metadata": {},
   "source": [
    "## EDA\n",
    "\n",
    "\n",
    "\n",
    "#### Comparative histograms"
   ]
  },
  {
   "cell_type": "code",
   "execution_count": 20,
   "id": "da3f16cf",
   "metadata": {},
   "outputs": [
    {
     "data": {
      "image/png": "[encoded data removed]",
      "text/plain": [
       "<Figure size 1600x400 with 6 Axes>"
      ]
     },
     "metadata": {},
     "output_type": "display_data"
    }
   ],
   "source": [
    "plt.figure(figsize=(16,4)) \n",
    "for i in range(6):\n",
    "    plt.subplot(2,3,i+1)\n",
    "    sns.histplot(x = df.columns[i], kde=True,color = 'purple', stat = 'density', data = df)"
   ]
  },
  {
   "cell_type": "markdown",
   "id": "2a640666",
   "metadata": {},
   "source": [
    "As we visualize the data it seems that this needs some transformation for this to work properly. As the data has multimodal distribution. "
   ]
  },
  {
   "cell_type": "markdown",
   "id": "c7b77b2d",
   "metadata": {},
   "source": [
    "#### Comparative boxplots:"
   ]
  },
  {
   "cell_type": "code",
   "execution_count": 26,
   "id": "6787e20e",
   "metadata": {},
   "outputs": [
    {
     "data": {
      "image/png": "[encoded data removed]",
      "text/plain": [
       "<Figure size 1200x800 with 5 Axes>"
      ]
     },
     "metadata": {},
     "output_type": "display_data"
    }
   ],
   "source": [
    "plt.figure(figsize=(12,8)) \n",
    "for i in range(5):\n",
    "    plt.subplot(2,3,i+1)\n",
    "    sns.boxplot(x = df.columns[i+2] , data = df)"
   ]
  },
  {
   "cell_type": "markdown",
   "id": "9043edd7",
   "metadata": {},
   "source": [
    "There are many outliers. Lets visualize the violinplot to get a measure of the data."
   ]
  },
  {
   "cell_type": "markdown",
   "id": "22d2a3d5",
   "metadata": {},
   "source": [
    "### Comparative voilinplots:"
   ]
  },
  {
   "cell_type": "code",
   "execution_count": 28,
   "id": "0ee41095",
   "metadata": {},
   "outputs": [
    {
     "data": {
      "image/png": "[encoded data removed]",
      "text/plain": [
       "<Figure size 1200x800 with 5 Axes>"
      ]
     },
     "metadata": {},
     "output_type": "display_data"
    }
   ],
   "source": [
    "plt.figure(figsize=(12,8)) \n",
    "for i in range(5):\n",
    "    plt.subplot(2,3,i+1)\n",
    "    sns.violinplot(x = df.columns[i+2] , data = df, color = 'green')"
   ]
  },
  {
   "cell_type": "markdown",
   "id": "bf079bcb",
   "metadata": {},
   "source": [
    "## Handling Outliers:\n",
    "\n",
    "Lets make a program to handle the outliers."
   ]
  },
  {
   "cell_type": "code",
   "execution_count": 29,
   "id": "6e2653fc",
   "metadata": {},
   "outputs": [],
   "source": [
    "def outlierClip(x):\n",
    "    q1 = np.percentile(x, 25, interpolation = 'midpoint')\n",
    "    q3 = np.percentile(x, 75, interpolation = 'midpoint')\n",
    "    iqr = q3 - q1\n",
    "    upper = q3 + 2* iqr\n",
    "    lower = q1 - 2* iqr\n",
    "    # using clip function\n",
    "    x = x.clip(lower=lower, upper=upper)\n",
    "    return x\n",
    "\n",
    "def applyFunc(df):\n",
    "    df = df.apply(lambda x: outlierClip(x))\n",
    "    return df"
   ]
  },
  {
   "cell_type": "markdown",
   "id": "25f9d3d2",
   "metadata": {},
   "source": [
    "But first we have to drop the date time variable to apply this function."
   ]
  },
  {
   "cell_type": "code",
   "execution_count": 31,
   "id": "ab7b68b6",
   "metadata": {},
   "outputs": [],
   "source": [
    "df.drop(['Date', 'Time'], axis = 1, inplace = True)"
   ]
  },
  {
   "cell_type": "code",
   "execution_count": 32,
   "id": "82f66543",
   "metadata": {},
   "outputs": [],
   "source": [
    "df = applyFunc(df)"
   ]
  },
  {
   "cell_type": "code",
   "execution_count": 33,
   "id": "b6b9d766",
   "metadata": {},
   "outputs": [
    {
     "data": {
      "image/png": "[encoded data removed]",
      "text/plain": [
       "<Figure size 1200x800 with 5 Axes>"
      ]
     },
     "metadata": {},
     "output_type": "display_data"
    }
   ],
   "source": [
    "#  Checking the status with a violin plot\n",
    "\n",
    "plt.figure(figsize=(12,8)) \n",
    "for i in range(5):\n",
    "    plt.subplot(2,3,i+1)\n",
    "    sns.violinplot(x = df.columns[i] , data = df, color = 'brown')"
   ]
  },
  {
   "cell_type": "markdown",
   "id": "c6b8384e",
   "metadata": {},
   "source": [
    "This data has become much better. Lets try the train test split and then the standard scaling."
   ]
  },
  {
   "cell_type": "markdown",
   "id": "76c10597",
   "metadata": {},
   "source": [
    "## Preprocessing:\n",
    "\n",
    "\n"
   ]
  },
  {
   "cell_type": "markdown",
   "id": "6a9e981a",
   "metadata": {},
   "source": [
    "### Train Test Split"
   ]
  },
  {
   "cell_type": "code",
   "execution_count": 34,
   "id": "d01bcbfe",
   "metadata": {},
   "outputs": [
    {
     "data": {
      "text/html": [
       "<div>\n",
       "<style scoped>\n",
       "    .dataframe tbody tr th:only-of-type {\n",
       "        vertical-align: middle;\n",
       "    }\n",
       "\n",
       "    .dataframe tbody tr th {\n",
       "        vertical-align: top;\n",
       "    }\n",
       "\n",
       "    .dataframe thead th {\n",
       "        text-align: right;\n",
       "    }\n",
       "</style>\n",
       "<table border=\"1\" class=\"dataframe\">\n",
       "  <thead>\n",
       "    <tr style=\"text-align: right;\">\n",
       "      <th></th>\n",
       "      <th>Global_active_power</th>\n",
       "      <th>Global_reactive_power</th>\n",
       "      <th>Voltage</th>\n",
       "      <th>Global_intensity</th>\n",
       "    </tr>\n",
       "  </thead>\n",
       "  <tbody>\n",
       "    <tr>\n",
       "      <th>1234544</th>\n",
       "      <td>0.346</td>\n",
       "      <td>0.084</td>\n",
       "      <td>241.38</td>\n",
       "      <td>1.4</td>\n",
       "    </tr>\n",
       "    <tr>\n",
       "      <th>2014090</th>\n",
       "      <td>1.324</td>\n",
       "      <td>0.080</td>\n",
       "      <td>240.03</td>\n",
       "      <td>5.4</td>\n",
       "    </tr>\n",
       "    <tr>\n",
       "      <th>1236957</th>\n",
       "      <td>1.468</td>\n",
       "      <td>0.116</td>\n",
       "      <td>241.39</td>\n",
       "      <td>6.0</td>\n",
       "    </tr>\n",
       "    <tr>\n",
       "      <th>602895</th>\n",
       "      <td>1.968</td>\n",
       "      <td>0.000</td>\n",
       "      <td>236.21</td>\n",
       "      <td>8.4</td>\n",
       "    </tr>\n",
       "    <tr>\n",
       "      <th>1464736</th>\n",
       "      <td>2.594</td>\n",
       "      <td>0.088</td>\n",
       "      <td>240.23</td>\n",
       "      <td>10.8</td>\n",
       "    </tr>\n",
       "  </tbody>\n",
       "</table>\n",
       "</div>"
      ],
      "text/plain": [
       "         Global_active_power  Global_reactive_power  Voltage  Global_intensity\n",
       "1234544                0.346                  0.084   241.38               1.4\n",
       "2014090                1.324                  0.080   240.03               5.4\n",
       "1236957                1.468                  0.116   241.39               6.0\n",
       "602895                 1.968                  0.000   236.21               8.4\n",
       "1464736                2.594                  0.088   240.23              10.8"
      ]
     },
     "execution_count": 34,
     "metadata": {},
     "output_type": "execute_result"
    }
   ],
   "source": [
    "y = df['Metering']\n",
    "X = df.drop('Metering', axis = 1)\n",
    "X.head()"
   ]
  },
  {
   "cell_type": "code",
   "execution_count": 35,
   "id": "6e86d5d0",
   "metadata": {},
   "outputs": [
    {
     "data": {
      "text/plain": [
       "1234544     2.0\n",
       "2014090    18.0\n",
       "1236957    21.0\n",
       "602895     18.0\n",
       "1464736     1.0\n",
       "Name: Metering, dtype: float64"
      ]
     },
     "execution_count": 35,
     "metadata": {},
     "output_type": "execute_result"
    }
   ],
   "source": [
    "y.head()"
   ]
  },
  {
   "cell_type": "code",
   "execution_count": 36,
   "id": "01daef4d",
   "metadata": {},
   "outputs": [],
   "source": [
    "from sklearn.model_selection import train_test_split\n",
    "X_train, X_test, y_train, y_test = train_test_split(X, y, test_size=0.33, random_state=42)"
   ]
  },
  {
   "cell_type": "code",
   "execution_count": 37,
   "id": "da16c242",
   "metadata": {},
   "outputs": [
    {
     "data": {
      "text/plain": [
       "((9921, 4), (4887, 4), (9921,), (4887,))"
      ]
     },
     "execution_count": 37,
     "metadata": {},
     "output_type": "execute_result"
    }
   ],
   "source": [
    "X_train.shape, X_test.shape, y_train.shape, y_test.shape"
   ]
  },
  {
   "cell_type": "markdown",
   "id": "f65debbd",
   "metadata": {},
   "source": [
    "### Standard Scaling"
   ]
  },
  {
   "cell_type": "code",
   "execution_count": 38,
   "id": "6b29c3a1",
   "metadata": {},
   "outputs": [],
   "source": [
    "from sklearn.preprocessing import StandardScaler\n",
    "scaler = StandardScaler()    "
   ]
  },
  {
   "cell_type": "code",
   "execution_count": 39,
   "id": "19407877",
   "metadata": {},
   "outputs": [],
   "source": [
    "# scaling the training variable\n",
    "scaler.fit(X_train)\n",
    "\n",
    "#transforming the training variable\n",
    "X_train_tf=scaler.transform(X_train)\n",
    "\n",
    "# transforming the test variable based on the train variable\n",
    "X_test_tf=scaler.transform(X_test)"
   ]
  },
  {
   "cell_type": "markdown",
   "id": "1aad1e3d",
   "metadata": {},
   "source": [
    "## Model Fitting:\n",
    "\n",
    "### Linear Regression Model:\n",
    "\n",
    "We will first try the Linear Regression model:"
   ]
  },
  {
   "cell_type": "code",
   "execution_count": 41,
   "id": "76a4f4d4",
   "metadata": {},
   "outputs": [
    {
     "name": "stdout",
     "output_type": "stream",
     "text": [
      "RMSE of LR model on train data:  6.580718202255977\n",
      "RMSE of LR model on test data:  6.587304749354212\n",
      "R squared of LR model on train data:  0.7145072637379442\n",
      "Adjusted R squared of LR model on train data:  0.71439209926184\n",
      "\n",
      "R squared of LR model on test data:  0.7083981964087893\n",
      "Adjusted R squared of LR model on test data:  0.7081592764550071\n"
     ]
    }
   ],
   "source": [
    "from sklearn.linear_model import LinearRegression\n",
    "from sklearn.metrics import mean_squared_error\n",
    "# create an object of the LinearRegression Model\n",
    "model_lr = LinearRegression()\n",
    "\n",
    "# fit the model with the training data\n",
    "model_lr.fit(X_train_tf, y_train)\n",
    "\n",
    "# predict the target on train and test data \n",
    "predict_train_lr = model_lr.predict(X_train_tf)\n",
    "predict_test_lr  = model_lr.predict(X_test_tf)\n",
    "\n",
    "# Root Mean Squared Error on train and test date\n",
    "print('RMSE of LR model on train data: ', mean_squared_error(y_train, predict_train_lr)**(0.5))\n",
    "print('RMSE of LR model on test data: ',  mean_squared_error(y_test, predict_test_lr)**(0.5))\n",
    "\n",
    "# parameters for calculating the accuracy meterics of the model\n",
    "# no. of observations\n",
    "n_train = len(y_train)\n",
    "n_test = len(y_test)\n",
    "# no. of predictors\n",
    "p = 4\n",
    "\n",
    "from sklearn.metrics import r2_score\n",
    "# R2 & Adj_R2 on train data \n",
    "r2_train_lr = r2_score(y_train, predict_train_lr)\n",
    "adj_r2_train_lr = 1-(1-r2_train_lr)*(n_train-1)/(n_train-p-1)\n",
    "\n",
    "# R2 & Adj_R2 on test data\n",
    "r2_test_lr = r2_score(y_test, predict_test_lr)\n",
    "adj_r2_test_lr = 1-(1-r2_test_lr)*(n_test-1)/(n_test-p-1)\n",
    "\n",
    "# R2 & Adj_R2 on train and test date\n",
    "print('R squared of LR model on train data: ', r2_train_lr)\n",
    "print('Adjusted R squared of LR model on train data: ', adj_r2_train_lr)\n",
    "print()\n",
    "print('R squared of LR model on test data: ', r2_test_lr)\n",
    "print('Adjusted R squared of LR model on test data: ', adj_r2_test_lr)"
   ]
  },
  {
   "cell_type": "markdown",
   "id": "d3c85dc7",
   "metadata": {},
   "source": [
    "##### The linear regressing model is giving a Rsquared score of around 70.8% on test data.\n",
    "\n",
    "#### Lets try the other models."
   ]
  },
  {
   "cell_type": "markdown",
   "id": "8fddb983",
   "metadata": {},
   "source": [
    "### Ridge Regression Model:"
   ]
  },
  {
   "cell_type": "code",
   "execution_count": 43,
   "id": "9ed7e194",
   "metadata": {},
   "outputs": [
    {
     "name": "stdout",
     "output_type": "stream",
     "text": [
      "RMSE of Ridge model on train data:  6.5817426535845724\n",
      "RMSE of Ridge model on test data:  6.580757044448675\n",
      "R squared of Ridge model on train data:  0.7144183688272874\n",
      "Adjusted R squared of Ridge model on train data:  0.7143031684920018\n",
      "\n",
      "R squared of Ridge model on test data:  0.7089776059579617\n",
      "Adjusted R squared of Ridge model on test data:  0.7087391607354774\n"
     ]
    }
   ],
   "source": [
    "from sklearn.linear_model import Ridge\n",
    "model_rr = Ridge(alpha=1)\n",
    "\n",
    "# fit the model with the training data\n",
    "model_rr.fit(X_train_tf, y_train)\n",
    "\n",
    "# predict the target on train and test data \n",
    "predict_train_rr = model_rr.predict(X_train_tf)\n",
    "predict_test_rr  = model_rr.predict(X_test_tf)\n",
    "\n",
    "# Root Mean Squared Error on train and test date\n",
    "print('RMSE of Ridge model on train data: ', mean_squared_error(y_train, predict_train_rr)**(0.5))\n",
    "print('RMSE of Ridge model on test data: ',  mean_squared_error(y_test, predict_test_rr)**(0.5))\n",
    "\n",
    "# R2 & Adj_R2 on train data \n",
    "from sklearn.metrics import r2_score\n",
    "r2_train_rr = r2_score(y_train, predict_train_rr)\n",
    "adj_r2_train_rr = 1-(1-r2_train_rr)*(n_train-1)/(n_train-p-1)\n",
    "\n",
    "# R2 & Adj_R2 on test data\n",
    "r2_test_rr = r2_score(y_test, predict_test_rr)\n",
    "adj_r2_test_rr = 1-(1-r2_test_rr)*(n_test-1)/(n_test-p-1)\n",
    "\n",
    "# R2 & Adj_R2 on train and test date\n",
    "print('R squared of Ridge model on train data: ', r2_train_rr)\n",
    "print('Adjusted R squared of Ridge model on train data: ', adj_r2_train_rr)\n",
    "print()\n",
    "print('R squared of Ridge model on test data: ', r2_test_rr)\n",
    "print('Adjusted R squared of Ridge model on test data: ', adj_r2_test_rr)"
   ]
  },
  {
   "cell_type": "markdown",
   "id": "1307db7e",
   "metadata": {},
   "source": [
    "#### The ridge regression with an alpha value of 1, is acting very similar to the linear regression model. \n",
    "\n",
    "Lets try some grid search cv with ridge regression model."
   ]
  },
  {
   "cell_type": "code",
   "execution_count": 48,
   "id": "db38c0e7",
   "metadata": {},
   "outputs": [
    {
     "name": "stdout",
     "output_type": "stream",
     "text": [
      "The best model parameters are: Ridge(alpha=0.1)\n",
      "RMSE of Best Ridge model on train data:  6.580730482050611\n",
      "RMSE of Best Ridge model on test data:  6.5864842189503445\n",
      "R squared of Ridge model on train data:  0.7145061982629204\n",
      "Adjusted R squared of Ridge model on train data:  0.714391033357016\n",
      "\n",
      "R squared of Ridge model on test data:  0.7089776059579617\n",
      "Adjusted R squared of Ridge model on test data:  0.7087391607354774\n"
     ]
    }
   ],
   "source": [
    "from sklearn.linear_model import Ridge\n",
    "import numpy as np\n",
    "from sklearn.model_selection import GridSearchCV\n",
    "\n",
    "parameters = {'alpha': [1,0.1,0.01,0.001,0.0001,0] , \"fit_intercept\": [True, False]}\n",
    "\n",
    "# define the model/ estimator\n",
    "model_rr = Ridge()\n",
    "\n",
    "# define the grid search\n",
    "model_rr_gscv = GridSearchCV(model_rr, param_grid = parameters, scoring='neg_mean_squared_error',cv=5)\n",
    "\n",
    "#fit the grid search\n",
    "model_rr_gscv.fit(X_train_tf,y_train)\n",
    "\n",
    "# best estimator\n",
    "print('The best model parameters are:',model_rr_gscv.best_estimator_)\n",
    "\n",
    "# parameters for calculating the accuracy meterics of the model\n",
    "# no. of observations\n",
    "n_train = len(y_train)\n",
    "n_test = len(y_test)\n",
    "# no. of predictors\n",
    "p = 4\n",
    "\n",
    "# best model\n",
    "model_rr_best = model_rr_gscv.best_estimator_\n",
    "model_rr_best.fit(X_train_tf, y_train)\n",
    "\n",
    "\n",
    "# predict the target on train and test data \n",
    "predict_train_rr_best = model_rr_best.predict(X_train_tf)\n",
    "predict_test_rr_best  = model_rr_best.predict(X_test_tf)\n",
    "\n",
    "# Root Mean Squared Error on train and test date\n",
    "print('RMSE of Best Ridge model on train data: ', mean_squared_error(y_train, predict_train_rr_best)**(0.5))\n",
    "print('RMSE of Best Ridge model on test data: ',  mean_squared_error(y_test, predict_test_rr_best)**(0.5))\n",
    "\n",
    "# R2 & Adj_R2 on train data \n",
    "from sklearn.metrics import r2_score\n",
    "r2_train_rr_best = r2_score(y_train, predict_train_rr_best)\n",
    "adj_r2_train_rr_best = 1-(1-r2_train_rr_best)*(n_train-1)/(n_train-p-1)\n",
    "\n",
    "# R2 & Adj_R2 on test data\n",
    "r2_test_rr_best = r2_score(y_test, predict_test_rr)\n",
    "adj_r2_test_rr_best = 1-(1-r2_test_rr_best)*(n_test-1)/(n_test-p-1)\n",
    "\n",
    "# R2 & Adj_R2 on train and test date\n",
    "print('R squared of Ridge model on train data: ', r2_train_rr_best)\n",
    "print('Adjusted R squared of Ridge model on train data: ', adj_r2_train_rr_best)\n",
    "print()\n",
    "print('R squared of Ridge model on test data: ', r2_test_rr_best)\n",
    "print('Adjusted R squared of Ridge model on test data: ', adj_r2_test_rr_best)"
   ]
  },
  {
   "cell_type": "markdown",
   "id": "836e7716",
   "metadata": {},
   "source": [
    "##### There is negligible improvement over the linear regression model in this."
   ]
  },
  {
   "cell_type": "markdown",
   "id": "dbd214fd",
   "metadata": {},
   "source": [
    "### Lasso Regression:"
   ]
  },
  {
   "cell_type": "code",
   "execution_count": 51,
   "id": "b7e136b0",
   "metadata": {},
   "outputs": [
    {
     "name": "stdout",
     "output_type": "stream",
     "text": [
      "RMSE of Lasso model on train data:  6.6562573822947035\n",
      "RMSE of Lasso model on test data:  6.603626323129357\n",
      "R squared of Lasso model on train data:  0.7079153804515294\n",
      "Adjusted R squared of Lasso model on train data:  0.7077975568857575\n",
      "\n",
      "R squared of Lasso model on test data:  0.7069513841569955\n",
      "Adjusted R squared of Lasso model on test data:  0.7067112787773617\n"
     ]
    }
   ],
   "source": [
    "from sklearn.linear_model import Lasso\n",
    "\n",
    "model_ls = Lasso(alpha=0.1)\n",
    "\n",
    "# fit the model with the training data\n",
    "model_ls.fit(X_train_tf, y_train)\n",
    "\n",
    "# predict the target on train and test data \n",
    "predict_train_ls = model_ls.predict(X_train_tf)\n",
    "predict_test_ls  = model_ls.predict(X_test_tf)\n",
    "\n",
    "# Root Mean Squared Error on train and test date\n",
    "print('RMSE of Lasso model on train data: ', mean_squared_error(y_train, predict_train_ls)**(0.5))\n",
    "print('RMSE of Lasso model on test data: ',  mean_squared_error(y_test, predict_test_ls)**(0.5))\n",
    "\n",
    "# R2 & Adj_R2 on train data \n",
    "from sklearn.metrics import r2_score\n",
    "r2_train_ls = r2_score(y_train, predict_train_ls)\n",
    "adj_r2_train_ls = 1-(1-r2_train_ls)*(n_train-1)/(n_train-p-1)\n",
    "\n",
    "# R2 & Adj_R2 on test data\n",
    "r2_test_ls = r2_score(y_test, predict_test_ls)\n",
    "adj_r2_test_ls = 1-(1-r2_test_ls)*(n_test-1)/(n_test-p-1)\n",
    "\n",
    "# R2 & Adj_R2 on train and test date\n",
    "print('R squared of Lasso model on train data: ', r2_train_ls)\n",
    "print('Adjusted R squared of Lasso model on train data: ', adj_r2_train_ls)\n",
    "print()\n",
    "print('R squared of Lasso model on test data: ', r2_test_ls)\n",
    "print('Adjusted R squared of Lasso model on test data: ', adj_r2_test_ls)"
   ]
  },
  {
   "cell_type": "markdown",
   "id": "6530c424",
   "metadata": {},
   "source": [
    "#### This performed worse than the  grid search cv of Ridge regression. Now lets try grid search Cv on Lasso Regression."
   ]
  },
  {
   "cell_type": "code",
   "execution_count": 54,
   "id": "6ee5ee8c",
   "metadata": {},
   "outputs": [
    {
     "name": "stdout",
     "output_type": "stream",
     "text": [
      "The best model parameters are: Lasso(alpha=0)\n",
      "RMSE of Best Lasso model on train data:  6.582377409821379\n",
      "RMSE of Best Lasso model on test data:  6.579333728225336\n",
      "R squared of Best Lasso model on train data:  0.7143632820600613\n",
      "Adjusted R squared of Best Lasso model on train data:  0.7142480595034094\n",
      "\n",
      "R squared of Best lasso model on test data:  0.7069513841569955\n",
      "Adjusted R squared of Best Lasso model on test data:  0.7067112787773617\n"
     ]
    }
   ],
   "source": [
    "from sklearn.linear_model import Lasso\n",
    "import numpy as np\n",
    "from sklearn.model_selection import GridSearchCV\n",
    "\n",
    "parameters = {'alpha': [1,0.1,0.01,0.001,0.0001,0.00001, 0] }\n",
    "\n",
    "# define the model/ estimator\n",
    "model_ls = Lasso()\n",
    "\n",
    "# define the grid search\n",
    "model_ls_gscv = GridSearchCV(model_ls, param_grid = parameters, scoring='neg_mean_squared_error',cv=5)\n",
    "\n",
    "#fit the grid search\n",
    "model_ls_gscv.fit(X_train_tf,y_train)\n",
    "\n",
    "# best estimator\n",
    "print('The best model parameters are:',model_ls_gscv.best_estimator_)\n",
    "\n",
    "# parameters for calculating the accuracy meterics of the model\n",
    "# no. of observations\n",
    "n_train = len(y_train)\n",
    "n_test = len(y_test)\n",
    "# no. of predictors\n",
    "p = 4\n",
    "\n",
    "# best model\n",
    "model_ls_best = model_ls_gscv.best_estimator_\n",
    "model_ls_best.fit(X_train_tf, y_train)\n",
    "\n",
    "\n",
    "# predict the target on train and test data \n",
    "predict_train_ls_best = model_ls_best.predict(X_train_tf)\n",
    "predict_test_ls_best  = model_ls_best.predict(X_test_tf)\n",
    "\n",
    "# Root Mean Squared Error on train and test date\n",
    "print('RMSE of Best Lasso model on train data: ', mean_squared_error(y_train, predict_train_ls_best)**(0.5))\n",
    "print('RMSE of Best Lasso model on test data: ',  mean_squared_error(y_test, predict_test_ls_best)**(0.5))\n",
    "\n",
    "# R2 & Adj_R2 on train data \n",
    "from sklearn.metrics import r2_score\n",
    "r2_train_ls_best = r2_score(y_train, predict_train_ls_best)\n",
    "adj_r2_train_ls_best = 1-(1-r2_train_ls_best)*(n_train-1)/(n_train-p-1)\n",
    "\n",
    "# R2 & Adj_R2 on test data\n",
    "r2_test_ls_best = r2_score(y_test, predict_test_ls_best)\n",
    "adj_r2_test_ls_best = 1-(1-r2_test_ls_best)*(n_test-1)/(n_test-p-1)\n",
    "\n",
    "# R2 & Adj_R2 on train and test date\n",
    "print('R squared of Best Lasso model on train data: ', r2_train_ls_best)\n",
    "print('Adjusted R squared of Best Lasso model on train data: ', adj_r2_train_ls_best)\n",
    "print()\n",
    "print('R squared of Best lasso model on test data: ', r2_test_ls_best)\n",
    "print('Adjusted R squared of Best Lasso model on test data: ', adj_r2_test_ls_best)"
   ]
  },
  {
   "cell_type": "markdown",
   "id": "4b3f3d6d",
   "metadata": {},
   "source": [
    "##### Again we can see that Ridge has performed slightly better, than this Lasso model. Lets try elastic net now."
   ]
  },
  {
   "cell_type": "markdown",
   "id": "c333e634",
   "metadata": {},
   "source": [
    "### Elastic Net Model"
   ]
  },
  {
   "cell_type": "code",
   "execution_count": 55,
   "id": "3e9ba650",
   "metadata": {},
   "outputs": [
    {
     "name": "stdout",
     "output_type": "stream",
     "text": [
      "RMSE of ELnet model on train data:  7.130519821053528\n",
      "RMSE of ELnet model on test data:  7.052499742598633\n",
      "R squared of ELnet model on train data:  0.6648101508504123\n",
      "Adjusted R squared of ELnet model on train data:  0.6646749391323205\n",
      "\n",
      "R squared of ELnet model on test data:  0.6657581300785886\n",
      "Adjusted R squared of ELnet model on test data:  0.6654842735690258\n"
     ]
    }
   ],
   "source": [
    "from sklearn.linear_model import ElasticNet\n",
    "\n",
    "model_en = ElasticNet(alpha=1.0, l1_ratio=0.5)\n",
    "\n",
    "# fit the model with the training data\n",
    "model_en.fit(X_train_tf, y_train)\n",
    "\n",
    "# predict the target on train and test data \n",
    "predict_train_en = model_en.predict(X_train_tf)\n",
    "predict_test_en  = model_en.predict(X_test_tf)\n",
    "\n",
    "# Root Mean Squared Error on train and test date\n",
    "print('RMSE of ELnet model on train data: ', mean_squared_error(y_train, predict_train_en)**(0.5))\n",
    "print('RMSE of ELnet model on test data: ',  mean_squared_error(y_test, predict_test_en)**(0.5))\n",
    "\n",
    "# R2 & Adj_R2 on train data \n",
    "from sklearn.metrics import r2_score\n",
    "r2_train_en = r2_score(y_train, predict_train_en)\n",
    "adj_r2_train_en = 1-(1-r2_train_en)*(n_train-1)/(n_train-p-1)\n",
    "\n",
    "# R2 & Adj_R2 on test data\n",
    "r2_test_en = r2_score(y_test, predict_test_en)\n",
    "adj_r2_test_en = 1-(1-r2_test_en)*(n_test-1)/(n_test-p-1)\n",
    "\n",
    "# R2 & Adj_R2 on train and test date\n",
    "print('R squared of ELnet model on train data: ', r2_train_en)\n",
    "print('Adjusted R squared of ELnet model on train data: ', adj_r2_train_en)\n",
    "print()\n",
    "print('R squared of ELnet model on test data: ', r2_test_en)\n",
    "print('Adjusted R squared of ELnet model on test data: ', adj_r2_test_en)"
   ]
  },
  {
   "cell_type": "markdown",
   "id": "74cfcd2f",
   "metadata": {},
   "source": [
    "#### This is the worse model out of all the models considered so far.  Lets try grid search CV here."
   ]
  },
  {
   "cell_type": "code",
   "execution_count": 59,
   "id": "ee65ca29",
   "metadata": {},
   "outputs": [
    {
     "name": "stdout",
     "output_type": "stream",
     "text": [
      "The best model parameters are: ElasticNet(alpha=0.0, l1_ratio=0.0)\n",
      "RMSE of Best Elnet model on train data:  6.582377409821379\n",
      "RMSE of Best Elnet model on test data:  6.579333728225336\n",
      "R squared of Best Elnet model on train data:  0.7143632820600613\n",
      "Adjusted R squared of Best Elnet model on train data:  0.7142480595034094\n",
      "\n",
      "R squared of Best Elnet model on test data:  0.709103479652321\n",
      "Adjusted R squared of Best Elnet model on test data:  0.7088651375627284\n"
     ]
    }
   ],
   "source": [
    "from sklearn.linear_model import ElasticNet\n",
    "import numpy as np\n",
    "from sklearn.model_selection import GridSearchCV\n",
    "\n",
    "# defining the grid parameters\n",
    "\n",
    "grid = dict()\n",
    "grid['alpha'] = [1e-5, 1e-4, 1e-3, 1e-2, 1e-1, 0.0, 1.0, 10.0, 100.0]\n",
    "grid['l1_ratio'] = np.arange(0, 1, 0.01)\n",
    "\n",
    "# define the model/ estimator\n",
    "model_el = ElasticNet()\n",
    "\n",
    "# define the grid search\n",
    "model_el_gscv = GridSearchCV(model_el, param_grid = grid, scoring='neg_mean_squared_error',cv=5)\n",
    "\n",
    "#fit the grid search\n",
    "model_el_gscv.fit(X_train_tf,y_train)\n",
    "\n",
    "# best estimator\n",
    "print('The best model parameters are:',model_el_gscv.best_estimator_)\n",
    "\n",
    "# parameters for calculating the accuracy meterics of the model\n",
    "# no. of observations\n",
    "n_train = len(y_train)\n",
    "n_test = len(y_test)\n",
    "# no. of predictors\n",
    "p = 4\n",
    "\n",
    "# best model\n",
    "model_el_best = model_el_gscv.best_estimator_\n",
    "model_el_best.fit(X_train_tf, y_train)\n",
    "\n",
    "\n",
    "# predict the target on train and test data \n",
    "predict_train_el_best = model_el_best.predict(X_train_tf)\n",
    "predict_test_el_best  = model_el_best.predict(X_test_tf)\n",
    "\n",
    "# Root Mean Squared Error on train and test date\n",
    "print('RMSE of Best Elnet model on train data: ', mean_squared_error(y_train, predict_train_el_best)**(0.5))\n",
    "print('RMSE of Best Elnet model on test data: ',  mean_squared_error(y_test, predict_test_el_best)**(0.5))\n",
    "\n",
    "# R2 & Adj_R2 on train data \n",
    "from sklearn.metrics import r2_score\n",
    "r2_train_el_best = r2_score(y_train, predict_train_el_best)\n",
    "adj_r2_train_el_best = 1-(1-r2_train_el_best)*(n_train-1)/(n_train-p-1)\n",
    "\n",
    "# R2 & Adj_R2 on test data\n",
    "r2_test_el_best = r2_score(y_test, predict_test_el_best)\n",
    "adj_r2_test_el_best = 1-(1-r2_test_el_best)*(n_test-1)/(n_test-p-1)\n",
    "\n",
    "# R2 & Adj_R2 on train and test date\n",
    "print('R squared of Best Elnet model on train data: ', r2_train_el_best)\n",
    "print('Adjusted R squared of Best Elnet model on train data: ', adj_r2_train_el_best)\n",
    "print()\n",
    "print('R squared of Best Elnet model on test data: ', r2_test_el_best)\n",
    "print('Adjusted R squared of Best Elnet model on test data: ', adj_r2_test_el_best)"
   ]
  },
  {
   "cell_type": "markdown",
   "id": "a8eb6a55",
   "metadata": {},
   "source": [
    "#### The alpha l1_ratio values of the best model indicate that the linear regression is the best model. \n",
    "\n",
    "#### Lets try the support vector regression model now."
   ]
  },
  {
   "cell_type": "markdown",
   "id": "6d31822f",
   "metadata": {},
   "source": [
    "### Support Vector Regressor:"
   ]
  },
  {
   "cell_type": "code",
   "execution_count": 60,
   "id": "5d6d84e5",
   "metadata": {},
   "outputs": [
    {
     "name": "stdout",
     "output_type": "stream",
     "text": [
      "RMSE of SV model on train data:  9.28110208269011\n",
      "RMSE of SV model on test data:  9.224988863532966\n",
      "R squared of SV model on train data:  0.43213176759669114\n",
      "Adjusted R squared of Sv model on train data:  0.4319026961031843\n",
      "\n",
      "R squared of SV model on test data:  0.42811804197789827\n",
      "Adjusted R squared of SV model on test data:  0.4276494783088921\n"
     ]
    }
   ],
   "source": [
    "from sklearn.svm import SVR\n",
    "\n",
    "model_sv = SVR(kernel = 'poly')\n",
    "\n",
    "# fit the model with the training data\n",
    "model_sv.fit(X_train_tf, y_train)\n",
    "\n",
    "# predict the target on train and test data \n",
    "predict_train_sv = model_sv.predict(X_train_tf)\n",
    "predict_test_sv  = model_sv.predict(X_test_tf)\n",
    "\n",
    "# Root Mean Squared Error on train and test date\n",
    "print('RMSE of SV model on train data: ', mean_squared_error(y_train, predict_train_sv)**(0.5))\n",
    "print('RMSE of SV model on test data: ',  mean_squared_error(y_test, predict_test_sv)**(0.5))\n",
    "\n",
    "# R2 & Adj_R2 on train data \n",
    "from sklearn.metrics import r2_score\n",
    "r2_train_sv = r2_score(y_train, predict_train_sv)\n",
    "adj_r2_train_sv = 1-(1-r2_train_sv)*(n_train-1)/(n_train-p-1)\n",
    "\n",
    "# R2 & Adj_R2 on test data\n",
    "r2_test_sv = r2_score(y_test, predict_test_sv)\n",
    "adj_r2_test_sv = 1-(1-r2_test_sv)*(n_test-1)/(n_test-p-1)\n",
    "\n",
    "# R2 & Adj_R2 on train and test date\n",
    "print('R squared of SV model on train data: ', r2_train_sv)\n",
    "print('Adjusted R squared of Sv model on train data: ', adj_r2_train_sv)\n",
    "print()\n",
    "print('R squared of SV model on test data: ', r2_test_sv)\n",
    "print('Adjusted R squared of SV model on test data: ', adj_r2_test_sv)"
   ]
  },
  {
   "cell_type": "code",
   "execution_count": 62,
   "id": "b8474e8e",
   "metadata": {},
   "outputs": [
    {
     "name": "stdout",
     "output_type": "stream",
     "text": [
      "RMSE of SV model on train data:  6.331950766822386\n",
      "RMSE of SV model on test data:  6.364383677835735\n",
      "R squared of SV model on train data:  0.735683950936072\n",
      "Adjusted R squared of Sv model on train data:  0.73557732889127\n",
      "\n",
      "R squared of SV model on test data:  0.7278004512475977\n",
      "Adjusted R squared of SV model on test data:  0.7275774282662357\n"
     ]
    }
   ],
   "source": [
    "# trying with rbf kernel \n",
    "from sklearn.svm import SVR\n",
    "\n",
    "model_sv = SVR(kernel = 'rbf')\n",
    "\n",
    "# fit the model with the training data\n",
    "model_sv.fit(X_train_tf, y_train)\n",
    "\n",
    "# predict the target on train and test data \n",
    "predict_train_sv = model_sv.predict(X_train_tf)\n",
    "predict_test_sv  = model_sv.predict(X_test_tf)\n",
    "\n",
    "# Root Mean Squared Error on train and test date\n",
    "print('RMSE of SV model on train data: ', mean_squared_error(y_train, predict_train_sv)**(0.5))\n",
    "print('RMSE of SV model on test data: ',  mean_squared_error(y_test, predict_test_sv)**(0.5))\n",
    "\n",
    "# R2 & Adj_R2 on train data \n",
    "from sklearn.metrics import r2_score\n",
    "r2_train_sv = r2_score(y_train, predict_train_sv)\n",
    "adj_r2_train_sv = 1-(1-r2_train_sv)*(n_train-1)/(n_train-p-1)\n",
    "\n",
    "# R2 & Adj_R2 on test data\n",
    "r2_test_sv = r2_score(y_test, predict_test_sv)\n",
    "adj_r2_test_sv = 1-(1-r2_test_sv)*(n_test-1)/(n_test-p-1)\n",
    "\n",
    "# R2 & Adj_R2 on train and test date\n",
    "print('R squared of SV model on train data: ', r2_train_sv)\n",
    "print('Adjusted R squared of Sv model on train data: ', adj_r2_train_sv)\n",
    "print()\n",
    "print('R squared of SV model on test data: ', r2_test_sv)\n",
    "print('Adjusted R squared of SV model on test data: ', adj_r2_test_sv)"
   ]
  },
  {
   "cell_type": "markdown",
   "id": "b1e73d9f",
   "metadata": {},
   "source": [
    "#### This is the best score so far and we can try grid search cv now to refine it further."
   ]
  },
  {
   "cell_type": "code",
   "execution_count": 64,
   "id": "38e9c96f",
   "metadata": {},
   "outputs": [
    {
     "name": "stdout",
     "output_type": "stream",
     "text": [
      "The best model parameters are: SVR(C=10, gamma=1)\n",
      "RMSE of Best SV model on train data:  6.159096364634971\n",
      "RMSE of Best SV model on test data:  6.229066734368782\n",
      "R squared of Best SV model on train data:  0.7499179773250013\n",
      "Adjusted R squared of Best SV model on train data:  0.749817097122228\n",
      "\n",
      "R squared of Best SV model on test data:  0.7392521947004407\n",
      "Adjusted R squared of Best SV model on test data:  0.739038554548618\n"
     ]
    }
   ],
   "source": [
    "from sklearn.svm import SVR\n",
    "import numpy as np\n",
    "from sklearn.model_selection import GridSearchCV\n",
    "\n",
    "# defining the grid parameters\n",
    "\n",
    "param_grid = {'C': [0.1, 1, 10, 100, 1000], \n",
    "              'gamma': [1, 0.1, 0.01, 0.001, 0.0001],\n",
    "              'kernel': ['rbf', 'poly', 'sigmoid', 'linear']} \n",
    "\n",
    "# define the model/ estimator\n",
    "model_sv = SVR()\n",
    "\n",
    "# define the grid search\n",
    "model_sv_gscv = GridSearchCV(model_sv, param_grid = param_grid, scoring='neg_mean_squared_error',cv=5, n_jobs = -1)\n",
    "\n",
    "#fit the grid search\n",
    "model_sv_gscv.fit(X_train_tf,y_train)\n",
    "\n",
    "# best estimator\n",
    "print('The best model parameters are:',model_sv_gscv.best_estimator_)\n",
    "\n",
    "# parameters for calculating the accuracy meterics of the model\n",
    "# no. of observations\n",
    "n_train = len(y_train)\n",
    "n_test = len(y_test)\n",
    "# no. of predictors\n",
    "p = 4\n",
    "\n",
    "# best model\n",
    "model_sv_best = model_sv_gscv.best_estimator_\n",
    "model_sv_best.fit(X_train_tf, y_train)\n",
    "\n",
    "\n",
    "# predict the target on train and test data \n",
    "predict_train_sv_best = model_sv_best.predict(X_train_tf)\n",
    "predict_test_sv_best  = model_sv_best.predict(X_test_tf)\n",
    "\n",
    "# Root Mean Squared Error on train and test date\n",
    "print('RMSE of Best SV model on train data: ', mean_squared_error(y_train, predict_train_sv_best)**(0.5))\n",
    "print('RMSE of Best SV model on test data: ',  mean_squared_error(y_test, predict_test_sv_best)**(0.5))\n",
    "\n",
    "# R2 & Adj_R2 on train data \n",
    "from sklearn.metrics import r2_score\n",
    "r2_train_sv_best = r2_score(y_train, predict_train_sv_best)\n",
    "adj_r2_train_sv_best = 1-(1-r2_train_sv_best)*(n_train-1)/(n_train-p-1)\n",
    "\n",
    "# R2 & Adj_R2 on test data\n",
    "r2_test_sv_best = r2_score(y_test, predict_test_sv_best)\n",
    "adj_r2_test_sv_best = 1-(1-r2_test_sv_best)*(n_test-1)/(n_test-p-1)\n",
    "\n",
    "# R2 & Adj_R2 on train and test date\n",
    "print('R squared of Best SV model on train data: ', r2_train_sv_best)\n",
    "print('Adjusted R squared of Best SV model on train data: ', adj_r2_train_sv_best)\n",
    "print()\n",
    "print('R squared of Best SV model on test data: ', r2_test_sv_best)\n",
    "print('Adjusted R squared of Best SV model on test data: ', adj_r2_test_sv_best)"
   ]
  },
  {
   "cell_type": "markdown",
   "id": "f2710738",
   "metadata": {},
   "source": [
    "#### This is by far the best results so far. SVR with gridsearch CV improves the Adjusted R -squared over the linear regression model of 70.8% to 73.9%.    \n",
    "##### But this consumes massive amount of resource for a minor improvement. My machine has to run for 3 hours to crunch the SVR model whereas it was few minutes in case of linear regression model."
   ]
  },
  {
   "cell_type": "code",
   "execution_count": null,
   "id": "ac0555fa",
   "metadata": {},
   "outputs": [],
   "source": []
  }
 ],
 "metadata": {
  "kernelspec": {
   "display_name": "Python 3 (ipykernel)",
   "language": "python",
   "name": "python3"
  },
  "language_info": {
   "codemirror_mode": {
    "name": "ipython",
    "version": 3
   },
   "file_extension": ".py",
   "mimetype": "text/x-python",
   "name": "python",
   "nbconvert_exporter": "python",
   "pygments_lexer": "ipython3",
   "version": "3.9.13"
  }
 },
 "nbformat": 4,
 "nbformat_minor": 5
}
