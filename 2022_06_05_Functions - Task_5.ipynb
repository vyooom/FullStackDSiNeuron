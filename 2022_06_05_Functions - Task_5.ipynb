{
 "cells": [
  {
   "cell_type": "markdown",
   "id": "b68c8c4b",
   "metadata": {},
   "source": [
    "Today Task:     \n",
    "shivan@ineuron.ai, sudhanshu@ineuron.ai    \n",
    "\n",
    "Q1. Try to print a prime number in between 1 to 1000       \n",
    "Q2. Try to write a function which is equivalent to print function in python   \n",
    "Q3. Try to write a function which is replica of list append, extend and pop function   \n",
    "Q4. Try to write a function which can return a concatination of all strings that we will pass    \n",
    "Q5. Try to write a lambda function which can return list of square of all data between 1-100    \n",
    "Q6. Try to write a 10 different examples of lambda function with a choice of your tasks    \n",
    "Q7. Try to write a function which can perform a read operation from .txt file.   "
   ]
  },
  {
   "cell_type": "code",
   "execution_count": 16,
   "id": "48431521",
   "metadata": {},
   "outputs": [],
   "source": [
    "#Q1 Try to print a prime number in between 1 to 1000\n",
    "\n",
    "def primePrint(a, b):\n",
    "    '''Print the prime numbers between a given interval.'''\n",
    "    try:\n",
    "        x = []\n",
    "        m = max(a, b)\n",
    "        for i in range(1, m+1):\n",
    "            count = 0\n",
    "           \n",
    "            for j in range(1, i+1):\n",
    "                if i%j == 0:\n",
    "                    count = count+1\n",
    "            if count == 2:\n",
    "                x.append(i)\n",
    "        print(\"The prime numbers in the given interval are:\", x)\n",
    "        return x\n",
    "    except:\n",
    "        print(\"Please provide a valid interval.\")\n",
    "        "
   ]
  },
  {
   "cell_type": "code",
   "execution_count": 17,
   "id": "79bb93b1",
   "metadata": {},
   "outputs": [
    {
     "name": "stdout",
     "output_type": "stream",
     "text": [
      "The prime numbers in the given interval are: [2, 3, 5, 7]\n"
     ]
    },
    {
     "data": {
      "text/plain": [
       "[2, 3, 5, 7]"
      ]
     },
     "execution_count": 17,
     "metadata": {},
     "output_type": "execute_result"
    }
   ],
   "source": [
    "primePrint(10,1)"
   ]
  },
  {
   "cell_type": "code",
   "execution_count": 18,
   "id": "80d4abab",
   "metadata": {},
   "outputs": [
    {
     "name": "stdout",
     "output_type": "stream",
     "text": [
      "The prime numbers in the given interval are: [2, 3, 5, 7, 11, 13, 17, 19, 23, 29, 31, 37, 41, 43, 47, 53, 59, 61, 67, 71, 73, 79, 83, 89, 97, 101, 103, 107, 109, 113, 127, 131, 137, 139, 149, 151, 157, 163, 167, 173, 179, 181, 191, 193, 197, 199, 211, 223, 227, 229, 233, 239, 241, 251, 257, 263, 269, 271, 277, 281, 283, 293, 307, 311, 313, 317, 331, 337, 347, 349, 353, 359, 367, 373, 379, 383, 389, 397, 401, 409, 419, 421, 431, 433, 439, 443, 449, 457, 461, 463, 467, 479, 487, 491, 499, 503, 509, 521, 523, 541, 547, 557, 563, 569, 571, 577, 587, 593, 599, 601, 607, 613, 617, 619, 631, 641, 643, 647, 653, 659, 661, 673, 677, 683, 691, 701, 709, 719, 727, 733, 739, 743, 751, 757, 761, 769, 773, 787, 797, 809, 811, 821, 823, 827, 829, 839, 853, 857, 859, 863, 877, 881, 883, 887, 907, 911, 919, 929, 937, 941, 947, 953, 967, 971, 977, 983, 991, 997]\n"
     ]
    },
    {
     "data": {
      "text/plain": [
       "[2,\n",
       " 3,\n",
       " 5,\n",
       " 7,\n",
       " 11,\n",
       " 13,\n",
       " 17,\n",
       " 19,\n",
       " 23,\n",
       " 29,\n",
       " 31,\n",
       " 37,\n",
       " 41,\n",
       " 43,\n",
       " 47,\n",
       " 53,\n",
       " 59,\n",
       " 61,\n",
       " 67,\n",
       " 71,\n",
       " 73,\n",
       " 79,\n",
       " 83,\n",
       " 89,\n",
       " 97,\n",
       " 101,\n",
       " 103,\n",
       " 107,\n",
       " 109,\n",
       " 113,\n",
       " 127,\n",
       " 131,\n",
       " 137,\n",
       " 139,\n",
       " 149,\n",
       " 151,\n",
       " 157,\n",
       " 163,\n",
       " 167,\n",
       " 173,\n",
       " 179,\n",
       " 181,\n",
       " 191,\n",
       " 193,\n",
       " 197,\n",
       " 199,\n",
       " 211,\n",
       " 223,\n",
       " 227,\n",
       " 229,\n",
       " 233,\n",
       " 239,\n",
       " 241,\n",
       " 251,\n",
       " 257,\n",
       " 263,\n",
       " 269,\n",
       " 271,\n",
       " 277,\n",
       " 281,\n",
       " 283,\n",
       " 293,\n",
       " 307,\n",
       " 311,\n",
       " 313,\n",
       " 317,\n",
       " 331,\n",
       " 337,\n",
       " 347,\n",
       " 349,\n",
       " 353,\n",
       " 359,\n",
       " 367,\n",
       " 373,\n",
       " 379,\n",
       " 383,\n",
       " 389,\n",
       " 397,\n",
       " 401,\n",
       " 409,\n",
       " 419,\n",
       " 421,\n",
       " 431,\n",
       " 433,\n",
       " 439,\n",
       " 443,\n",
       " 449,\n",
       " 457,\n",
       " 461,\n",
       " 463,\n",
       " 467,\n",
       " 479,\n",
       " 487,\n",
       " 491,\n",
       " 499,\n",
       " 503,\n",
       " 509,\n",
       " 521,\n",
       " 523,\n",
       " 541,\n",
       " 547,\n",
       " 557,\n",
       " 563,\n",
       " 569,\n",
       " 571,\n",
       " 577,\n",
       " 587,\n",
       " 593,\n",
       " 599,\n",
       " 601,\n",
       " 607,\n",
       " 613,\n",
       " 617,\n",
       " 619,\n",
       " 631,\n",
       " 641,\n",
       " 643,\n",
       " 647,\n",
       " 653,\n",
       " 659,\n",
       " 661,\n",
       " 673,\n",
       " 677,\n",
       " 683,\n",
       " 691,\n",
       " 701,\n",
       " 709,\n",
       " 719,\n",
       " 727,\n",
       " 733,\n",
       " 739,\n",
       " 743,\n",
       " 751,\n",
       " 757,\n",
       " 761,\n",
       " 769,\n",
       " 773,\n",
       " 787,\n",
       " 797,\n",
       " 809,\n",
       " 811,\n",
       " 821,\n",
       " 823,\n",
       " 827,\n",
       " 829,\n",
       " 839,\n",
       " 853,\n",
       " 857,\n",
       " 859,\n",
       " 863,\n",
       " 877,\n",
       " 881,\n",
       " 883,\n",
       " 887,\n",
       " 907,\n",
       " 911,\n",
       " 919,\n",
       " 929,\n",
       " 937,\n",
       " 941,\n",
       " 947,\n",
       " 953,\n",
       " 967,\n",
       " 971,\n",
       " 977,\n",
       " 983,\n",
       " 991,\n",
       " 997]"
      ]
     },
     "execution_count": 18,
     "metadata": {},
     "output_type": "execute_result"
    }
   ],
   "source": [
    "primePrint(1,1000)"
   ]
  },
  {
   "cell_type": "code",
   "execution_count": null,
   "id": "1eac8c91",
   "metadata": {},
   "outputs": [],
   "source": [
    "#Q2: Try to write a function which is equivalent to print function in python\n",
    "\n"
   ]
  },
  {
   "cell_type": "code",
   "execution_count": 36,
   "id": "33bfabe9",
   "metadata": {},
   "outputs": [],
   "source": [
    "def custom_print(*a):\n",
    "    \"\"\" A custom print function which return a string\"\"\"\n",
    "    c = \"\"\n",
    "    for i in a:\n",
    "        c = str(c) + str(i) + str(' ')\n",
    "    c.strip()\n",
    "    return c "
   ]
  },
  {
   "cell_type": "code",
   "execution_count": 38,
   "id": "d7c92791",
   "metadata": {},
   "outputs": [
    {
     "data": {
      "text/plain": [
       "'Hello 16 25 Python '"
      ]
     },
     "execution_count": 38,
     "metadata": {},
     "output_type": "execute_result"
    }
   ],
   "source": [
    "custom_print(\"Hello\", 2*8, 25, 'Python')"
   ]
  },
  {
   "cell_type": "code",
   "execution_count": null,
   "id": "f98197b7",
   "metadata": {},
   "outputs": [],
   "source": [
    "#Q3. Try to write a function which is replica of list append, extend and pop function\n"
   ]
  },
  {
   "cell_type": "code",
   "execution_count": 66,
   "id": "17765861",
   "metadata": {},
   "outputs": [],
   "source": [
    "def listAppend(a,b):\n",
    "    \"\"\"Appending an item to an existing list\"\"\"\n",
    "    try:\n",
    "        a =  a + [b]\n",
    "        return a\n",
    "    except:\n",
    "        print(\"Enter a valid list\")"
   ]
  },
  {
   "cell_type": "code",
   "execution_count": 67,
   "id": "81e34abb",
   "metadata": {},
   "outputs": [
    {
     "data": {
      "text/plain": [
       "[2, 3, 1]"
      ]
     },
     "execution_count": 67,
     "metadata": {},
     "output_type": "execute_result"
    }
   ],
   "source": [
    "x = [2,3]\n",
    "listAppend(x, 1)"
   ]
  },
  {
   "cell_type": "code",
   "execution_count": 68,
   "id": "c119b3ed",
   "metadata": {},
   "outputs": [
    {
     "data": {
      "text/plain": [
       "[1, 2, 3, 4, 'name']"
      ]
     },
     "execution_count": 68,
     "metadata": {},
     "output_type": "execute_result"
    }
   ],
   "source": [
    "x = [1,2,3,4]\n",
    "\n",
    "x = listAppend(x,'name')\n",
    "\n",
    "x"
   ]
  },
  {
   "cell_type": "code",
   "execution_count": 72,
   "id": "dd8903d8",
   "metadata": {},
   "outputs": [],
   "source": [
    "def listExtend(a,b):\n",
    "    \"\"\"Extending a list a with items in list b\"\"\"\n",
    "    try:\n",
    "        if type(a) == list and type(b) == list:\n",
    "            a = a + b\n",
    "            return a\n",
    "    except:\n",
    "        print(\"Enter a valid list\")"
   ]
  },
  {
   "cell_type": "code",
   "execution_count": 73,
   "id": "b8be3d9d",
   "metadata": {},
   "outputs": [],
   "source": [
    "x = [1,2,3]\n",
    "y = ['a', 'b', 'c']"
   ]
  },
  {
   "cell_type": "code",
   "execution_count": 74,
   "id": "5d3507fc",
   "metadata": {},
   "outputs": [
    {
     "data": {
      "text/plain": [
       "[1, 2, 3, 'a', 'b', 'c']"
      ]
     },
     "execution_count": 74,
     "metadata": {},
     "output_type": "execute_result"
    }
   ],
   "source": [
    "x = listExtend(x,y)\n",
    "x"
   ]
  },
  {
   "cell_type": "code",
   "execution_count": 82,
   "id": "f5cb1058",
   "metadata": {},
   "outputs": [],
   "source": [
    "def listPop(a, b = -1):\n",
    "    \"\"\"Poppping a element of given index b from a list a.\"\"\"\n",
    "    try:\n",
    "        if b != -1:\n",
    "            a = a[:b] + a[b+1:]\n",
    "        else:\n",
    "            a = a[:b]\n",
    "        return a\n",
    "    except:\n",
    "        print(\"Enter a valid list\")"
   ]
  },
  {
   "cell_type": "code",
   "execution_count": 83,
   "id": "7c40bcdd",
   "metadata": {},
   "outputs": [
    {
     "data": {
      "text/plain": [
       "[1, 2, 4, 5]"
      ]
     },
     "execution_count": 83,
     "metadata": {},
     "output_type": "execute_result"
    }
   ],
   "source": [
    "x = [1,2,3,4,5]\n",
    "\n",
    "# removing 2nd index from x\n",
    "\n",
    "listPop(x, 2)"
   ]
  },
  {
   "cell_type": "code",
   "execution_count": 84,
   "id": "852b8e26",
   "metadata": {},
   "outputs": [
    {
     "data": {
      "text/plain": [
       "[1, 2, 3, 4]"
      ]
     },
     "execution_count": 84,
     "metadata": {},
     "output_type": "execute_result"
    }
   ],
   "source": [
    "listPop(x)"
   ]
  },
  {
   "cell_type": "code",
   "execution_count": 79,
   "id": "6fde7320",
   "metadata": {},
   "outputs": [
    {
     "data": {
      "text/plain": [
       "[1, 2, 3, 4, 1, 2, 3, 4, 5]"
      ]
     },
     "execution_count": 79,
     "metadata": {},
     "output_type": "execute_result"
    }
   ],
   "source": [
    "x = [1,2,3, 4, 5]\n",
    "x = x[:-1] + x[0:]\n",
    "x"
   ]
  },
  {
   "cell_type": "code",
   "execution_count": 80,
   "id": "42670854",
   "metadata": {},
   "outputs": [
    {
     "data": {
      "text/plain": [
       "[2, 3, 4, 5]"
      ]
     },
     "execution_count": 80,
     "metadata": {},
     "output_type": "execute_result"
    }
   ],
   "source": [
    "x = [1,2,3,4,5]\n",
    "x = x[:0] + x[1:]\n",
    "x"
   ]
  },
  {
   "cell_type": "code",
   "execution_count": 97,
   "id": "002e86f8",
   "metadata": {},
   "outputs": [],
   "source": [
    "#Q4. Try to write a function which can return a concatination of all strings that we will pass\n",
    "\n",
    "def addString(a, *b):\n",
    "    \"\"\"This will concatenate the strings that are passed.\"\"\"\n",
    "    x = [a] + list(b)\n",
    "    t = \"\"\n",
    "    for i in x:\n",
    "        t = t + i\n",
    "        print(i, end=\"\")\n",
    "    return t"
   ]
  },
  {
   "cell_type": "code",
   "execution_count": 98,
   "id": "199369e2",
   "metadata": {},
   "outputs": [
    {
     "name": "stdout",
     "output_type": "stream",
     "text": [
      "My name is Abhishek Mishra"
     ]
    },
    {
     "data": {
      "text/plain": [
       "'My name is Abhishek Mishra'"
      ]
     },
     "execution_count": 98,
     "metadata": {},
     "output_type": "execute_result"
    }
   ],
   "source": [
    "addString(\"My name is\", \" Abhishek Mishra\")"
   ]
  },
  {
   "cell_type": "code",
   "execution_count": 21,
   "id": "b48ba248",
   "metadata": {},
   "outputs": [
    {
     "data": {
      "text/plain": [
       "'The lambda function does not work on a list directly.\\nWe have to use map function for this task.'"
      ]
     },
     "execution_count": 21,
     "metadata": {},
     "output_type": "execute_result"
    }
   ],
   "source": [
    "#Q5. Try to write a lambda function which can return list of square of all data between 1-100\n",
    "\"\"\"The lambda function does not work on a list directly.\n",
    "We have to use map function for this task.\"\"\""
   ]
  },
  {
   "cell_type": "code",
   "execution_count": 23,
   "id": "1e533b97",
   "metadata": {},
   "outputs": [
    {
     "data": {
      "text/plain": [
       "[1,\n",
       " 4,\n",
       " 9,\n",
       " 16,\n",
       " 25,\n",
       " 36,\n",
       " 49,\n",
       " 64,\n",
       " 81,\n",
       " 100,\n",
       " 121,\n",
       " 144,\n",
       " 169,\n",
       " 196,\n",
       " 225,\n",
       " 256,\n",
       " 289,\n",
       " 324,\n",
       " 361,\n",
       " 400,\n",
       " 441,\n",
       " 484,\n",
       " 529,\n",
       " 576,\n",
       " 625,\n",
       " 676,\n",
       " 729,\n",
       " 784,\n",
       " 841,\n",
       " 900,\n",
       " 961,\n",
       " 1024,\n",
       " 1089,\n",
       " 1156,\n",
       " 1225,\n",
       " 1296,\n",
       " 1369,\n",
       " 1444,\n",
       " 1521,\n",
       " 1600,\n",
       " 1681,\n",
       " 1764,\n",
       " 1849,\n",
       " 1936,\n",
       " 2025,\n",
       " 2116,\n",
       " 2209,\n",
       " 2304,\n",
       " 2401,\n",
       " 2500,\n",
       " 2601,\n",
       " 2704,\n",
       " 2809,\n",
       " 2916,\n",
       " 3025,\n",
       " 3136,\n",
       " 3249,\n",
       " 3364,\n",
       " 3481,\n",
       " 3600,\n",
       " 3721,\n",
       " 3844,\n",
       " 3969,\n",
       " 4096,\n",
       " 4225,\n",
       " 4356,\n",
       " 4489,\n",
       " 4624,\n",
       " 4761,\n",
       " 4900,\n",
       " 5041,\n",
       " 5184,\n",
       " 5329,\n",
       " 5476,\n",
       " 5625,\n",
       " 5776,\n",
       " 5929,\n",
       " 6084,\n",
       " 6241,\n",
       " 6400,\n",
       " 6561,\n",
       " 6724,\n",
       " 6889,\n",
       " 7056,\n",
       " 7225,\n",
       " 7396,\n",
       " 7569,\n",
       " 7744,\n",
       " 7921,\n",
       " 8100,\n",
       " 8281,\n",
       " 8464,\n",
       " 8649,\n",
       " 8836,\n",
       " 9025,\n",
       " 9216,\n",
       " 9409,\n",
       " 9604,\n",
       " 9801,\n",
       " 10000]"
      ]
     },
     "execution_count": 23,
     "metadata": {},
     "output_type": "execute_result"
    }
   ],
   "source": [
    "# making an input list of integers from 1 to 100\n",
    "# writing the whole thing in a single line\n",
    "\n",
    "list(map(lambda i: i**2, list(range(1,101))))"
   ]
  },
  {
   "cell_type": "code",
   "execution_count": null,
   "id": "584caaf4",
   "metadata": {},
   "outputs": [],
   "source": [
    "# Q6. Try to write a 10 different examples of lambda function with a choice of your tasks"
   ]
  },
  {
   "cell_type": "code",
   "execution_count": 43,
   "id": "1ea8e547",
   "metadata": {},
   "outputs": [
    {
     "data": {
      "text/plain": [
       "16"
      ]
     },
     "execution_count": 43,
     "metadata": {},
     "output_type": "execute_result"
    }
   ],
   "source": [
    "#F1 Function to perform normal arthematic\n",
    "sqr = lambda x: x**2\n",
    "sqr(4)"
   ]
  },
  {
   "cell_type": "code",
   "execution_count": 44,
   "id": "a0cbf737",
   "metadata": {},
   "outputs": [
    {
     "data": {
      "text/plain": [
       "'F'"
      ]
     },
     "execution_count": 44,
     "metadata": {},
     "output_type": "execute_result"
    }
   ],
   "source": [
    "#F2 function using conditionals:\n",
    "# comparing a number with digit 3\n",
    "comp3 =  lambda x: \"T\" if x< 3 else \"F\"\n",
    "\n",
    "comp3(5)"
   ]
  },
  {
   "cell_type": "code",
   "execution_count": 45,
   "id": "34e8dd10",
   "metadata": {},
   "outputs": [
    {
     "data": {
      "text/plain": [
       "'T'"
      ]
     },
     "execution_count": 45,
     "metadata": {},
     "output_type": "execute_result"
    }
   ],
   "source": [
    "comp3(2)"
   ]
  },
  {
   "cell_type": "code",
   "execution_count": 46,
   "id": "ff6c8c48",
   "metadata": {},
   "outputs": [
    {
     "data": {
      "text/plain": [
       "12"
      ]
     },
     "execution_count": 46,
     "metadata": {},
     "output_type": "execute_result"
    }
   ],
   "source": [
    "#F3 Arthematic on two variables\n",
    "\n",
    "# using lambda function in asingle line\n",
    "\n",
    "(lambda x, y: x*y)(6,2)"
   ]
  },
  {
   "cell_type": "code",
   "execution_count": 47,
   "id": "498a3e16",
   "metadata": {},
   "outputs": [
    {
     "data": {
      "text/plain": [
       "[0, 1, 8, 27, 64, 125, 216, 343, 512, 729]"
      ]
     },
     "execution_count": 47,
     "metadata": {},
     "output_type": "execute_result"
    }
   ],
   "source": [
    "#F4 using map to operate on a list\n",
    "\n",
    "# using a cube lambda function \n",
    "\n",
    "list(map(lambda x: x**3, list(range(10))))"
   ]
  },
  {
   "cell_type": "code",
   "execution_count": 49,
   "id": "77236ce4",
   "metadata": {},
   "outputs": [
    {
     "data": {
      "text/plain": [
       "[0, 2, 4, 6, 8, 10, 12, 14, 16, 18]"
      ]
     },
     "execution_count": 49,
     "metadata": {},
     "output_type": "execute_result"
    }
   ],
   "source": [
    "#F5 Using Filter function to select some even numbers\n",
    "\n",
    "list(filter(lambda x: (x%2 == 0) , list(range(20))))"
   ]
  },
  {
   "cell_type": "code",
   "execution_count": 56,
   "id": "9e7602c2",
   "metadata": {},
   "outputs": [
    {
     "name": "stdout",
     "output_type": "stream",
     "text": [
      "(3, 5, 6)\n"
     ]
    }
   ],
   "source": [
    "# F6 using multiple arguments\n",
    "(lambda *x: print(x))(3,5,6)\n"
   ]
  },
  {
   "cell_type": "code",
   "execution_count": 60,
   "id": "1b22ff18",
   "metadata": {},
   "outputs": [
    {
     "data": {
      "text/plain": [
       "120"
      ]
     },
     "execution_count": 60,
     "metadata": {},
     "output_type": "execute_result"
    }
   ],
   "source": [
    "#F7 Using reduce for iteration\n",
    "\n",
    "from functools import reduce\n",
    "\n",
    "f5 = list(range(1,6))\n",
    "\n",
    "# using reduce to find factorials with list from 1 to 5\n",
    "\n",
    "reduce(lambda x, y: x*y, f5)"
   ]
  },
  {
   "cell_type": "code",
   "execution_count": 61,
   "id": "a1e959b5",
   "metadata": {},
   "outputs": [
    {
     "name": "stdout",
     "output_type": "stream",
     "text": [
      "Multiplication of 3 & 7 = 21\n"
     ]
    }
   ],
   "source": [
    "#F8 using for print and fuction assignment\n",
    "\n",
    "x = lambda x, y : x*y\n",
    "\n",
    "print(\"Multiplication of\", 3, \"&\", 7, \"=\", x(3,7))"
   ]
  },
  {
   "cell_type": "code",
   "execution_count": 63,
   "id": "de55ffb4",
   "metadata": {},
   "outputs": [
    {
     "data": {
      "text/plain": [
       "['Name', 'Age', 'Class', 'Village']"
      ]
     },
     "execution_count": 63,
     "metadata": {},
     "output_type": "execute_result"
    }
   ],
   "source": [
    "#F9 Use it with strings:\n",
    "\n",
    "x = ['name', 'age', 'class', 'village']\n",
    "\n",
    "# using to modify a string\n",
    "\n",
    "list(map(lambda i: i.title(), x))"
   ]
  },
  {
   "cell_type": "code",
   "execution_count": 64,
   "id": "f52c22be",
   "metadata": {},
   "outputs": [
    {
     "name": "stdout",
     "output_type": "stream",
     "text": [
      "694\n"
     ]
    }
   ],
   "source": [
    "#F10 Using conditionals on a list\n",
    "\n",
    "x = [98,56,78,65,23,95,61,114,23,58,75,694,56,84,62]\n",
    "\n",
    "# finding the maximum value of a list\n",
    "\n",
    "from functools import reduce\n",
    "\n",
    "print(reduce(lambda a, b: a if a > b else b, x))\n"
   ]
  },
  {
   "cell_type": "code",
   "execution_count": 65,
   "id": "a26dbbe3",
   "metadata": {},
   "outputs": [],
   "source": [
    "#Q7. Try to write a function which can perform a read operation from .txt file.\n",
    "\n",
    "txtfile = open(\"D:/python.txt\")"
   ]
  },
  {
   "cell_type": "code",
   "execution_count": 67,
   "id": "d57e0ae8",
   "metadata": {},
   "outputs": [
    {
     "name": "stdout",
     "output_type": "stream",
     "text": [
      "Hello! Have a good day!\n"
     ]
    }
   ],
   "source": [
    "print(txtfile.read())"
   ]
  },
  {
   "cell_type": "code",
   "execution_count": 70,
   "id": "36a7228e",
   "metadata": {},
   "outputs": [],
   "source": [
    "def readFile(filepath, filename):\n",
    "    '''This functions performs a read operation on a text \n",
    "    file stored at filepath and reads the file named filename.\n",
    "    Provide filepath as directory C:/books/python\n",
    "    Provide filename as mydoc.txt'''\n",
    "    path = str(filepath) + str('/') + str(filename)\n",
    "    txtfile = open(path)\n",
    "    myFile = txtfile.read()\n",
    "    print(myFile)\n",
    "    return myFile"
   ]
  },
  {
   "cell_type": "code",
   "execution_count": 71,
   "id": "ccff4ba2",
   "metadata": {},
   "outputs": [
    {
     "name": "stdout",
     "output_type": "stream",
     "text": [
      "Hello! Have a good day!\n"
     ]
    },
    {
     "data": {
      "text/plain": [
       "'Hello! Have a good day!'"
      ]
     },
     "execution_count": 71,
     "metadata": {},
     "output_type": "execute_result"
    }
   ],
   "source": [
    "readFile(\"D:\", \"python.txt\")"
   ]
  }
 ],
 "metadata": {
  "kernelspec": {
   "display_name": "Python 3 (ipykernel)",
   "language": "python",
   "name": "python3"
  },
  "language_info": {
   "codemirror_mode": {
    "name": "ipython",
    "version": 3
   },
   "file_extension": ".py",
   "mimetype": "text/x-python",
   "name": "python",
   "nbconvert_exporter": "python",
   "pygments_lexer": "ipython3",
   "version": "3.8.13"
  }
 },
 "nbformat": 4,
 "nbformat_minor": 5
}
