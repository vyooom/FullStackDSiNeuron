{
 "cells": [
  {
   "cell_type": "markdown",
   "id": "5007c935",
   "metadata": {},
   "source": [
    "1. Write a Python Program to Find the Factorial of a Number?\n",
    "2. Write a Python Program to Display the multiplication Table?\n",
    "3. Write a Python Program to Print the Fibonacci sequence?\n",
    "4. Write a Python Program to Check Armstrong Number?\n",
    "5. Write a Python Program to Find Armstrong Number in an Interval?\n",
    "6. Write a Python Program to Find the Sum of Natural Numbers?"
   ]
  },
  {
   "cell_type": "code",
   "execution_count": 10,
   "id": "202351d2",
   "metadata": {},
   "outputs": [],
   "source": [
    "#Q1: Write a Python Program to Find the Factorial of a Number?\n",
    "def factorial(a):\n",
    "    x = 1\n",
    "    if a>1 and type(a) == int:\n",
    "        for i in range(a, 1, -1):\n",
    "            x = x*i\n",
    "        print(\"The factorial of\", a, \"is\", x)\n",
    "        return x\n",
    "    elif a== 0 or a == 1:\n",
    "        x = 1\n",
    "        print(\"The factorial of\", a, \"is\", x)\n",
    "        return x\n",
    "    else:\n",
    "        print(\"Please enter a valid integer.\")"
   ]
  },
  {
   "cell_type": "code",
   "execution_count": 7,
   "id": "b9a65362",
   "metadata": {},
   "outputs": [
    {
     "name": "stdout",
     "output_type": "stream",
     "text": [
      "The factorial of 4 is 24\n"
     ]
    },
    {
     "data": {
      "text/plain": [
       "24"
      ]
     },
     "execution_count": 7,
     "metadata": {},
     "output_type": "execute_result"
    }
   ],
   "source": [
    "factorial(4)"
   ]
  },
  {
   "cell_type": "code",
   "execution_count": 8,
   "id": "a4d74eb2",
   "metadata": {},
   "outputs": [
    {
     "name": "stdout",
     "output_type": "stream",
     "text": [
      "The factorial of 1 is 1\n"
     ]
    },
    {
     "data": {
      "text/plain": [
       "1"
      ]
     },
     "execution_count": 8,
     "metadata": {},
     "output_type": "execute_result"
    }
   ],
   "source": [
    "factorial(1)"
   ]
  },
  {
   "cell_type": "code",
   "execution_count": 11,
   "id": "33668c73",
   "metadata": {},
   "outputs": [
    {
     "name": "stdout",
     "output_type": "stream",
     "text": [
      "Please enter a valid integer.\n"
     ]
    }
   ],
   "source": [
    "factorial(3.5)"
   ]
  },
  {
   "cell_type": "code",
   "execution_count": 12,
   "id": "3bdedfd1",
   "metadata": {},
   "outputs": [],
   "source": [
    "#Q2: Write a Python Program to Display the multiplication Table?\n",
    "\n",
    "def multiplicationTable(a):\n",
    "    try:\n",
    "        for i in range(1, 11):\n",
    "            print(a,\"x\", i, \"=\", a*i)\n",
    "    except:\n",
    "        print(\"Please enter a valid number.\")"
   ]
  },
  {
   "cell_type": "code",
   "execution_count": 13,
   "id": "959903c3",
   "metadata": {},
   "outputs": [
    {
     "name": "stdout",
     "output_type": "stream",
     "text": [
      "5 x 1 = 5\n",
      "5 x 2 = 10\n",
      "5 x 3 = 15\n",
      "5 x 4 = 20\n",
      "5 x 5 = 25\n",
      "5 x 6 = 30\n",
      "5 x 7 = 35\n",
      "5 x 8 = 40\n",
      "5 x 9 = 45\n",
      "5 x 10 = 50\n"
     ]
    }
   ],
   "source": [
    "multiplicationTable(5)"
   ]
  },
  {
   "cell_type": "code",
   "execution_count": 1,
   "id": "ec53735f",
   "metadata": {},
   "outputs": [],
   "source": [
    "#Q3 Write a Python Program to Print the Fibonacci sequence?\n",
    "\n",
    "def fibonacci(a):\n",
    "    \"\"\"Finding fibonacci series.\"\"\"\n",
    "    x = []\n",
    "   \n",
    "    try:\n",
    "        x.insert(0, 1)\n",
    "        x.insert(1, 1)\n",
    "        for i in range(3, a+1):\n",
    "            x.append(x[i-2]+x[i-3])\n",
    "                           \n",
    "        return x\n",
    "    except:\n",
    "        print(\"Please enter a valid number.\")\n",
    "        "
   ]
  },
  {
   "cell_type": "code",
   "execution_count": 2,
   "id": "30ba813b",
   "metadata": {},
   "outputs": [
    {
     "data": {
      "text/plain": [
       "[1, 1, 2, 3, 5, 8, 13, 21, 34, 55]"
      ]
     },
     "execution_count": 2,
     "metadata": {},
     "output_type": "execute_result"
    }
   ],
   "source": [
    "fibonacci(10)"
   ]
  },
  {
   "cell_type": "code",
   "execution_count": 6,
   "id": "93ba4504",
   "metadata": {},
   "outputs": [
    {
     "data": {
      "text/plain": [
       "354224848179261915075"
      ]
     },
     "execution_count": 6,
     "metadata": {},
     "output_type": "execute_result"
    }
   ],
   "source": [
    "fibonacci(100)[99]"
   ]
  },
  {
   "cell_type": "code",
   "execution_count": 7,
   "id": "bba20eff",
   "metadata": {},
   "outputs": [],
   "source": [
    "#Q4. Write a Python Program to Check Armstrong Number?\n",
    "\n",
    "def armstrongYN(a):\n",
    "    \"\"\"Check if a given integer is an armstrong number. \n",
    "    An armstrong number adds up to sum of the individual digits raised to the number of \n",
    "    digits in the said number.\"\"\"\n",
    "    try:\n",
    "        p = len(str(a))\n",
    "        \n",
    "        x = []\n",
    "        for i in range(p):\n",
    "            x.append(int(str(a)[i]))\n",
    "        ex = []    \n",
    "        for i in range(len(x)):\n",
    "            ex.append(x[i]**p)\n",
    "        \n",
    "        s = sum(ex)        \n",
    "        if s == a:\n",
    "            print(\"The number\", a, \"is an armstrong number.\")\n",
    "        else:\n",
    "            print(\"The number\", a, \"is not an armstrong number.\")\n",
    "    except:\n",
    "        print(\"Please enter a valid integer.\")\n",
    "            "
   ]
  },
  {
   "cell_type": "code",
   "execution_count": 8,
   "id": "f70ee715",
   "metadata": {},
   "outputs": [
    {
     "name": "stdout",
     "output_type": "stream",
     "text": [
      "The number 407 is an armstrong number.\n"
     ]
    }
   ],
   "source": [
    "armstrongYN(407)"
   ]
  },
  {
   "cell_type": "code",
   "execution_count": 9,
   "id": "88b251cf",
   "metadata": {},
   "outputs": [
    {
     "name": "stdout",
     "output_type": "stream",
     "text": [
      "The number 1633 is not an armstrong number.\n"
     ]
    }
   ],
   "source": [
    "armstrongYN(1633)"
   ]
  },
  {
   "cell_type": "code",
   "execution_count": 10,
   "id": "162acc01",
   "metadata": {},
   "outputs": [],
   "source": [
    "#Q5. Write a Python Program to Find Armstrong Number in an Interval?\n",
    "\n",
    "def armstrongListR(a,b):\n",
    "    try:\n",
    "        ars = []\n",
    "        for i in range(a,b+1):\n",
    "            p = len(str(i))\n",
    "            x = []\n",
    "            s = 0\n",
    "            for j in range(p):\n",
    "                x.append(int(str(i)[j]))\n",
    "\n",
    "            for k in range(len(x)):\n",
    "                x[k] = x[k]**p\n",
    "\n",
    "            s = sum(x)        \n",
    "            if s == i:\n",
    "                ars.append(i)\n",
    "                \n",
    "            else:\n",
    "                continue\n",
    "        return ars\n",
    "    \n",
    "    except:\n",
    "        print(\"Please enter a valid integer range.\") \n",
    "\n"
   ]
  },
  {
   "cell_type": "code",
   "execution_count": 13,
   "id": "09e1bfc2",
   "metadata": {},
   "outputs": [
    {
     "data": {
      "text/plain": [
       "[1, 2, 3, 4, 5, 6, 7, 8, 9, 153, 370, 371, 407, 1634, 8208, 9474, 54748]"
      ]
     },
     "execution_count": 13,
     "metadata": {},
     "output_type": "execute_result"
    }
   ],
   "source": [
    "armstrongListR(1, 90000)"
   ]
  },
  {
   "cell_type": "code",
   "execution_count": 14,
   "id": "e77c43c1",
   "metadata": {},
   "outputs": [],
   "source": [
    "#Q6. Write a Python Program to Find the Sum of Natural Numbers?\n",
    "\n",
    "def sumNatural(a):\n",
    "    try:\n",
    "        s = 0\n",
    "        for i in range(1, a+1):\n",
    "            s = s+i\n",
    "        print(\"The sum of first\", a, \"natural numbers is\", s)\n",
    "        return s\n",
    "    except:\n",
    "        print(\"Please provide a valid integer.\")"
   ]
  },
  {
   "cell_type": "code",
   "execution_count": 15,
   "id": "20fcae44",
   "metadata": {},
   "outputs": [
    {
     "name": "stdout",
     "output_type": "stream",
     "text": [
      "The sum of first 7 natural numbers is 28\n"
     ]
    },
    {
     "data": {
      "text/plain": [
       "28"
      ]
     },
     "execution_count": 15,
     "metadata": {},
     "output_type": "execute_result"
    }
   ],
   "source": [
    "sumNatural(7)"
   ]
  },
  {
   "cell_type": "code",
   "execution_count": null,
   "id": "b460757c",
   "metadata": {},
   "outputs": [],
   "source": []
  }
 ],
 "metadata": {
  "kernelspec": {
   "display_name": "Python 3 (ipykernel)",
   "language": "python",
   "name": "python3"
  },
  "language_info": {
   "codemirror_mode": {
    "name": "ipython",
    "version": 3
   },
   "file_extension": ".py",
   "mimetype": "text/x-python",
   "name": "python",
   "nbconvert_exporter": "python",
   "pygments_lexer": "ipython3",
   "version": "3.8.13"
  }
 },
 "nbformat": 4,
 "nbformat_minor": 5
}
