{
 "cells": [
  {
   "cell_type": "markdown",
   "id": "9b2adce9",
   "metadata": {},
   "source": [
    "Q1.What exactly is []?\n",
    "List"
   ]
  },
  {
   "cell_type": "markdown",
   "id": "a36f0aca",
   "metadata": {},
   "source": [
    "Q2. In a list of values stored in a variable called spam, how would you assign the value \"hello\" as the third value? (Assume [2, 4, 6, 8, 10] are in spam.)"
   ]
  },
  {
   "cell_type": "code",
   "execution_count": 2,
   "id": "db490152",
   "metadata": {},
   "outputs": [],
   "source": [
    "spam = [2,4,6,8,10]"
   ]
  },
  {
   "cell_type": "code",
   "execution_count": 3,
   "id": "b773c16c",
   "metadata": {},
   "outputs": [],
   "source": [
    "# indexing \n",
    "spam[2] = 'hello'"
   ]
  },
  {
   "cell_type": "code",
   "execution_count": 4,
   "id": "88e598f4",
   "metadata": {},
   "outputs": [
    {
     "data": {
      "text/plain": [
       "[2, 4, 'hello', 8, 10]"
      ]
     },
     "execution_count": 4,
     "metadata": {},
     "output_type": "execute_result"
    }
   ],
   "source": [
    "spam"
   ]
  },
  {
   "cell_type": "markdown",
   "id": "1959c02a",
   "metadata": {},
   "source": [
    "Let's pretend the spam includes the list ['a', 'b','c','d'] for the next three queries."
   ]
  },
  {
   "cell_type": "code",
   "execution_count": 5,
   "id": "9565540e",
   "metadata": {},
   "outputs": [],
   "source": [
    "spam = ['a', 'b','c','d']"
   ]
  },
  {
   "cell_type": "markdown",
   "id": "72a69bd6",
   "metadata": {},
   "source": [
    "Q3. What is the value of spam[int(int('3' * 2) / 11)]?\n",
    "Answer: 'd'"
   ]
  },
  {
   "cell_type": "code",
   "execution_count": 6,
   "id": "81811cb1",
   "metadata": {},
   "outputs": [
    {
     "data": {
      "text/plain": [
       "'d'"
      ]
     },
     "execution_count": 6,
     "metadata": {},
     "output_type": "execute_result"
    }
   ],
   "source": [
    "spam[int(int('3' * 2) / 11)]"
   ]
  },
  {
   "cell_type": "markdown",
   "id": "2576c992",
   "metadata": {},
   "source": [
    "Q4.What is the value of spam['d'].\n",
    "Answer: 'd'"
   ]
  },
  {
   "cell_type": "code",
   "execution_count": 7,
   "id": "8a02891d",
   "metadata": {},
   "outputs": [
    {
     "data": {
      "text/plain": [
       "'d'"
      ]
     },
     "execution_count": 7,
     "metadata": {},
     "output_type": "execute_result"
    }
   ],
   "source": [
    "spam[-1]"
   ]
  },
  {
   "cell_type": "markdown",
   "id": "0b005079",
   "metadata": {},
   "source": [
    "Q5. what is the value of spam[:2]?    \n",
    "Answer:    \n",
    "['a', 'b']"
   ]
  },
  {
   "cell_type": "code",
   "execution_count": 8,
   "id": "f511e0bf",
   "metadata": {},
   "outputs": [
    {
     "data": {
      "text/plain": [
       "['a', 'b']"
      ]
     },
     "execution_count": 8,
     "metadata": {},
     "output_type": "execute_result"
    }
   ],
   "source": [
    "spam[:2]"
   ]
  },
  {
   "cell_type": "markdown",
   "id": "90608ef8",
   "metadata": {},
   "source": [
    "Lets pretend bacon has the list [3.14, 'cat', 11, 'cat', True] for the next three queries.    \n",
    "Q6. What is the value of bacon.index('cat')    \n",
    "Answer = 1    "
   ]
  },
  {
   "cell_type": "code",
   "execution_count": 11,
   "id": "4bc86ccd",
   "metadata": {},
   "outputs": [],
   "source": [
    "bacon = [3.14, 'cat', 11, 'cat', True]"
   ]
  },
  {
   "cell_type": "code",
   "execution_count": 12,
   "id": "51147c6a",
   "metadata": {},
   "outputs": [
    {
     "data": {
      "text/plain": [
       "1"
      ]
     },
     "execution_count": 12,
     "metadata": {},
     "output_type": "execute_result"
    }
   ],
   "source": [
    "bacon.index('cat')"
   ]
  },
  {
   "cell_type": "markdown",
   "id": "0e328cff",
   "metadata": {},
   "source": [
    "Q7. How does bacon.append(99) change the look of the list value in bacon?   "
   ]
  },
  {
   "cell_type": "code",
   "execution_count": 14,
   "id": "d3fad03b",
   "metadata": {},
   "outputs": [
    {
     "data": {
      "text/plain": [
       "[3.14, 'cat', 11, 'cat', True, 99]"
      ]
     },
     "execution_count": 14,
     "metadata": {},
     "output_type": "execute_result"
    }
   ],
   "source": [
    "bacon.append(99)\n",
    "bacon"
   ]
  },
  {
   "cell_type": "markdown",
   "id": "58b5110a",
   "metadata": {},
   "source": [
    "Q8. How does bacon.remove('cat') change the look of the list in bacon?    \n",
    "Answer: Remove 'cat from the start i.e. index 1     "
   ]
  },
  {
   "cell_type": "code",
   "execution_count": 15,
   "id": "9f492e43",
   "metadata": {},
   "outputs": [
    {
     "data": {
      "text/plain": [
       "[3.14, 11, 'cat', True, 99]"
      ]
     },
     "execution_count": 15,
     "metadata": {},
     "output_type": "execute_result"
    }
   ],
   "source": [
    "bacon.remove('cat')\n",
    "bacon"
   ]
  },
  {
   "cell_type": "markdown",
   "id": "8b8c4030",
   "metadata": {},
   "source": [
    "Q9. What are the list concatenation and list replication operators?     \n",
    "Answer:      \n",
    "List concatenation operators:     \n",
    "+, extend, append, *     \n",
    "\n",
    "List replication operators:    \n",
    "=, [:], copy.copy(), copy.deepcopy()     "
   ]
  },
  {
   "cell_type": "markdown",
   "id": "b8f0a417",
   "metadata": {},
   "source": [
    "Q10. What is difference between the list methods append() and insert()?    \n",
    "Answer:     \n",
    "append() adds the varibale as the last element to the list.     \n",
    "insert() adds the element at the index no. provided for the list.      "
   ]
  },
  {
   "cell_type": "code",
   "execution_count": 16,
   "id": "b86f5ca1",
   "metadata": {},
   "outputs": [
    {
     "data": {
      "text/plain": [
       "[1, 2, 3, 4, 5]"
      ]
     },
     "execution_count": 16,
     "metadata": {},
     "output_type": "execute_result"
    }
   ],
   "source": [
    "l = [1,2,3,4]\n",
    "l.append(5)\n",
    "l"
   ]
  },
  {
   "cell_type": "code",
   "execution_count": 17,
   "id": "85afbbb3",
   "metadata": {},
   "outputs": [
    {
     "data": {
      "text/plain": [
       "[1, 2, 6, 3, 4, 5]"
      ]
     },
     "execution_count": 17,
     "metadata": {},
     "output_type": "execute_result"
    }
   ],
   "source": [
    "#insert 6 at index 2\n",
    "l.insert(2,6)\n",
    "l"
   ]
  },
  {
   "cell_type": "markdown",
   "id": "8483b2c3",
   "metadata": {},
   "source": [
    "Q11. What are the two methods for removing items from a list?     \n",
    "Answer:      \n",
    "pop(i) removes the ith index element from the list, default is the last.      \n",
    "remove(e) removes the first occurance of the exact specified element 'e' from the list     \n"
   ]
  },
  {
   "cell_type": "code",
   "execution_count": 18,
   "id": "5d9b9736",
   "metadata": {},
   "outputs": [
    {
     "data": {
      "text/plain": [
       "[1, 2, 6, 3, 4]"
      ]
     },
     "execution_count": 18,
     "metadata": {},
     "output_type": "execute_result"
    }
   ],
   "source": [
    "l.pop(5)\n",
    "l"
   ]
  },
  {
   "cell_type": "code",
   "execution_count": 19,
   "id": "074bc77a",
   "metadata": {},
   "outputs": [
    {
     "data": {
      "text/plain": [
       "[1, 2, 6, 3, 4, 6]"
      ]
     },
     "execution_count": 19,
     "metadata": {},
     "output_type": "execute_result"
    }
   ],
   "source": [
    "l.append(6)\n",
    "l"
   ]
  },
  {
   "cell_type": "code",
   "execution_count": 20,
   "id": "b8d51ce7",
   "metadata": {},
   "outputs": [
    {
     "data": {
      "text/plain": [
       "[1, 2, 3, 4, 6]"
      ]
     },
     "execution_count": 20,
     "metadata": {},
     "output_type": "execute_result"
    }
   ],
   "source": [
    "# remove \n",
    "l.remove(6)\n",
    "l"
   ]
  },
  {
   "cell_type": "markdown",
   "id": "f58a2525",
   "metadata": {},
   "source": [
    "Q12. Describe how list values and string values are identical.     \n",
    "Answer:     \n",
    "They both are:     \n",
    "    indexed    \n",
    "    iterable    \n",
    "    concatenatable     \n",
    "Lists are mutable whereas strings are immutable     "
   ]
  },
  {
   "cell_type": "code",
   "execution_count": 22,
   "id": "a94c5236",
   "metadata": {},
   "outputs": [
    {
     "name": "stdout",
     "output_type": "stream",
     "text": [
      "s\n",
      "p\n",
      "a\n",
      "m\n"
     ]
    }
   ],
   "source": [
    "a = 'spam'\n",
    "for i in a:\n",
    "    print(i)"
   ]
  },
  {
   "cell_type": "markdown",
   "id": "5f89cc77",
   "metadata": {},
   "source": [
    "Q13. What's the difference between tuples and lists?      \n",
    "Answer:      \n",
    "The differences are:    \n",
    "    List are mutable tuples are not     \n",
    "    "
   ]
  },
  {
   "cell_type": "markdown",
   "id": "b5984306",
   "metadata": {},
   "source": [
    "Q14. How do you type a tuple value that only contains the integer 42?      \n",
    "Answer:     \n",
    "By adding a comma at the end of 42   "
   ]
  },
  {
   "cell_type": "code",
   "execution_count": 23,
   "id": "83781002",
   "metadata": {},
   "outputs": [
    {
     "data": {
      "text/plain": [
       "int"
      ]
     },
     "execution_count": 23,
     "metadata": {},
     "output_type": "execute_result"
    }
   ],
   "source": [
    "t = (42)\n",
    "type(t)"
   ]
  },
  {
   "cell_type": "code",
   "execution_count": 24,
   "id": "b3921ec1",
   "metadata": {},
   "outputs": [
    {
     "data": {
      "text/plain": [
       "tuple"
      ]
     },
     "execution_count": 24,
     "metadata": {},
     "output_type": "execute_result"
    }
   ],
   "source": [
    "t = (42,)\n",
    "type(t)"
   ]
  },
  {
   "cell_type": "markdown",
   "id": "6d3e931f",
   "metadata": {},
   "source": [
    "Q15. How do you get a list value's tuple form? How do you get a tuple value's list form?       \n",
    "Answer:    \n",
    "By typecasting    "
   ]
  },
  {
   "cell_type": "code",
   "execution_count": 25,
   "id": "9441c5f2",
   "metadata": {},
   "outputs": [],
   "source": [
    "t = (1, 2, 'suny')\n",
    "l = [3,4, 'abhi']"
   ]
  },
  {
   "cell_type": "code",
   "execution_count": 26,
   "id": "4e79a321",
   "metadata": {},
   "outputs": [
    {
     "data": {
      "text/plain": [
       "list"
      ]
     },
     "execution_count": 26,
     "metadata": {},
     "output_type": "execute_result"
    }
   ],
   "source": [
    "a = list(t)\n",
    "type(a)"
   ]
  },
  {
   "cell_type": "code",
   "execution_count": 27,
   "id": "a39a6c45",
   "metadata": {},
   "outputs": [
    {
     "data": {
      "text/plain": [
       "[1, 2, 'suny']"
      ]
     },
     "execution_count": 27,
     "metadata": {},
     "output_type": "execute_result"
    }
   ],
   "source": [
    "a"
   ]
  },
  {
   "cell_type": "code",
   "execution_count": 28,
   "id": "afef7337",
   "metadata": {},
   "outputs": [
    {
     "data": {
      "text/plain": [
       "(3, 4, 'abhi')"
      ]
     },
     "execution_count": 28,
     "metadata": {},
     "output_type": "execute_result"
    }
   ],
   "source": [
    "b= tuple(l)\n",
    "b"
   ]
  },
  {
   "cell_type": "markdown",
   "id": "6329f9b2",
   "metadata": {},
   "source": [
    "Q16. Variables that \"contain\" list values are not necessarily lists themselves. Instead, what do they contain?    \n",
    "Answer:     \n",
    "They contain refereces to list value, i.e the indexs or id reference    "
   ]
  },
  {
   "cell_type": "code",
   "execution_count": 79,
   "id": "b2deef56",
   "metadata": {},
   "outputs": [],
   "source": [
    "l = ['cat', 1,2, 3, 'bat']"
   ]
  },
  {
   "cell_type": "code",
   "execution_count": 80,
   "id": "2a3d1bab",
   "metadata": {},
   "outputs": [
    {
     "data": {
      "text/plain": [
       "'cat'"
      ]
     },
     "execution_count": 80,
     "metadata": {},
     "output_type": "execute_result"
    }
   ],
   "source": [
    "l[0]"
   ]
  },
  {
   "cell_type": "markdown",
   "id": "1a892960",
   "metadata": {},
   "source": [
    "Q17.17. How do you distinguish between copy.copy() and copy.deepcopy()?    \n",
    "Answer:    \n",
    "copy.copy() makes a shallow copy    \n",
    "whereas copy.deepcopy() makes a hard copy    \n",
    "\n",
    "But the differences are visible/available for compund objects only like a list with in a list etc. For normal simple list both acts as same.    \n",
    "As shown below    "
   ]
  },
  {
   "cell_type": "code",
   "execution_count": 73,
   "id": "584b00fd",
   "metadata": {},
   "outputs": [],
   "source": [
    "l = [1,2,3,[4,5]]"
   ]
  },
  {
   "cell_type": "code",
   "execution_count": 74,
   "id": "4adcee19",
   "metadata": {},
   "outputs": [],
   "source": [
    "import copy\n",
    "l1 = copy.copy(l)\n",
    "l2 = copy.deepcopy(l)"
   ]
  },
  {
   "cell_type": "code",
   "execution_count": 75,
   "id": "63f5f27b",
   "metadata": {},
   "outputs": [
    {
     "name": "stdout",
     "output_type": "stream",
     "text": [
      "This is original copy operation\n",
      "l = [1, 2, 3, [4, 5]]\n",
      "l1 =  [1, 2, 3, [4, 5]]\n",
      "l2 =  [1, 2, 3, [4, 5]]\n"
     ]
    }
   ],
   "source": [
    "# pre run\n",
    "print('This is original copy operation')\n",
    "print('l =', l)\n",
    "print('l1 = ',l1)\n",
    "print('l2 = ', l2)"
   ]
  },
  {
   "cell_type": "code",
   "execution_count": 76,
   "id": "8bedb71c",
   "metadata": {},
   "outputs": [],
   "source": [
    "# cassignment to compund element\n",
    "l[3][1] = 25"
   ]
  },
  {
   "cell_type": "code",
   "execution_count": 77,
   "id": "3fc7ce3d",
   "metadata": {},
   "outputs": [
    {
     "name": "stdout",
     "output_type": "stream",
     "text": [
      "Lists after assignment ot compound element\n",
      "l = [1, 2, 3, [4, 25]]\n",
      "l1 =  [1, 2, 3, [4, 25]]\n",
      "l2 =  [1, 2, 3, [4, 5]]\n"
     ]
    }
   ],
   "source": [
    "# difference in compound objects\n",
    "print('Lists after assignment ot compound element')\n",
    "print('l =', l)\n",
    "print('l1 = ',l1)\n",
    "print('l2 = ', l2)"
   ]
  },
  {
   "cell_type": "code",
   "execution_count": 78,
   "id": "bed12214",
   "metadata": {},
   "outputs": [
    {
     "name": "stdout",
     "output_type": "stream",
     "text": [
      "Lists after simple assignment to simple element\n",
      "l = [1, 2, 3, [4, 25], 10]\n",
      "l1 =  [1, 2, 3, [4, 25]]\n",
      "l2 =  [1, 2, 3, [4, 5]]\n"
     ]
    }
   ],
   "source": [
    "# assignment to simple element\n",
    "l.append(10)\n",
    "print('Lists after simple assignment to simple element')\n",
    "print('l =', l)\n",
    "print('l1 = ',l1)\n",
    "print('l2 = ', l2)"
   ]
  },
  {
   "cell_type": "code",
   "execution_count": null,
   "id": "b5a03ce4",
   "metadata": {},
   "outputs": [],
   "source": []
  }
 ],
 "metadata": {
  "kernelspec": {
   "display_name": "Python 3 (ipykernel)",
   "language": "python",
   "name": "python3"
  },
  "language_info": {
   "codemirror_mode": {
    "name": "ipython",
    "version": 3
   },
   "file_extension": ".py",
   "mimetype": "text/x-python",
   "name": "python",
   "nbconvert_exporter": "python",
   "pygments_lexer": "ipython3",
   "version": "3.8.13"
  }
 },
 "nbformat": 4,
 "nbformat_minor": 5
}
