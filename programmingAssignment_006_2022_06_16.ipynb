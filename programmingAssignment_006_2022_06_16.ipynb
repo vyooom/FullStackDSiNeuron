{
 "cells": [
  {
   "cell_type": "markdown",
   "id": "f1c73a25",
   "metadata": {},
   "source": [
    "1. Write a Python Program to Display Fibonacci Sequence Using Recursion?\n",
    "2. Write a Python Program to Find Factorial of Number Using Recursion?\n",
    "3. Write a Python Program to calculate your Body Mass Index?\n",
    "4. Write a Python Program to calculate the natural logarithm of any number?\n",
    "5. Write a Python Program for cube sum of first n natural numbers?"
   ]
  },
  {
   "cell_type": "code",
   "execution_count": 1,
   "id": "22acdace",
   "metadata": {},
   "outputs": [],
   "source": [
    "#Q1 Write a Python Program to Display Fibonacci Sequence Using Recursion?\n",
    "\n",
    "def display_fibo(n):\n",
    "    '''Finds the fibonacci sequence till nth position and displays them.\n",
    "        Counting starts from 1.'''\n",
    "    def fibonacci(a):\n",
    "        '''function for finding the fibonacci number'''\n",
    "        if a == 0 or a == 1:\n",
    "            return 1\n",
    "        else:\n",
    "            return fibonacci(a-1) + fibonacci(a-2) \n",
    "    i = 0    \n",
    "    while i < n:\n",
    "        print(fibonacci(i), end = ',')\n",
    "        i += 1"
   ]
  },
  {
   "cell_type": "code",
   "execution_count": 2,
   "id": "eafd1a43",
   "metadata": {},
   "outputs": [
    {
     "name": "stdout",
     "output_type": "stream",
     "text": [
      "1,1,2,3,5,8,13,21,34,55,"
     ]
    }
   ],
   "source": [
    "display_fibo(10)"
   ]
  },
  {
   "cell_type": "code",
   "execution_count": 3,
   "id": "8a1b9f68",
   "metadata": {},
   "outputs": [
    {
     "name": "stdout",
     "output_type": "stream",
     "text": [
      "1,1,2,3,5,"
     ]
    }
   ],
   "source": [
    "display_fibo(5)"
   ]
  },
  {
   "cell_type": "code",
   "execution_count": 4,
   "id": "3af90faf",
   "metadata": {},
   "outputs": [],
   "source": [
    "#Q2: Write a Python Program to Find Factorial of Number Using Recursion?\n",
    "\n",
    "def factorial(n):\n",
    "    '''Returns the factorial of a number n.\n",
    "    Recursion is used to call the factorial function again and again.'''\n",
    "    while n >= 0:\n",
    "        if n == 0:\n",
    "            return 1\n",
    "        else:\n",
    "            return n*factorial(n-1)\n",
    "        n -= 1"
   ]
  },
  {
   "cell_type": "code",
   "execution_count": 5,
   "id": "a1d50867",
   "metadata": {},
   "outputs": [
    {
     "data": {
      "text/plain": [
       "120"
      ]
     },
     "execution_count": 5,
     "metadata": {},
     "output_type": "execute_result"
    }
   ],
   "source": [
    "factorial(5)"
   ]
  },
  {
   "cell_type": "code",
   "execution_count": 6,
   "id": "a9756bd0",
   "metadata": {},
   "outputs": [],
   "source": [
    "#Q3: Write a Python Program to calculate your Body Mass Index?\n",
    "\n",
    "def bmi():\n",
    "    '''Finding the bmi by taking inputs.'''\n",
    "    \n",
    "    weight = float(input('Please enter your weight in Kilograms: '))\n",
    "    height = float(input('Please enter your height in meters: '))\n",
    "    \n",
    "    bmi = weight/height**2\n",
    "    \n",
    "    return 'Your BMI is: ', bmi"
   ]
  },
  {
   "cell_type": "code",
   "execution_count": 7,
   "id": "a31c6a7a",
   "metadata": {},
   "outputs": [
    {
     "name": "stdout",
     "output_type": "stream",
     "text": [
      "Please enter your weight in Kilograms: 77.5\n",
      "Please enter your height in meters: 1.79\n"
     ]
    },
    {
     "data": {
      "text/plain": [
       "('Your BMI is: ', 24.18775943322618)"
      ]
     },
     "execution_count": 7,
     "metadata": {},
     "output_type": "execute_result"
    }
   ],
   "source": [
    "bmi()"
   ]
  },
  {
   "cell_type": "code",
   "execution_count": 8,
   "id": "a47caff1",
   "metadata": {},
   "outputs": [],
   "source": [
    "#Q4: Write a Python Program to calculate the natural logarithm of any number?\n",
    "\n",
    "# The expansion of log x for 0<x<=2 is defined as \n",
    "'''log(x) = (x-1) - (x-1)^2/2 + (x-1)^3/3 - .....'''\n",
    "\n",
    "'''This function will go till infinity. We have to set a limit of values till it calculates.\n",
    "    Lets calculate values till e = 0.00001'''\n",
    "\n",
    "def log(a):\n",
    "    '''Finds the logarithm of a number through recursion'''\n",
    "    def log_position(n,x):\n",
    "        '''Finds the value of nth positional member of the log expansion'''\n",
    "        lp = 0\n",
    "        if x <= 2:\n",
    "            t1 = (-1)**(n+1)\n",
    "            t2 = (x-1)**n\n",
    "            t3 = t1*t2\n",
    "            lp = t3/n\n",
    "        else:\n",
    "            t1 = (x-1)\n",
    "            t2 = (x+1)\n",
    "            t3 = 2*n - 1\n",
    "            lp = 2*((t1/t2)**(t3))/t3\n",
    "            \n",
    "        return lp\n",
    "\n",
    "    # fixing the error value for terminating the loop\n",
    "    e = 0.01\n",
    "\n",
    "    l = 0\n",
    "    n = 1\n",
    "    while abs(e) >= 0.0001 and n<= 500:\n",
    "        # calculates the progressive value of log x till the error term is smaller than defined\n",
    "        prev = l\n",
    "        l = l + log_position(n, a)\n",
    "        n += 1\n",
    "        e = l - prev\n",
    "    return l\n",
    "        \n",
    "            "
   ]
  },
  {
   "cell_type": "code",
   "execution_count": 9,
   "id": "3b889201",
   "metadata": {},
   "outputs": [
    {
     "data": {
      "text/plain": [
       "0.0"
      ]
     },
     "execution_count": 9,
     "metadata": {},
     "output_type": "execute_result"
    }
   ],
   "source": [
    "log(1)"
   ]
  },
  {
   "cell_type": "code",
   "execution_count": 10,
   "id": "b8123da2",
   "metadata": {},
   "outputs": [
    {
     "data": {
      "text/plain": [
       "1.0985882823773445"
      ]
     },
     "execution_count": 10,
     "metadata": {},
     "output_type": "execute_result"
    }
   ],
   "source": [
    "log(3)"
   ]
  },
  {
   "cell_type": "code",
   "execution_count": 11,
   "id": "cd5511d9",
   "metadata": {},
   "outputs": [
    {
     "data": {
      "text/plain": [
       "0.6921481805579461"
      ]
     },
     "execution_count": 11,
     "metadata": {},
     "output_type": "execute_result"
    }
   ],
   "source": [
    "log(2)"
   ]
  },
  {
   "cell_type": "code",
   "execution_count": 12,
   "id": "1d16658d",
   "metadata": {},
   "outputs": [],
   "source": [
    "#Q 5: Write a Python Program for cube sum of first n natural numbers?\n",
    "\n",
    "def sumCubes(n):\n",
    "    '''Finding the sum of first n natural numbers through iteration.'''\n",
    "    sum = 0\n",
    "    for i in range(1, n+1):\n",
    "        sum += i**3\n",
    "    return sum"
   ]
  },
  {
   "cell_type": "code",
   "execution_count": 13,
   "id": "7403e996",
   "metadata": {},
   "outputs": [
    {
     "data": {
      "text/plain": [
       "36"
      ]
     },
     "execution_count": 13,
     "metadata": {},
     "output_type": "execute_result"
    }
   ],
   "source": [
    "sumCubes(3)"
   ]
  },
  {
   "cell_type": "code",
   "execution_count": 14,
   "id": "15c128d6",
   "metadata": {},
   "outputs": [],
   "source": [
    "# finding cubes through the formula:\n",
    "\n",
    "def sumCubes2(n):\n",
    "    '''The sum of cubes of first n natural numbers is \n",
    "    calculated as (n*(n+1)/2)^2'''\n",
    "    \n",
    "    sum = int((n*(n+1)/2)**2)\n",
    "    return sum"
   ]
  },
  {
   "cell_type": "code",
   "execution_count": 15,
   "id": "28a2fe6b",
   "metadata": {},
   "outputs": [
    {
     "data": {
      "text/plain": [
       "36"
      ]
     },
     "execution_count": 15,
     "metadata": {},
     "output_type": "execute_result"
    }
   ],
   "source": [
    "sumCubes2(3)"
   ]
  },
  {
   "cell_type": "code",
   "execution_count": null,
   "id": "e203a051",
   "metadata": {},
   "outputs": [],
   "source": []
  }
 ],
 "metadata": {
  "kernelspec": {
   "display_name": "Python 3 (ipykernel)",
   "language": "python",
   "name": "python3"
  },
  "language_info": {
   "codemirror_mode": {
    "name": "ipython",
    "version": 3
   },
   "file_extension": ".py",
   "mimetype": "text/x-python",
   "name": "python",
   "nbconvert_exporter": "python",
   "pygments_lexer": "ipython3",
   "version": "3.8.13"
  }
 },
 "nbformat": 4,
 "nbformat_minor": 5
}
