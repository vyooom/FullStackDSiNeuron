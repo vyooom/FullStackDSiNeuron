{
 "cells": [
  {
   "cell_type": "markdown",
   "id": "f3b2adb3",
   "metadata": {},
   "source": [
    "Assignment - 11:\n",
    "\n",
    "1. Create an assert statement that throws an AssertionError if the variable spam is a negative\n",
    "integer.\n",
    "2. Write an assert statement that triggers an AssertionError if the variables eggs and bacon contain\n",
    "strings that are the same as each other, even if their cases are different (that is, \"hello\" and \"hello\" are\n",
    "considered the same, and \"goodbye\" and \"GOODbye\" are also considered the same).\n",
    "3. Create an assert statement that throws an AssertionError every time.\n",
    "4. What are the two lines that must be present in your software in order to call logging.debug()?\n",
    "5. What are the two lines that your program must have in order to have logging.debug() send a\n",
    "logging message to a file named programLog.txt?\n",
    "6. What are the five levels of logging?\n",
    "7. What line of code would you add to your software to disable all logging messages?\n",
    "8.Why is using logging messages better than using print() to display the same message?\n",
    "9. What are the differences between the Step Over, Step In, and Step Out buttons in the debugger?\n",
    "10.After you click Continue, when will the debugger stop ?\n",
    "11. What is the concept of a breakpoint?"
   ]
  },
  {
   "cell_type": "markdown",
   "id": "8fad4ec2",
   "metadata": {},
   "source": [
    "Q1: Create an assert statement that throws an AssertionError if the variable spam is a negative integer. \n",
    "\n",
    "Answer:"
   ]
  },
  {
   "cell_type": "code",
   "execution_count": 9,
   "id": "6d4305bf",
   "metadata": {},
   "outputs": [],
   "source": [
    "def spamtest(spam):\n",
    "    spam = spam\n",
    "    assert spam >=0\n",
    "    print(f\"The value of spam is {spam}\")"
   ]
  },
  {
   "cell_type": "code",
   "execution_count": 10,
   "id": "9d914554",
   "metadata": {},
   "outputs": [
    {
     "name": "stdout",
     "output_type": "stream",
     "text": [
      "The value of spam is 3\n"
     ]
    }
   ],
   "source": [
    "spamtest(3)"
   ]
  },
  {
   "cell_type": "code",
   "execution_count": 11,
   "id": "4a9bdde8",
   "metadata": {},
   "outputs": [
    {
     "ename": "AssertionError",
     "evalue": "",
     "output_type": "error",
     "traceback": [
      "\u001b[1;31m---------------------------------------------------------------------------\u001b[0m",
      "\u001b[1;31mAssertionError\u001b[0m                            Traceback (most recent call last)",
      "Input \u001b[1;32mIn [11]\u001b[0m, in \u001b[0;36m<cell line: 1>\u001b[1;34m()\u001b[0m\n\u001b[1;32m----> 1\u001b[0m \u001b[43mspamtest\u001b[49m\u001b[43m(\u001b[49m\u001b[38;5;241;43m-\u001b[39;49m\u001b[38;5;241;43m9\u001b[39;49m\u001b[43m)\u001b[49m\n",
      "Input \u001b[1;32mIn [9]\u001b[0m, in \u001b[0;36mspamtest\u001b[1;34m(spam)\u001b[0m\n\u001b[0;32m      1\u001b[0m \u001b[38;5;28;01mdef\u001b[39;00m \u001b[38;5;21mspamtest\u001b[39m(spam):\n\u001b[0;32m      2\u001b[0m     spam \u001b[38;5;241m=\u001b[39m spam\n\u001b[1;32m----> 3\u001b[0m     \u001b[38;5;28;01massert\u001b[39;00m spam \u001b[38;5;241m>\u001b[39m\u001b[38;5;241m=\u001b[39m\u001b[38;5;241m0\u001b[39m\n\u001b[0;32m      4\u001b[0m     \u001b[38;5;28mprint\u001b[39m(\u001b[38;5;124mf\u001b[39m\u001b[38;5;124m\"\u001b[39m\u001b[38;5;124mThe value of spam is \u001b[39m\u001b[38;5;132;01m{\u001b[39;00mspam\u001b[38;5;132;01m}\u001b[39;00m\u001b[38;5;124m\"\u001b[39m)\n",
      "\u001b[1;31mAssertionError\u001b[0m: "
     ]
    }
   ],
   "source": [
    "spamtest(-9)"
   ]
  },
  {
   "cell_type": "markdown",
   "id": "c99e08a5",
   "metadata": {},
   "source": [
    "Q2: Write an assert statement that triggers an AssertionError if the variables eggs and bacon contain strings that are the same as each other, even if their cases are different (that is, \"hello\" and \"hello\" are considered the same, and \"goodbye\" and \"GOODbye\" are also considered the same).\n",
    "\n",
    "Answer:"
   ]
  },
  {
   "cell_type": "code",
   "execution_count": 14,
   "id": "eb641bac",
   "metadata": {},
   "outputs": [],
   "source": [
    "def eggbacon(x, y):\n",
    "    if type(x) == str and type(y) == str:\n",
    "        egg = x.lower()\n",
    "        bacon = y.lower()\n",
    "        assert egg != bacon\n",
    "        print(\"Eggs are not equal to Bacon!\")\n",
    "        \n",
    "    else:\n",
    "        print(\"Please enter strings.\")"
   ]
  },
  {
   "cell_type": "code",
   "execution_count": 15,
   "id": "e044b4a6",
   "metadata": {},
   "outputs": [
    {
     "ename": "AssertionError",
     "evalue": "",
     "output_type": "error",
     "traceback": [
      "\u001b[1;31m---------------------------------------------------------------------------\u001b[0m",
      "\u001b[1;31mAssertionError\u001b[0m                            Traceback (most recent call last)",
      "Input \u001b[1;32mIn [15]\u001b[0m, in \u001b[0;36m<cell line: 1>\u001b[1;34m()\u001b[0m\n\u001b[1;32m----> 1\u001b[0m \u001b[43meggbacon\u001b[49m\u001b[43m(\u001b[49m\u001b[38;5;124;43m\"\u001b[39;49m\u001b[38;5;124;43mhello\u001b[39;49m\u001b[38;5;124;43m\"\u001b[39;49m\u001b[43m,\u001b[49m\u001b[43m \u001b[49m\u001b[38;5;124;43m\"\u001b[39;49m\u001b[38;5;124;43mHELlo\u001b[39;49m\u001b[38;5;124;43m\"\u001b[39;49m\u001b[43m)\u001b[49m\n",
      "Input \u001b[1;32mIn [14]\u001b[0m, in \u001b[0;36meggbacon\u001b[1;34m(x, y)\u001b[0m\n\u001b[0;32m      3\u001b[0m     egg \u001b[38;5;241m=\u001b[39m x\u001b[38;5;241m.\u001b[39mlower()\n\u001b[0;32m      4\u001b[0m     bacon \u001b[38;5;241m=\u001b[39m y\u001b[38;5;241m.\u001b[39mlower()\n\u001b[1;32m----> 5\u001b[0m     \u001b[38;5;28;01massert\u001b[39;00m egg \u001b[38;5;241m!=\u001b[39m bacon\n\u001b[0;32m      6\u001b[0m     \u001b[38;5;28mprint\u001b[39m(\u001b[38;5;124m\"\u001b[39m\u001b[38;5;124mEggs are not equal to Bacon!\u001b[39m\u001b[38;5;124m\"\u001b[39m)\n\u001b[0;32m      8\u001b[0m \u001b[38;5;28;01melse\u001b[39;00m:\n",
      "\u001b[1;31mAssertionError\u001b[0m: "
     ]
    }
   ],
   "source": [
    "eggbacon(\"hello\", \"HELlo\")"
   ]
  },
  {
   "cell_type": "code",
   "execution_count": 16,
   "id": "e3eea867",
   "metadata": {},
   "outputs": [
    {
     "name": "stdout",
     "output_type": "stream",
     "text": [
      "Eggs are not equal to Bacon!\n"
     ]
    }
   ],
   "source": [
    "eggbacon(\"hello\", \"HELlo World\")"
   ]
  },
  {
   "cell_type": "markdown",
   "id": "9941e0e7",
   "metadata": {},
   "source": [
    "Q3: Create an assert statement that throws an AssertionError every time.\n",
    "    \n",
    "Answer:"
   ]
  },
  {
   "cell_type": "code",
   "execution_count": 18,
   "id": "b6464e2a",
   "metadata": {},
   "outputs": [
    {
     "ename": "AssertionError",
     "evalue": "",
     "output_type": "error",
     "traceback": [
      "\u001b[1;31m---------------------------------------------------------------------------\u001b[0m",
      "\u001b[1;31mAssertionError\u001b[0m                            Traceback (most recent call last)",
      "Input \u001b[1;32mIn [18]\u001b[0m, in \u001b[0;36m<cell line: 1>\u001b[1;34m()\u001b[0m\n\u001b[1;32m----> 1\u001b[0m \u001b[38;5;28;01massert\u001b[39;00m \u001b[38;5;28;01mFalse\u001b[39;00m\n\u001b[0;32m      2\u001b[0m \u001b[38;5;241m2\u001b[39m\u001b[38;5;241m+\u001b[39m\u001b[38;5;241m3\u001b[39m\n",
      "\u001b[1;31mAssertionError\u001b[0m: "
     ]
    }
   ],
   "source": [
    "assert False\n",
    "2+3"
   ]
  },
  {
   "cell_type": "code",
   "execution_count": 19,
   "id": "13580d87",
   "metadata": {},
   "outputs": [
    {
     "ename": "AssertionError",
     "evalue": "",
     "output_type": "error",
     "traceback": [
      "\u001b[1;31m---------------------------------------------------------------------------\u001b[0m",
      "\u001b[1;31mAssertionError\u001b[0m                            Traceback (most recent call last)",
      "Input \u001b[1;32mIn [19]\u001b[0m, in \u001b[0;36m<cell line: 1>\u001b[1;34m()\u001b[0m\n\u001b[1;32m----> 1\u001b[0m \u001b[38;5;28;01massert\u001b[39;00m \u001b[38;5;28;01mFalse\u001b[39;00m\n\u001b[0;32m      2\u001b[0m \u001b[38;5;124m\"\u001b[39m\u001b[38;5;124mabhi\u001b[39m\u001b[38;5;124m\"\u001b[39m\n",
      "\u001b[1;31mAssertionError\u001b[0m: "
     ]
    }
   ],
   "source": [
    "assert False\n",
    "\"abhi\""
   ]
  },
  {
   "cell_type": "code",
   "execution_count": 20,
   "id": "a08caf1b",
   "metadata": {},
   "outputs": [
    {
     "ename": "AssertionError",
     "evalue": "",
     "output_type": "error",
     "traceback": [
      "\u001b[1;31m---------------------------------------------------------------------------\u001b[0m",
      "\u001b[1;31mAssertionError\u001b[0m                            Traceback (most recent call last)",
      "Input \u001b[1;32mIn [20]\u001b[0m, in \u001b[0;36m<cell line: 1>\u001b[1;34m()\u001b[0m\n\u001b[1;32m----> 1\u001b[0m \u001b[38;5;28;01massert\u001b[39;00m \u001b[38;5;28;01mFalse\u001b[39;00m\n\u001b[0;32m      2\u001b[0m \u001b[38;5;241m10\u001b[39m\n",
      "\u001b[1;31mAssertionError\u001b[0m: "
     ]
    }
   ],
   "source": [
    "assert False\n",
    "10"
   ]
  },
  {
   "cell_type": "code",
   "execution_count": 21,
   "id": "3949c970",
   "metadata": {},
   "outputs": [
    {
     "ename": "AssertionError",
     "evalue": "",
     "output_type": "error",
     "traceback": [
      "\u001b[1;31m---------------------------------------------------------------------------\u001b[0m",
      "\u001b[1;31mAssertionError\u001b[0m                            Traceback (most recent call last)",
      "Input \u001b[1;32mIn [21]\u001b[0m, in \u001b[0;36m<cell line: 1>\u001b[1;34m()\u001b[0m\n\u001b[1;32m----> 1\u001b[0m \u001b[38;5;28;01massert\u001b[39;00m \u001b[38;5;28;01mFalse\u001b[39;00m\n",
      "\u001b[1;31mAssertionError\u001b[0m: "
     ]
    }
   ],
   "source": [
    "assert False"
   ]
  },
  {
   "cell_type": "markdown",
   "id": "572cb314",
   "metadata": {},
   "source": [
    "Q4: What are the two lines that must be present in your software in order to call logging.debug()?\n",
    "    \n",
    "Answer:\n",
    "    "
   ]
  },
  {
   "cell_type": "code",
   "execution_count": 24,
   "id": "068e2e38",
   "metadata": {},
   "outputs": [],
   "source": [
    "import logging           \n",
    "logging.basicConfig(filename='LT',level= logging.DEBUG,format = '%(message)s') \n"
   ]
  },
  {
   "cell_type": "markdown",
   "id": "a5f1926f",
   "metadata": {},
   "source": [
    "#### Question 5\n",
    "\n",
    "Q5: What are the two lines that your program must have in order to have logging.debug() send a logging message to a file named programLog.txt?\n",
    "\n",
    "Answer:"
   ]
  },
  {
   "cell_type": "code",
   "execution_count": 23,
   "id": "8dffe614",
   "metadata": {},
   "outputs": [],
   "source": [
    "import logging           \n",
    "logging.basicConfig(filename='programLog.txt', level= logging.DEBUG, format = '%(message)s') "
   ]
  },
  {
   "cell_type": "markdown",
   "id": "a71d9cc9",
   "metadata": {},
   "source": [
    "Q6: What are the five levels of logging?\n",
    "\n",
    "Answer:\n",
    "\n",
    "1. Debug\n",
    "2. Info\n",
    "3. Warnning\n",
    "4. Error  \n",
    "5. Critical\n"
   ]
  },
  {
   "cell_type": "markdown",
   "id": "6696b37c",
   "metadata": {},
   "source": [
    "Q7: What line of code would you add to your software to disable all logging messages?\n",
    "    \n",
    "Answer:\n",
    "\n",
    "logging.disable(sys.maxsize)"
   ]
  },
  {
   "cell_type": "markdown",
   "id": "2bd65832",
   "metadata": {},
   "source": [
    "Q8: Why is using logging messages better than using print() to display the same message?\n",
    "\n",
    "Answer:    \n",
    "- It is not practical to display print messages from a software deployment.\n",
    "- Logging provides many advanced features like timestamping and the level of logging which is not possible with print\n",
    "- Logging is non-intusve way to understand the viability of a program.\n",
    "- It runs in the background without disturbing the user interface which is not possible with print."
   ]
  },
  {
   "cell_type": "markdown",
   "id": "bb9e2896",
   "metadata": {},
   "source": [
    "Q9: What are the differences between the Step Over, Step In, and Step Out buttons in the debugger?\n",
    "    \n",
    "Answer:\n",
    "\n",
    "- Step Over: Moves to next line of code and performs normal execution without going into NESTED command/function\n",
    "\n",
    "- Step In: Moves to next line of code and performs normal execution and also goes into NESTED command/function if directed\n",
    "\n",
    "- Step Out: Comes out of the execution of the function\n"
   ]
  },
  {
   "cell_type": "markdown",
   "id": "56e34684",
   "metadata": {},
   "source": [
    "Q 10: After you click Continue, when will the debugger stop ?\n",
    "\n",
    "Answer:  \n",
    "At the next breakpoint in the debugger mode."
   ]
  },
  {
   "cell_type": "markdown",
   "id": "8f612738",
   "metadata": {},
   "source": [
    "Q 11. What is the concept of a breakpoint?\n",
    "\n",
    "Answer:\n",
    "Breakpoints are very useful, if we want to check the execution and values of the code/variables at differnt line/position of the code. It segregates the pre and post breakpoint status of the variables for debugging."
   ]
  },
  {
   "cell_type": "code",
   "execution_count": null,
   "id": "d266c836",
   "metadata": {},
   "outputs": [],
   "source": []
  }
 ],
 "metadata": {
  "kernelspec": {
   "display_name": "Python 3 (ipykernel)",
   "language": "python",
   "name": "python3"
  },
  "language_info": {
   "codemirror_mode": {
    "name": "ipython",
    "version": 3
   },
   "file_extension": ".py",
   "mimetype": "text/x-python",
   "name": "python",
   "nbconvert_exporter": "python",
   "pygments_lexer": "ipython3",
   "version": "3.9.13"
  }
 },
 "nbformat": 4,
 "nbformat_minor": 5
}
