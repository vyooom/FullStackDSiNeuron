{
 "cells": [
  {
   "cell_type": "markdown",
   "id": "ee7377c7",
   "metadata": {},
   "source": [
    "Q1. What does an empty dictionary&#39;s code look like?    \n",
    "Answer:    \n",
    "{}    "
   ]
  },
  {
   "cell_type": "code",
   "execution_count": 1,
   "id": "82b2a630",
   "metadata": {},
   "outputs": [
    {
     "data": {
      "text/plain": [
       "dict"
      ]
     },
     "execution_count": 1,
     "metadata": {},
     "output_type": "execute_result"
    }
   ],
   "source": [
    "d = {}\n",
    "type(d)"
   ]
  },
  {
   "cell_type": "markdown",
   "id": "4218386e",
   "metadata": {},
   "source": [
    "Q2. What is the value of a dictionary value with the key 'foo' and the value 42?     \n",
    "answer: 42    "
   ]
  },
  {
   "cell_type": "code",
   "execution_count": 2,
   "id": "3c1df3c6",
   "metadata": {},
   "outputs": [
    {
     "data": {
      "text/plain": [
       "dict_values([42])"
      ]
     },
     "execution_count": 2,
     "metadata": {},
     "output_type": "execute_result"
    }
   ],
   "source": [
    "d = {'foo': 42}\n",
    "d.values()"
   ]
  },
  {
   "cell_type": "markdown",
   "id": "2cbdc12e",
   "metadata": {},
   "source": [
    "Q3. What is the most significant distinction between a dictionary and a list?      \n",
    "Answer:   \n",
    "The indexes in a list are integers and are stated implicitly whereas the 'keys' act as indexes in a dictionary and are stated explicitly.    "
   ]
  },
  {
   "cell_type": "markdown",
   "id": "c8121fa0",
   "metadata": {},
   "source": [
    "Q4. What happens if you try to access spam['foo'] if spam is {'bar': 100}?         \n",
    "Answer: It gives a key error as key named 'foo' doesn't exist.      "
   ]
  },
  {
   "cell_type": "markdown",
   "id": "d67e9a17",
   "metadata": {},
   "source": [
    "spam = {'bar': 100}    \n",
    "spam['foo']    \n",
    "KeyError: 'foo'     "
   ]
  },
  {
   "cell_type": "markdown",
   "id": "14922b97",
   "metadata": {},
   "source": [
    "Q5. If a dictionary is stored in spam, what is the difference between the expressions 'cat' in spam and 'cat' in spam.keys()?       \n",
    "Answer:      \n",
    "They are same.     \n",
    "'cat' in spam will always check for 'cat' values in keys of spam and not in values of spam. Hence they are similar. As shown below.      "
   ]
  },
  {
   "cell_type": "code",
   "execution_count": 4,
   "id": "46140c8d",
   "metadata": {},
   "outputs": [],
   "source": [
    "spam = {'cat': 'dog'}\n",
    "spam1 = {'dog': 'cat'}\n"
   ]
  },
  {
   "cell_type": "code",
   "execution_count": 5,
   "id": "44d6ff5a",
   "metadata": {},
   "outputs": [
    {
     "data": {
      "text/plain": [
       "True"
      ]
     },
     "execution_count": 5,
     "metadata": {},
     "output_type": "execute_result"
    }
   ],
   "source": [
    "'cat' in spam"
   ]
  },
  {
   "cell_type": "code",
   "execution_count": 6,
   "id": "786df9e6",
   "metadata": {},
   "outputs": [
    {
     "data": {
      "text/plain": [
       "False"
      ]
     },
     "execution_count": 6,
     "metadata": {},
     "output_type": "execute_result"
    }
   ],
   "source": [
    "'cat' in spam1"
   ]
  },
  {
   "cell_type": "code",
   "execution_count": 7,
   "id": "3ebc4f7b",
   "metadata": {},
   "outputs": [
    {
     "data": {
      "text/plain": [
       "True"
      ]
     },
     "execution_count": 7,
     "metadata": {},
     "output_type": "execute_result"
    }
   ],
   "source": [
    "'cat' in spam.keys()"
   ]
  },
  {
   "cell_type": "code",
   "execution_count": 8,
   "id": "75ef9a54",
   "metadata": {},
   "outputs": [
    {
     "data": {
      "text/plain": [
       "True"
      ]
     },
     "execution_count": 8,
     "metadata": {},
     "output_type": "execute_result"
    }
   ],
   "source": [
    "'cat' in spam1.values()"
   ]
  },
  {
   "cell_type": "markdown",
   "id": "5c47a9e2",
   "metadata": {},
   "source": [
    "Q6. If a dictionary is stored in spam, what is the difference between the expressions 'cat' in spam and 'cat' in spam.values()?    \n",
    "Answer:    \n",
    "As shown above;     \n",
    "'cat' in spam will check for 'cat' in keys    \n",
    "'cat' in spam.values() will check for 'cat' in values   "
   ]
  },
  {
   "cell_type": "markdown",
   "id": "7949ed8a",
   "metadata": {},
   "source": [
    "Q7. What is a shortcut for the following code?     \n",
    "if 'color' not in spam:      \n",
    "    spam['color'] = 'black'     \n",
    "Answer:      \n",
    "It could be done directly     \n",
    "spam['color'] = 'black'     "
   ]
  },
  {
   "cell_type": "code",
   "execution_count": 9,
   "id": "bbeeec94",
   "metadata": {},
   "outputs": [
    {
     "data": {
      "text/plain": [
       "{'cat': 'dog'}"
      ]
     },
     "execution_count": 9,
     "metadata": {},
     "output_type": "execute_result"
    }
   ],
   "source": [
    "spam"
   ]
  },
  {
   "cell_type": "code",
   "execution_count": 10,
   "id": "f9284ca9",
   "metadata": {},
   "outputs": [
    {
     "data": {
      "text/plain": [
       "{'cat': 'dog', 'color': 'black'}"
      ]
     },
     "execution_count": 10,
     "metadata": {},
     "output_type": "execute_result"
    }
   ],
   "source": [
    "spam['color'] = 'black'\n",
    "spam"
   ]
  },
  {
   "cell_type": "markdown",
   "id": "812d0d56",
   "metadata": {},
   "source": [
    "Q8. How do you 'pretty print' dictionary values using which module and function?      \n",
    "Answer:    \n",
    "Use json.dumps or yaml.dumps     "
   ]
  },
  {
   "cell_type": "code",
   "execution_count": 11,
   "id": "7727669b",
   "metadata": {},
   "outputs": [
    {
     "name": "stdout",
     "output_type": "stream",
     "text": [
      "{\n",
      "   \"cat\": \"dog\",\n",
      "   \"color\": \"black\"\n",
      "}\n"
     ]
    }
   ],
   "source": [
    "import json\n",
    "print(json.dumps(spam, sort_keys = False, indent = 3))"
   ]
  },
  {
   "cell_type": "code",
   "execution_count": 12,
   "id": "96d90043",
   "metadata": {},
   "outputs": [
    {
     "name": "stdout",
     "output_type": "stream",
     "text": [
      "cat: dog\n",
      "color: black\n",
      "\n"
     ]
    }
   ],
   "source": [
    "import yaml\n",
    "print(yaml.dump(spam, sort_keys = False, default_flow_style = False))"
   ]
  },
  {
   "cell_type": "code",
   "execution_count": null,
   "id": "448053ce",
   "metadata": {},
   "outputs": [],
   "source": []
  }
 ],
 "metadata": {
  "kernelspec": {
   "display_name": "Python 3 (ipykernel)",
   "language": "python",
   "name": "python3"
  },
  "language_info": {
   "codemirror_mode": {
    "name": "ipython",
    "version": 3
   },
   "file_extension": ".py",
   "mimetype": "text/x-python",
   "name": "python",
   "nbconvert_exporter": "python",
   "pygments_lexer": "ipython3",
   "version": "3.8.13"
  }
 },
 "nbformat": 4,
 "nbformat_minor": 5
}
