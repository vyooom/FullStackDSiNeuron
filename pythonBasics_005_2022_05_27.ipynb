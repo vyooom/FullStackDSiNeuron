{
 "cells": [
  {
   "cell_type": "raw",
   "id": "b962cfa5",
   "metadata": {},
   "source": [
    "Q1. What does an empty dictionary&#39;s code look like?\n",
    "Answer:\n",
    "{}"
   ]
  },
  {
   "cell_type": "code",
   "execution_count": 1,
   "id": "5b65b26a",
   "metadata": {},
   "outputs": [
    {
     "data": {
      "text/plain": [
       "dict"
      ]
     },
     "execution_count": 1,
     "metadata": {},
     "output_type": "execute_result"
    }
   ],
   "source": [
    "d = {}\n",
    "type(d)"
   ]
  },
  {
   "cell_type": "raw",
   "id": "044329e2",
   "metadata": {},
   "source": [
    "Q2. What is the value of a dictionary value with the key 'foo' and the value 42?\n",
    "answer: 42"
   ]
  },
  {
   "cell_type": "code",
   "execution_count": 2,
   "id": "b4dda567",
   "metadata": {},
   "outputs": [
    {
     "data": {
      "text/plain": [
       "dict_values([42])"
      ]
     },
     "execution_count": 2,
     "metadata": {},
     "output_type": "execute_result"
    }
   ],
   "source": [
    "d = {'foo': 42}\n",
    "d.values()"
   ]
  },
  {
   "cell_type": "raw",
   "id": "2942c3c7",
   "metadata": {},
   "source": [
    "Q3. What is the most significant distinction between a dictionary and a list?\n",
    "Answer:\n",
    "The indexes in a list are integers and are stated implicitly whereas the 'keys' act as indexes in a dictionary and are stated explicitly."
   ]
  },
  {
   "cell_type": "raw",
   "id": "fef8137f",
   "metadata": {},
   "source": [
    "Q4. What happens if you try to access spam['foo'] if spam is {'bar': 100}?\n",
    "Answer: It gives a key error as key named 'foo' doesn't exist."
   ]
  },
  {
   "cell_type": "code",
   "execution_count": 3,
   "id": "30320212",
   "metadata": {},
   "outputs": [
    {
     "ename": "KeyError",
     "evalue": "'foo'",
     "output_type": "error",
     "traceback": [
      "\u001b[1;31m---------------------------------------------------------------------------\u001b[0m",
      "\u001b[1;31mKeyError\u001b[0m                                  Traceback (most recent call last)",
      "Input \u001b[1;32mIn [3]\u001b[0m, in \u001b[0;36m<cell line: 2>\u001b[1;34m()\u001b[0m\n\u001b[0;32m      1\u001b[0m spam \u001b[38;5;241m=\u001b[39m {\u001b[38;5;124m'\u001b[39m\u001b[38;5;124mbar\u001b[39m\u001b[38;5;124m'\u001b[39m: \u001b[38;5;241m100\u001b[39m}\n\u001b[1;32m----> 2\u001b[0m \u001b[43mspam\u001b[49m\u001b[43m[\u001b[49m\u001b[38;5;124;43m'\u001b[39;49m\u001b[38;5;124;43mfoo\u001b[39;49m\u001b[38;5;124;43m'\u001b[39;49m\u001b[43m]\u001b[49m\n",
      "\u001b[1;31mKeyError\u001b[0m: 'foo'"
     ]
    }
   ],
   "source": [
    "spam = {'bar': 100}\n",
    "spam['foo']"
   ]
  },
  {
   "cell_type": "raw",
   "id": "38c43f1b",
   "metadata": {},
   "source": [
    "Q5. If a dictionary is stored in spam, what is the difference between the expressions 'cat' in spam and 'cat' in spam.keys()?\n",
    "Answer:\n",
    "They are same.\n",
    "'cat' in spam will always check for 'cat' values in keys of spam and not in values of spam. Hence they are similar. As shown below. "
   ]
  },
  {
   "cell_type": "code",
   "execution_count": 4,
   "id": "3ec86d50",
   "metadata": {},
   "outputs": [],
   "source": [
    "spam = {'cat': 'dog'}\n",
    "spam1 = {'dog': 'cat'}\n"
   ]
  },
  {
   "cell_type": "code",
   "execution_count": 6,
   "id": "09238ec5",
   "metadata": {},
   "outputs": [
    {
     "data": {
      "text/plain": [
       "True"
      ]
     },
     "execution_count": 6,
     "metadata": {},
     "output_type": "execute_result"
    }
   ],
   "source": [
    "'cat' in spam"
   ]
  },
  {
   "cell_type": "code",
   "execution_count": 7,
   "id": "a8b8adbc",
   "metadata": {},
   "outputs": [
    {
     "data": {
      "text/plain": [
       "False"
      ]
     },
     "execution_count": 7,
     "metadata": {},
     "output_type": "execute_result"
    }
   ],
   "source": [
    "'cat' in spam1"
   ]
  },
  {
   "cell_type": "code",
   "execution_count": 8,
   "id": "46c5abda",
   "metadata": {},
   "outputs": [
    {
     "data": {
      "text/plain": [
       "True"
      ]
     },
     "execution_count": 8,
     "metadata": {},
     "output_type": "execute_result"
    }
   ],
   "source": [
    "'cat' in spam.keys()"
   ]
  },
  {
   "cell_type": "code",
   "execution_count": 9,
   "id": "a0021b44",
   "metadata": {},
   "outputs": [
    {
     "data": {
      "text/plain": [
       "True"
      ]
     },
     "execution_count": 9,
     "metadata": {},
     "output_type": "execute_result"
    }
   ],
   "source": [
    "'cat' in spam1.values()"
   ]
  },
  {
   "cell_type": "raw",
   "id": "abb98fe9",
   "metadata": {},
   "source": [
    "Q6. If a dictionary is stored in spam, what is the difference between the expressions 'cat' in spam and 'cat' in spam.values()?\n",
    "Answer:\n",
    "As shown above; \n",
    "'cat' in spam will check for 'cat' in keys\n",
    "'cat' in spam.values() will check for 'cat' in values"
   ]
  },
  {
   "cell_type": "raw",
   "id": "5c0ad420",
   "metadata": {},
   "source": [
    "Q7. What is a shortcut for the following code?\n",
    "if 'color' not in spam:\n",
    "    spam['color'] = 'black'\n",
    "Answer:\n",
    "It could be done directly\n",
    "spam['color'] = 'black'"
   ]
  },
  {
   "cell_type": "code",
   "execution_count": 11,
   "id": "908ca787",
   "metadata": {},
   "outputs": [
    {
     "data": {
      "text/plain": [
       "{'cat': 'dog'}"
      ]
     },
     "execution_count": 11,
     "metadata": {},
     "output_type": "execute_result"
    }
   ],
   "source": [
    "spam"
   ]
  },
  {
   "cell_type": "code",
   "execution_count": 12,
   "id": "293fc8bd",
   "metadata": {},
   "outputs": [
    {
     "data": {
      "text/plain": [
       "{'cat': 'dog', 'color': 'black'}"
      ]
     },
     "execution_count": 12,
     "metadata": {},
     "output_type": "execute_result"
    }
   ],
   "source": [
    "spam['color'] = 'black'\n",
    "spam"
   ]
  },
  {
   "cell_type": "raw",
   "id": "ee5755eb",
   "metadata": {},
   "source": [
    "Q8. How do you 'pretty print' dictionary values using which module and function?\n",
    "Answer:\n",
    "Use json.dumps or yaml.dumps"
   ]
  },
  {
   "cell_type": "code",
   "execution_count": 15,
   "id": "1ad32448",
   "metadata": {},
   "outputs": [
    {
     "name": "stdout",
     "output_type": "stream",
     "text": [
      "{\n",
      "   \"cat\": \"dog\",\n",
      "   \"color\": \"black\"\n",
      "}\n"
     ]
    }
   ],
   "source": [
    "import json\n",
    "print(json.dumps(spam, sort_keys = False, indent = 3))"
   ]
  },
  {
   "cell_type": "code",
   "execution_count": 17,
   "id": "a8cbc162",
   "metadata": {},
   "outputs": [
    {
     "name": "stdout",
     "output_type": "stream",
     "text": [
      "cat: dog\n",
      "color: black\n",
      "\n"
     ]
    }
   ],
   "source": [
    "import yaml\n",
    "print(yaml.dump(spam, sort_keys = False, default_flow_style = False))"
   ]
  },
  {
   "cell_type": "code",
   "execution_count": null,
   "id": "d48f5153",
   "metadata": {},
   "outputs": [],
   "source": []
  }
 ],
 "metadata": {
  "kernelspec": {
   "display_name": "Python 3 (ipykernel)",
   "language": "python",
   "name": "python3"
  },
  "language_info": {
   "codemirror_mode": {
    "name": "ipython",
    "version": 3
   },
   "file_extension": ".py",
   "mimetype": "text/x-python",
   "name": "python",
   "nbconvert_exporter": "python",
   "pygments_lexer": "ipython3",
   "version": "3.8.13"
  }
 },
 "nbformat": 4,
 "nbformat_minor": 5
}
