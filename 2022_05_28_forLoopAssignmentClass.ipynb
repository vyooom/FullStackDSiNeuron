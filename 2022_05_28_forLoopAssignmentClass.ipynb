{
 "cells": [
  {
   "cell_type": "markdown",
   "id": "a292eec5",
   "metadata": {},
   "source": [
    "#Q1 print      \n",
    "iNeuron        \n",
    "iNeuron iNeuron      \n",
    "iNeuron iNeuron iNeuron     \n",
    "iNeuron iNeuron iNeuron     "
   ]
  },
  {
   "cell_type": "code",
   "execution_count": 3,
   "id": "f0296e74",
   "metadata": {},
   "outputs": [
    {
     "name": "stdout",
     "output_type": "stream",
     "text": [
      "iNeuron \n",
      "iNeuron iNeuron \n",
      "iNeuron iNeuron iNeuron \n",
      "iNeuron iNeuron iNeuron \n"
     ]
    }
   ],
   "source": [
    "a = 'iNeuron'\n",
    "for i in range(4):\n",
    "    if i != 3:\n",
    "        for j in range(i+1):\n",
    "            print(a, end= \" \")\n",
    "        print()\n",
    "    else:\n",
    "        for j in range(i):\n",
    "            print(a, end = \" \")\n",
    "        print()"
   ]
  },
  {
   "cell_type": "markdown",
   "id": "05d39460",
   "metadata": {},
   "source": [
    "Q2: Print             \n",
    "                   iNeuron                  \n",
    "                  iNeuron       iNeuron            \n",
    "       iNeuron       iNeuron       iNeuron             \n",
    "              iNeuron       iNeuron             \n",
    "                     iNeuron      "
   ]
  },
  {
   "cell_type": "code",
   "execution_count": 4,
   "id": "1da2d5bb",
   "metadata": {},
   "outputs": [
    {
     "name": "stdout",
     "output_type": "stream",
     "text": [
      "                     iNeuron       \n",
      "              iNeuron       iNeuron       \n",
      "       iNeuron       iNeuron       iNeuron       \n",
      "              iNeuron       iNeuron       \n",
      "                     iNeuron       \n"
     ]
    }
   ],
   "source": [
    "a = 'iNeuron'\n",
    "\n",
    "for i in range(5):\n",
    "    if i < 3:\n",
    "        for j in range(i, 3):\n",
    "            print(\" \"*len(a), end = \"\")\n",
    "        for j in range(i+1):\n",
    "            print(a, end = ' '*len(a))\n",
    "        print()\n",
    "    else:\n",
    "        for j in range(0, i-1):\n",
    "           print(\" \"*len(a), end = \"\")\n",
    "        for j in range(0,5-i):\n",
    "            print(a, end = ' '* len(a))\n",
    "        print()"
   ]
  },
  {
   "cell_type": "code",
   "execution_count": 5,
   "id": "376e06b9",
   "metadata": {},
   "outputs": [],
   "source": [
    "l = [\n",
    "    [1,2,3,4], (2,3,4,5,6), (3,4,5,6,7),\n",
    "    set([23,4,5,45,4,4,5,45,45,4,5,]),\n",
    "    {'k1': 'sudh', 'k2': 'ineuron', 'k3': 'kumar', 3:6, 7:8}, \n",
    "    ['ineuron', 'datascience']\n",
    "]"
   ]
  },
  {
   "cell_type": "code",
   "execution_count": 6,
   "id": "f6a76b48",
   "metadata": {},
   "outputs": [],
   "source": [
    "# Q3 Try to extract all the list entities\n",
    "# Q4 Try to extract all the dict entities\n",
    "# Q5 Try to extract all the tuples entities\n",
    "# Q6 Try to extract all the numerical data, it may be the part of dictionary or value\n",
    "# Q7 Try to give sum of all numerical data\n",
    "# Q8 Try to filter out all the odd values in numeric data which is a part of a list\n",
    "# Q9 Try to extract 'ineuron' out of data\n",
    "# Q10 Try to find out number of occurace of all the data\n",
    "#Q11 Find out the number or keys dict\n",
    "#Q12 Filter the string dat ain list\n",
    "#Q13 Filter out alphanumeric in the data\n",
    "#Q14 Find out multiplication of all the individual collection inside dataset\n",
    "#Q15. Try to unwrape all the collection and create a flat list."
   ]
  },
  {
   "cell_type": "code",
   "execution_count": 7,
   "id": "5e2af872",
   "metadata": {},
   "outputs": [
    {
     "name": "stdout",
     "output_type": "stream",
     "text": [
      "[1, 2, 3, 4]\n",
      "['ineuron', 'datascience']\n"
     ]
    }
   ],
   "source": [
    "# Q3 Try to extract all the list entities\n",
    "for i in l:\n",
    "    if type(i) == list:\n",
    "        print(i)"
   ]
  },
  {
   "cell_type": "code",
   "execution_count": 8,
   "id": "8ba7d84a",
   "metadata": {},
   "outputs": [
    {
     "name": "stdout",
     "output_type": "stream",
     "text": [
      "{'k1': 'sudh', 'k2': 'ineuron', 'k3': 'kumar', 3: 6, 7: 8}\n"
     ]
    }
   ],
   "source": [
    "# Ans4:\n",
    "for i in l:\n",
    "    if type(i) == dict:\n",
    "        print(i)"
   ]
  },
  {
   "cell_type": "code",
   "execution_count": 9,
   "id": "cca6c589",
   "metadata": {},
   "outputs": [
    {
     "name": "stdout",
     "output_type": "stream",
     "text": [
      "(2, 3, 4, 5, 6)\n",
      "(3, 4, 5, 6, 7)\n"
     ]
    }
   ],
   "source": [
    "# Q5 Try to extract all the tuples entities\n",
    "for i in l:\n",
    "    if type(i) == tuple:\n",
    "        print(i)"
   ]
  },
  {
   "cell_type": "code",
   "execution_count": 10,
   "id": "a0cf7073",
   "metadata": {},
   "outputs": [
    {
     "name": "stdout",
     "output_type": "stream",
     "text": [
      "[1, 2, 3, 4, 2, 3, 4, 5, 6, 3, 4, 5, 6, 7, 45, 4, 5, 23, 3, 6, 7, 8]\n"
     ]
    }
   ],
   "source": [
    "#Q6 Try to extract all the numerical data, it may be the part of dictionary\n",
    "l1 = []\n",
    "for i in l:\n",
    "    if type(i) == list or type(i) == tuple or type(i) == set:\n",
    "        for j in i:\n",
    "            if type(j) == int:\n",
    "                l1.append(j)\n",
    "    if type(i) == dict:\n",
    "        for k, v in i.items():\n",
    "            if type(k) == int:\n",
    "                l1.append(k)\n",
    "            if type(v) == int:\n",
    "                l1.append(v)\n",
    "                \n",
    "print(l1)"
   ]
  },
  {
   "cell_type": "code",
   "execution_count": 11,
   "id": "d31accc1",
   "metadata": {},
   "outputs": [
    {
     "data": {
      "text/plain": [
       "156"
      ]
     },
     "execution_count": 11,
     "metadata": {},
     "output_type": "execute_result"
    }
   ],
   "source": [
    "# Q7 Try to give sum of all numerical data\n",
    "sum(l1)"
   ]
  },
  {
   "cell_type": "code",
   "execution_count": 12,
   "id": "cb27597d",
   "metadata": {},
   "outputs": [
    {
     "name": "stdout",
     "output_type": "stream",
     "text": [
      "[1, 3]\n"
     ]
    }
   ],
   "source": [
    "\"\"\"Q8 Try to filter out all the odd values in numeric data \n",
    "which is a part of a list\n",
    "\n",
    "\"\"\"\n",
    "l2 = []\n",
    "for i in l:\n",
    "    if type(i) == list:\n",
    "        for j in i:\n",
    "            if type(j) ==int:\n",
    "                if j%2 ==1:\n",
    "                    l2.append(j)\n",
    "                    \n",
    "print(l2)"
   ]
  },
  {
   "cell_type": "code",
   "execution_count": 15,
   "id": "39c28ae6",
   "metadata": {},
   "outputs": [
    {
     "name": "stdout",
     "output_type": "stream",
     "text": [
      "['ineuron', 'ineuron']\n"
     ]
    }
   ],
   "source": [
    "# Q9 Try to extract 'ineuron' out of data\n",
    "\n",
    "l3 = []\n",
    "for i in l:\n",
    "    if type(i) == list or type(i) == tuple or type(i) == set:\n",
    "        for j  in i:\n",
    "            if j == 'ineuron':\n",
    "                l3.append(j)              \n",
    "                \n",
    "    if type(i) == dict:\n",
    "        for k, v in i.items():\n",
    "            if k == 'ineuron':\n",
    "                l3.append(k)\n",
    "            if v == 'ineuron':\n",
    "                l3.append(v)\n",
    "\n",
    "print(l3)"
   ]
  },
  {
   "cell_type": "code",
   "execution_count": 14,
   "id": "9976352e",
   "metadata": {},
   "outputs": [
    {
     "name": "stdout",
     "output_type": "stream",
     "text": [
      "1 1\n",
      "2 2\n",
      "3 4\n",
      "4 4\n",
      "5 3\n",
      "6 3\n",
      "7 2\n",
      "k1 1\n",
      "k2 1\n",
      "8 1\n",
      "datascience 1\n",
      "45 1\n",
      "kumar 1\n",
      "sudh 1\n",
      "ineuron 2\n",
      "23 1\n",
      "k3 1\n"
     ]
    }
   ],
   "source": [
    "# Q10 Try to find out number of occurace of all the data\n",
    "\n",
    "l4 = []\n",
    "for i in l:\n",
    "    if type(i) == list or type(i) == tuple or type(i) == set:\n",
    "        for j in i:\n",
    "            l4.append(j)\n",
    "    if type(i) == dict:\n",
    "        for k,v in i.items():\n",
    "            l4.append(k)\n",
    "            l4.append(v)\n",
    "# counting the number of occurance\n",
    "s = set(l4)\n",
    "counter = 0\n",
    "for j in s:\n",
    "    for i in range(len(l4)):\n",
    "        if l4[i] == j:\n",
    "            counter += 1\n",
    "    print(j, counter)\n",
    "    counter = 0"
   ]
  },
  {
   "cell_type": "code",
   "execution_count": 20,
   "id": "c3363371",
   "metadata": {},
   "outputs": [
    {
     "name": "stdout",
     "output_type": "stream",
     "text": [
      "No. of elements in dict: 5\n"
     ]
    }
   ],
   "source": [
    "#Q11 Find out the number or keys dict element\n",
    "\n",
    "for i in l:\n",
    "    if type(i) == dict:\n",
    "        print('No. of elements in dict:', len(i))\n",
    "            "
   ]
  },
  {
   "cell_type": "code",
   "execution_count": 18,
   "id": "56be7b5f",
   "metadata": {},
   "outputs": [
    {
     "name": "stdout",
     "output_type": "stream",
     "text": [
      "No of numerical in dict: 2\n"
     ]
    }
   ],
   "source": [
    "# or the second meaning could be\n",
    "for i in l:\n",
    "    if type(i) == dict:\n",
    "        counter = 0\n",
    "        for j in i:\n",
    "            if type(j) == int:\n",
    "                counter += 1\n",
    "        print('No of numerical in dict:', counter)\n",
    "            "
   ]
  },
  {
   "cell_type": "code",
   "execution_count": 21,
   "id": "194e5f61",
   "metadata": {},
   "outputs": [
    {
     "name": "stdout",
     "output_type": "stream",
     "text": [
      "['k1', 'sudh', 'k2', 'ineuron', 'k3', 'kumar', 'ineuron', 'datascience']\n"
     ]
    }
   ],
   "source": [
    "# Q12 Filter the string data in list\n",
    "l5 = []\n",
    "for i in l:\n",
    "    if type(i) == list or type(i) == tuple or type(i) == set:\n",
    "        for j in i:\n",
    "            if type(j) == str:\n",
    "                l5.append(j)\n",
    "    if type(i) == dict:\n",
    "        for k,v in i.items():\n",
    "            if type(k) == str:\n",
    "                l5.append(k)\n",
    "            if type(v) == str:\n",
    "                l5.append(v)\n",
    "print(l5)"
   ]
  },
  {
   "cell_type": "code",
   "execution_count": 22,
   "id": "e3c6ce3f",
   "metadata": {},
   "outputs": [
    {
     "name": "stdout",
     "output_type": "stream",
     "text": [
      "['k1', 'sudh', 'k2', 'ineuron', 'k3', 'kumar', 'ineuron', 'datascience']\n"
     ]
    }
   ],
   "source": [
    "# Q13 Filter out alphanumeric in the data:\n",
    "l6 = []\n",
    "for i in l:\n",
    "    if type(i) == list or type(i) == tuple or type(i) == set:\n",
    "        for j in i:\n",
    "            if type(j) == str:\n",
    "                if j.isalnum() == True:\n",
    "                    l6.append(j)\n",
    "    if type(i) == dict:\n",
    "        for k,v in i.items():\n",
    "            if type(k) == str:\n",
    "                if k.isalnum() == True:\n",
    "                    l6.append(k)\n",
    "            if type(v) == str:\n",
    "                if v.isalnum() == True:\n",
    "                    l6.append(v)\n",
    "                \n",
    "print(l6)"
   ]
  },
  {
   "cell_type": "code",
   "execution_count": 23,
   "id": "9d74f17f",
   "metadata": {},
   "outputs": [
    {
     "name": "stdout",
     "output_type": "stream",
     "text": [
      "[24, 720, 2520, 20700, 1008, 1]\n"
     ]
    }
   ],
   "source": [
    "\"\"\"#Q14 Find out multiplication of all the individual \n",
    "collection inside dataset\"\"\"\n",
    "# string * string multiplication is not possible\n",
    "# so it may mean multiplication of the numeric data of individual element:\n",
    "l7 = []\n",
    "for i in l:\n",
    "    if type(i) == list or type(i) == tuple or type(i) == set:\n",
    "        mul = 1\n",
    "        for j in i:\n",
    "            if type(j) == int:\n",
    "                mul = mul*j\n",
    "        l7.append(mul)\n",
    "        mul = 1\n",
    "    if type(i) == dict:\n",
    "        mul = 1\n",
    "        x = []\n",
    "        for k, v in i.items():\n",
    "            if type(k) == int:\n",
    "                x.append(k)\n",
    "            if type(v) == int:\n",
    "                x.append(v)\n",
    "        for m in x:\n",
    "            mul = mul*m\n",
    "        l7.append(mul)\n",
    "        x = []\n",
    "        mul = 1\n",
    "            \n",
    "print(l7)    "
   ]
  },
  {
   "cell_type": "code",
   "execution_count": 24,
   "id": "94c3f185",
   "metadata": {},
   "outputs": [
    {
     "name": "stdout",
     "output_type": "stream",
     "text": [
      "[1, 2, 3, 4, 2, 3, 4, 5, 6, 3, 4, 5, 6, 7, 45, 4, 5, 23, 'k1', 'sudh', 'k2', 'ineuron', 'k3', 'kumar', 3, 6, 7, 8, 'ineuron', 'datascience']\n"
     ]
    }
   ],
   "source": [
    "#Q15. Try to unwrape all the collection and create a flat list.\n",
    "\n",
    "l4 = []\n",
    "for i in l:\n",
    "    if type(i) == list or type(i) == tuple or type(i) == set:\n",
    "        for j in i:\n",
    "            l4.append(j)\n",
    "    if type(i) == dict:\n",
    "        for k,v in i.items():\n",
    "            l4.append(k)\n",
    "            l4.append(v)\n",
    "print(l4)"
   ]
  },
  {
   "cell_type": "code",
   "execution_count": null,
   "id": "c73213d5",
   "metadata": {},
   "outputs": [],
   "source": []
  }
 ],
 "metadata": {
  "kernelspec": {
   "display_name": "Python 3 (ipykernel)",
   "language": "python",
   "name": "python3"
  },
  "language_info": {
   "codemirror_mode": {
    "name": "ipython",
    "version": 3
   },
   "file_extension": ".py",
   "mimetype": "text/x-python",
   "name": "python",
   "nbconvert_exporter": "python",
   "pygments_lexer": "ipython3",
   "version": "3.8.13"
  }
 },
 "nbformat": 4,
 "nbformat_minor": 5
}
